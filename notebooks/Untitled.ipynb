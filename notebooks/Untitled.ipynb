{
 "cells": [
  {
   "cell_type": "code",
   "execution_count": null,
   "id": "751c1fe6",
   "metadata": {},
   "outputs": [],
   "source": [
    "\n",
    "\n",
    "import pickle\n",
    "\n",
    "# Open the file for reading\n",
    "with open('/Users/kaycei/K on Server (NoMachine)/KayCei/comprehensive_behavior_model.pkl', 'rb') as fr:\n",
    "    try:\n",
    "        # Use pickle.loads() with a specified protocol version\n",
    "        model = pickle.loads(fr.read(), encoding='bytes', fix_imports=False)\n",
    "    except ValueError as e:\n",
    "        print(f\"Error loading the model: {e}\")\n",
    "\n",
    "# Continue with predictions\n",
    "predictions = model.predict(features)\n"
   ]
  },
  {
   "cell_type": "code",
   "execution_count": null,
   "id": "f99e62db",
   "metadata": {},
   "outputs": [],
   "source": []
  }
 ],
 "metadata": {
  "kernelspec": {
   "display_name": "Python 3 (ipykernel)",
   "language": "python",
   "name": "python3"
  },
  "language_info": {
   "codemirror_mode": {
    "name": "ipython",
    "version": 3
   },
   "file_extension": ".py",
   "mimetype": "text/x-python",
   "name": "python",
   "nbconvert_exporter": "python",
   "pygments_lexer": "ipython3",
   "version": "3.11.5"
  }
 },
 "nbformat": 4,
 "nbformat_minor": 5
}
