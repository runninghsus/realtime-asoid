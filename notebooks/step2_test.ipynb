{
 "cells": [
  {
   "cell_type": "code",
   "execution_count": 38,
   "id": "d6f0d4b6",
   "metadata": {
    "ExecuteTime": {
     "end_time": "2023-11-10T23:19:38.739024Z",
     "start_time": "2023-11-10T23:19:37.851707Z"
    },
    "tags": []
   },
   "outputs": [],
   "source": [
    "import matplotlib.pyplot as plt\n",
    "import pandas as pd\n",
    "import sys\n",
    "sys.path.append(\"../\")\n",
    "from utils.preprocessing import *\n",
    "from scipy import stats"
   ]
  },
  {
   "cell_type": "code",
   "execution_count": 39,
   "id": "bfe79abf",
   "metadata": {
    "ExecuteTime": {
     "end_time": "2023-11-10T23:19:49.407915Z",
     "start_time": "2023-11-10T23:19:49.402413Z"
    }
   },
   "outputs": [],
   "source": [
    "pose = np.load('../processed_data/pose_video_exp_16.npy', allow_pickle=True)"
   ]
  },
  {
   "cell_type": "code",
   "execution_count": 40,
   "id": "7a56c37e",
   "metadata": {
    "ExecuteTime": {
     "end_time": "2023-11-10T23:20:00.934579Z",
     "start_time": "2023-11-10T23:19:50.462826Z"
    }
   },
   "outputs": [],
   "source": [
    "#Uncomment based on what software was used for recording \n",
    "#Uncomment if using OBS Studio Videos\n",
    "#features, scaled_features = feature_extraction([pose], 1, framerate=60)\n",
    "#Uncomment if using real-time videos\n",
    "features, scaled_features = feature_extraction([pose], 1, framerate=30)"
   ]
  },
  {
   "cell_type": "code",
   "execution_count": 41,
   "id": "ea3392b4",
   "metadata": {
    "ExecuteTime": {
     "end_time": "2023-11-10T23:20:00.938541Z",
     "start_time": "2023-11-10T23:20:00.935860Z"
    }
   },
   "outputs": [
    {
     "name": "stdout",
     "output_type": "stream",
     "text": [
      "features (39402, 36) dimension summarized pose with (118209, 12) dimension\n"
     ]
    }
   ],
   "source": [
    "print(f'features {features.shape} dimension summarized pose with {pose.shape} dimension')"
   ]
  },
  {
   "cell_type": "markdown",
   "id": "cc447f9b",
   "metadata": {},
   "source": [
    "### save processed features"
   ]
  },
  {
   "cell_type": "code",
   "execution_count": 42,
   "id": "9a6e9f0d",
   "metadata": {
    "ExecuteTime": {
     "end_time": "2023-11-10T23:20:00.945051Z",
     "start_time": "2023-11-10T23:20:00.939082Z"
    }
   },
   "outputs": [],
   "source": [
    "np.save('../processed_data/features_video_exp_16.npy', [features, scaled_features])"
   ]
  },
  {
   "cell_type": "code",
   "execution_count": 43,
   "id": "b4580dc5",
   "metadata": {
    "ExecuteTime": {
     "end_time": "2023-11-10T23:20:04.372246Z",
     "start_time": "2023-11-10T23:20:04.305039Z"
    }
   },
   "outputs": [
    {
     "data": {
      "image/png": "[encoded data removed]",
      "text/plain": [
       "<Figure size 1000x600 with 1 Axes>"
      ]
     },
     "metadata": {},
     "output_type": "display_data"
    }
   ],
   "source": [
    "# plot scaled features\n",
    "fig, ax = plt.subplots(1, 1, figsize=(10, 6))\n",
    "# skippign every 0.5s for better understanding\n",
    "ax.imshow(scaled_features.T[:, ::10], vmin=-2, vmax=2, cmap='RdBu_r')\n",
    "plt.show()"
   ]
  },
  {
   "cell_type": "code",
   "execution_count": null,
   "id": "81a3f59e",
   "metadata": {},
   "outputs": [],
   "source": []
  },
  {
   "cell_type": "code",
   "execution_count": null,
   "id": "a90b93a7",
   "metadata": {},
   "outputs": [],
   "source": []
  },
  {
   "cell_type": "code",
   "execution_count": null,
   "id": "5dd9298d",
   "metadata": {},
   "outputs": [],
   "source": []
  }
 ],
 "metadata": {
  "kernelspec": {
   "display_name": "Python 3 (ipykernel)",
   "language": "python",
   "name": "python3"
  },
  "language_info": {
   "codemirror_mode": {
    "name": "ipython",
    "version": 3
   },
   "file_extension": ".py",
   "mimetype": "text/x-python",
   "name": "python",
   "nbconvert_exporter": "python",
   "pygments_lexer": "ipython3",
   "version": "3.10.4"
  }
 },
 "nbformat": 4,
 "nbformat_minor": 5
}
