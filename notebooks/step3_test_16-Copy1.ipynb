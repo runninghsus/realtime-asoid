{
 "cells": [
  {
   "cell_type": "code",
   "execution_count": 1,
   "id": "63493d13",
   "metadata": {
    "ExecuteTime": {
     "end_time": "2023-12-01T21:04:00.929165Z",
     "start_time": "2023-12-01T21:04:00.923401Z"
    },
    "tags": []
   },
   "outputs": [],
   "source": [
    "import pickle\n",
    "import matplotlib.pyplot as plt\n",
    "import sys\n",
    "import os\n",
    "import pandas as pd\n",
    "\n",
    "sys.path.append(\"../\")\n",
    "from utils.preprocessing import *"
   ]
  },
  {
   "cell_type": "markdown",
   "id": "32c26d81",
   "metadata": {},
   "source": [
    "### predict using the model"
   ]
  },
  {
   "cell_type": "code",
   "execution_count": 4,
   "id": "ed2ce933",
   "metadata": {
    "ExecuteTime": {
     "end_time": "2023-12-01T20:56:32.924704Z",
     "start_time": "2023-12-01T20:56:32.269347Z"
    }
   },
   "outputs": [
    {
     "ename": "ValueError",
     "evalue": "node array from the pickle has an incompatible dtype:\n- expected: {'names': ['left_child', 'right_child', 'feature', 'threshold', 'impurity', 'n_node_samples', 'weighted_n_node_samples', 'missing_go_to_left'], 'formats': ['<i8', '<i8', '<i8', '<f8', '<f8', '<i8', '<f8', 'u1'], 'offsets': [0, 8, 16, 24, 32, 40, 48, 56], 'itemsize': 64}\n- got     : [('left_child', '<i8'), ('right_child', '<i8'), ('feature', '<i8'), ('threshold', '<f8'), ('impurity', '<f8'), ('n_node_samples', '<i8'), ('weighted_n_node_samples', '<f8')]",
     "output_type": "error",
     "traceback": [
      "\u001b[0;31m---------------------------------------------------------------------------\u001b[0m",
      "\u001b[0;31mValueError\u001b[0m                                Traceback (most recent call last)",
      "Cell \u001b[0;32mIn[4], line 8\u001b[0m\n\u001b[1;32m      5\u001b[0m [features, scaled_features] \u001b[38;5;241m=\u001b[39m np\u001b[38;5;241m.\u001b[39mload(\u001b[38;5;124m'\u001b[39m\u001b[38;5;124m../processed_data/features_video_exp_16.npy\u001b[39m\u001b[38;5;124m'\u001b[39m, allow_pickle\u001b[38;5;241m=\u001b[39m\u001b[38;5;28;01mTrue\u001b[39;00m)\n\u001b[1;32m      7\u001b[0m \u001b[38;5;66;03m# Load the model using joblib\u001b[39;00m\n\u001b[0;32m----> 8\u001b[0m model \u001b[38;5;241m=\u001b[39m joblib\u001b[38;5;241m.\u001b[39mload(\u001b[38;5;124m'\u001b[39m\u001b[38;5;124m/Users/kaycei/K on Server (NoMachine)/KayCei/comprehensive_behavior_model.pkl\u001b[39m\u001b[38;5;124m'\u001b[39m)\n\u001b[1;32m     10\u001b[0m \u001b[38;5;66;03m# Make predictions using the loaded model\u001b[39;00m\n\u001b[1;32m     11\u001b[0m predictions \u001b[38;5;241m=\u001b[39m model\u001b[38;5;241m.\u001b[39mpredict(features)\n",
      "File \u001b[0;32m~/anaconda3/lib/python3.11/site-packages/joblib/numpy_pickle.py:658\u001b[0m, in \u001b[0;36mload\u001b[0;34m(filename, mmap_mode)\u001b[0m\n\u001b[1;32m    652\u001b[0m             \u001b[38;5;28;01mif\u001b[39;00m \u001b[38;5;28misinstance\u001b[39m(fobj, \u001b[38;5;28mstr\u001b[39m):\n\u001b[1;32m    653\u001b[0m                 \u001b[38;5;66;03m# if the returned file object is a string, this means we\u001b[39;00m\n\u001b[1;32m    654\u001b[0m                 \u001b[38;5;66;03m# try to load a pickle file generated with an version of\u001b[39;00m\n\u001b[1;32m    655\u001b[0m                 \u001b[38;5;66;03m# Joblib so we load it with joblib compatibility function.\u001b[39;00m\n\u001b[1;32m    656\u001b[0m                 \u001b[38;5;28;01mreturn\u001b[39;00m load_compatibility(fobj)\n\u001b[0;32m--> 658\u001b[0m             obj \u001b[38;5;241m=\u001b[39m _unpickle(fobj, filename, mmap_mode)\n\u001b[1;32m    659\u001b[0m \u001b[38;5;28;01mreturn\u001b[39;00m obj\n",
      "File \u001b[0;32m~/anaconda3/lib/python3.11/site-packages/joblib/numpy_pickle.py:577\u001b[0m, in \u001b[0;36m_unpickle\u001b[0;34m(fobj, filename, mmap_mode)\u001b[0m\n\u001b[1;32m    575\u001b[0m obj \u001b[38;5;241m=\u001b[39m \u001b[38;5;28;01mNone\u001b[39;00m\n\u001b[1;32m    576\u001b[0m \u001b[38;5;28;01mtry\u001b[39;00m:\n\u001b[0;32m--> 577\u001b[0m     obj \u001b[38;5;241m=\u001b[39m unpickler\u001b[38;5;241m.\u001b[39mload()\n\u001b[1;32m    578\u001b[0m     \u001b[38;5;28;01mif\u001b[39;00m unpickler\u001b[38;5;241m.\u001b[39mcompat_mode:\n\u001b[1;32m    579\u001b[0m         warnings\u001b[38;5;241m.\u001b[39mwarn(\u001b[38;5;124m\"\u001b[39m\u001b[38;5;124mThe file \u001b[39m\u001b[38;5;124m'\u001b[39m\u001b[38;5;132;01m%s\u001b[39;00m\u001b[38;5;124m'\u001b[39m\u001b[38;5;124m has been generated with a \u001b[39m\u001b[38;5;124m\"\u001b[39m\n\u001b[1;32m    580\u001b[0m                       \u001b[38;5;124m\"\u001b[39m\u001b[38;5;124mjoblib version less than 0.10. \u001b[39m\u001b[38;5;124m\"\u001b[39m\n\u001b[1;32m    581\u001b[0m                       \u001b[38;5;124m\"\u001b[39m\u001b[38;5;124mPlease regenerate this pickle file.\u001b[39m\u001b[38;5;124m\"\u001b[39m\n\u001b[1;32m    582\u001b[0m                       \u001b[38;5;241m%\u001b[39m filename,\n\u001b[1;32m    583\u001b[0m                       \u001b[38;5;167;01mDeprecationWarning\u001b[39;00m, stacklevel\u001b[38;5;241m=\u001b[39m\u001b[38;5;241m3\u001b[39m)\n",
      "File \u001b[0;32m~/anaconda3/lib/python3.11/pickle.py:1213\u001b[0m, in \u001b[0;36m_Unpickler.load\u001b[0;34m(self)\u001b[0m\n\u001b[1;32m   1211\u001b[0m             \u001b[38;5;28;01mraise\u001b[39;00m \u001b[38;5;167;01mEOFError\u001b[39;00m\n\u001b[1;32m   1212\u001b[0m         \u001b[38;5;28;01massert\u001b[39;00m \u001b[38;5;28misinstance\u001b[39m(key, bytes_types)\n\u001b[0;32m-> 1213\u001b[0m         dispatch[key[\u001b[38;5;241m0\u001b[39m]](\u001b[38;5;28mself\u001b[39m)\n\u001b[1;32m   1214\u001b[0m \u001b[38;5;28;01mexcept\u001b[39;00m _Stop \u001b[38;5;28;01mas\u001b[39;00m stopinst:\n\u001b[1;32m   1215\u001b[0m     \u001b[38;5;28;01mreturn\u001b[39;00m stopinst\u001b[38;5;241m.\u001b[39mvalue\n",
      "File \u001b[0;32m~/anaconda3/lib/python3.11/site-packages/joblib/numpy_pickle.py:402\u001b[0m, in \u001b[0;36mNumpyUnpickler.load_build\u001b[0;34m(self)\u001b[0m\n\u001b[1;32m    394\u001b[0m \u001b[38;5;28;01mdef\u001b[39;00m \u001b[38;5;21mload_build\u001b[39m(\u001b[38;5;28mself\u001b[39m):\n\u001b[1;32m    395\u001b[0m \u001b[38;5;250m    \u001b[39m\u001b[38;5;124;03m\"\"\"Called to set the state of a newly created object.\u001b[39;00m\n\u001b[1;32m    396\u001b[0m \n\u001b[1;32m    397\u001b[0m \u001b[38;5;124;03m    We capture it to replace our place-holder objects, NDArrayWrapper or\u001b[39;00m\n\u001b[0;32m   (...)\u001b[0m\n\u001b[1;32m    400\u001b[0m \u001b[38;5;124;03m    NDArrayWrapper is used for backward compatibility with joblib <= 0.9.\u001b[39;00m\n\u001b[1;32m    401\u001b[0m \u001b[38;5;124;03m    \"\"\"\u001b[39;00m\n\u001b[0;32m--> 402\u001b[0m     Unpickler\u001b[38;5;241m.\u001b[39mload_build(\u001b[38;5;28mself\u001b[39m)\n\u001b[1;32m    404\u001b[0m     \u001b[38;5;66;03m# For backward compatibility, we support NDArrayWrapper objects.\u001b[39;00m\n\u001b[1;32m    405\u001b[0m     \u001b[38;5;28;01mif\u001b[39;00m \u001b[38;5;28misinstance\u001b[39m(\u001b[38;5;28mself\u001b[39m\u001b[38;5;241m.\u001b[39mstack[\u001b[38;5;241m-\u001b[39m\u001b[38;5;241m1\u001b[39m], (NDArrayWrapper, NumpyArrayWrapper)):\n",
      "File \u001b[0;32m~/anaconda3/lib/python3.11/pickle.py:1718\u001b[0m, in \u001b[0;36m_Unpickler.load_build\u001b[0;34m(self)\u001b[0m\n\u001b[1;32m   1716\u001b[0m setstate \u001b[38;5;241m=\u001b[39m \u001b[38;5;28mgetattr\u001b[39m(inst, \u001b[38;5;124m\"\u001b[39m\u001b[38;5;124m__setstate__\u001b[39m\u001b[38;5;124m\"\u001b[39m, \u001b[38;5;28;01mNone\u001b[39;00m)\n\u001b[1;32m   1717\u001b[0m \u001b[38;5;28;01mif\u001b[39;00m setstate \u001b[38;5;129;01mis\u001b[39;00m \u001b[38;5;129;01mnot\u001b[39;00m \u001b[38;5;28;01mNone\u001b[39;00m:\n\u001b[0;32m-> 1718\u001b[0m     setstate(state)\n\u001b[1;32m   1719\u001b[0m     \u001b[38;5;28;01mreturn\u001b[39;00m\n\u001b[1;32m   1720\u001b[0m slotstate \u001b[38;5;241m=\u001b[39m \u001b[38;5;28;01mNone\u001b[39;00m\n",
      "File \u001b[0;32msklearn/tree/_tree.pyx:865\u001b[0m, in \u001b[0;36msklearn.tree._tree.Tree.__setstate__\u001b[0;34m()\u001b[0m\n",
      "File \u001b[0;32msklearn/tree/_tree.pyx:1571\u001b[0m, in \u001b[0;36msklearn.tree._tree._check_node_ndarray\u001b[0;34m()\u001b[0m\n",
      "\u001b[0;31mValueError\u001b[0m: node array from the pickle has an incompatible dtype:\n- expected: {'names': ['left_child', 'right_child', 'feature', 'threshold', 'impurity', 'n_node_samples', 'weighted_n_node_samples', 'missing_go_to_left'], 'formats': ['<i8', '<i8', '<i8', '<f8', '<f8', '<i8', '<f8', 'u1'], 'offsets': [0, 8, 16, 24, 32, 40, 48, 56], 'itemsize': 64}\n- got     : [('left_child', '<i8'), ('right_child', '<i8'), ('feature', '<i8'), ('threshold', '<f8'), ('impurity', '<f8'), ('n_node_samples', '<i8'), ('weighted_n_node_samples', '<f8')]"
     ]
    }
   ],
   "source": [
    "import numpy as np\n",
    "import joblib\n",
    "\n",
    "# Load the features from a NumPy file\n",
    "[features, scaled_features] = np.load('../processed_data/features_video_exp_16.npy', allow_pickle=True)\n",
    "\n",
    "# Load the model using joblib\n",
    "model = joblib.load('/Users/kaycei/K on Server (NoMachine)/KayCei/comprehensive_behavior_model.pkl')\n",
    "\n",
    "# Make predictions using the loaded model\n",
    "predictions = model.predict(features)\n",
    "\n"
   ]
  },
  {
   "cell_type": "code",
   "execution_count": 108,
   "id": "20b045b6",
   "metadata": {
    "ExecuteTime": {
     "end_time": "2023-12-01T20:58:11.088603Z",
     "start_time": "2023-12-01T20:58:11.049915Z"
    }
   },
   "outputs": [
    {
     "data": {
      "text/plain": [
       "(29, 29)"
      ]
     },
     "execution_count": 108,
     "metadata": {},
     "output_type": "execute_result"
    }
   ],
   "source": [
    "behavior_nonest_cats = ['torso_groom', 'investigate_0', 'unsure_0', 'wall_rear_0', 'rear_0',\n",
    "                        'unsure_2', 'rear', 'investigate_1', 'investigate_2', 'right_itch',\n",
    "                        'investigate_3', 'sleep_scrunch_0', 'sleep_scrunch_1', 'wall_rear_1', 'right_body_groom',\n",
    "                        'face_groom_1', 'dive_scrunch', 'head_groom', 'left_orient', 'left_investigate',\n",
    "                        'face_groom_2', 'left_body groom', 'left_itch_1', 'left_itch_2', 'face_groom_3',\n",
    "                        'paw_groom', 'locomotion', 'right_forepaw_orient', 'right_orient']\n",
    "\n",
    "len(behavior_nonest_cats), model.n_classes_"
   ]
  },
  {
   "cell_type": "code",
   "execution_count": 109,
   "id": "f3a4e4e6",
   "metadata": {
    "ExecuteTime": {
     "end_time": "2023-12-01T21:20:14.235366Z",
     "start_time": "2023-12-01T21:20:14.232306Z"
    }
   },
   "outputs": [
    {
     "data": {
      "text/plain": [
       "15"
      ]
     },
     "execution_count": 109,
     "metadata": {},
     "output_type": "execute_result"
    }
   ],
   "source": [
    "behavior_nonest_cats.index('face_groom_1')"
   ]
  },
  {
   "cell_type": "code",
   "execution_count": 110,
   "id": "8542acce",
   "metadata": {
    "ExecuteTime": {
     "end_time": "2023-12-01T21:01:29.305779Z",
     "start_time": "2023-12-01T21:01:29.301537Z"
    }
   },
   "outputs": [
    {
     "data": {
      "text/plain": [
       "16"
      ]
     },
     "execution_count": 110,
     "metadata": {},
     "output_type": "execute_result"
    }
   ],
   "source": [
    "behavior_nonest_merged = [6, 7, 8, 9, 10, 14, 15, 16, 17, 18, 20, 21, 22, 25, 26, 28]\n",
    "len(behavior_nonest_merged)"
   ]
  },
  {
   "cell_type": "code",
   "execution_count": 111,
   "id": "d2512aa1",
   "metadata": {
    "ExecuteTime": {
     "end_time": "2023-12-01T21:03:32.211928Z",
     "start_time": "2023-12-01T21:03:32.208829Z"
    }
   },
   "outputs": [],
   "source": [
    "total_counts = {key:  [] for key in [behavior_nonest_cats[j] \n",
    "                                     for j in behavior_nonest_merged]}\n",
    "\n",
    "for i in behavior_nonest_merged:\n",
    "    total_counts[behavior_nonest_cats[i]] = len(np.where(predictions==i)[0])"
   ]
  },
  {
   "cell_type": "code",
   "execution_count": 112,
   "id": "48cbf2b4",
   "metadata": {
    "ExecuteTime": {
     "end_time": "2023-12-01T21:05:02.721073Z",
     "start_time": "2023-12-01T21:05:02.716283Z"
    }
   },
   "outputs": [],
   "source": [
    "df_counts_100ms = pd.DataFrame(total_counts, index=[0])\n",
    "df_counts_100ms.to_csv('../test_behavior_counts.csv', index=None)"
   ]
  },
  {
   "cell_type": "code",
   "execution_count": 113,
   "id": "2a242c5a",
   "metadata": {
    "scrolled": true
   },
   "outputs": [
    {
     "name": "stdout",
     "output_type": "stream",
     "text": [
      "Saved the CSV file to /Users/Shared/K/KayCei/HDC/AH4-KO/121423-BRIGHT FIELD/test_behavior_counts.csv\n"
     ]
    }
   ],
   "source": [
    "%store -r save_path\n",
    "# Check if save_path is defined\n",
    "if save_path:\n",
    "    filename = os.path.join(save_path, 'test_behavior_counts.csv')\n",
    "    df_counts_100ms.to_csv(filename, index=None)\n",
    "    print(f'Saved the CSV file to {filename}')\n",
    "else:\n",
    "    print(\"Variable 'save_path' is not defined.\")"
   ]
  },
  {
   "cell_type": "code",
   "execution_count": 114,
   "id": "1d729d3e",
   "metadata": {
    "ExecuteTime": {
     "end_time": "2023-12-01T20:59:43.820868Z",
     "start_time": "2023-12-01T20:59:43.817071Z"
    }
   },
   "outputs": [
    {
     "ename": "ValueError",
     "evalue": "'contra_orient' is not in list",
     "output_type": "error",
     "traceback": [
      "\u001b[0;31m---------------------------------------------------------------------------\u001b[0m",
      "\u001b[0;31mValueError\u001b[0m                                Traceback (most recent call last)",
      "Cell \u001b[0;32mIn[114], line 2\u001b[0m\n\u001b[1;32m      1\u001b[0m total_loco \u001b[38;5;241m=\u001b[39m \u001b[38;5;28mlen\u001b[39m(np\u001b[38;5;241m.\u001b[39mwhere(predictions\u001b[38;5;241m==\u001b[39mbehavior_nonest_cats\u001b[38;5;241m.\u001b[39mindex(\u001b[38;5;124m'\u001b[39m\u001b[38;5;124mlocomotion\u001b[39m\u001b[38;5;124m'\u001b[39m))[\u001b[38;5;241m0\u001b[39m])\n\u001b[0;32m----> 2\u001b[0m total_contra \u001b[38;5;241m=\u001b[39m \u001b[38;5;28mlen\u001b[39m(np\u001b[38;5;241m.\u001b[39mwhere(predictions\u001b[38;5;241m==\u001b[39mbehavior_nonest_cats\u001b[38;5;241m.\u001b[39mindex(\u001b[38;5;124m'\u001b[39m\u001b[38;5;124mcontra_orient\u001b[39m\u001b[38;5;124m'\u001b[39m))[\u001b[38;5;241m0\u001b[39m])\n",
      "\u001b[0;31mValueError\u001b[0m: 'contra_orient' is not in list"
     ]
    }
   ],
   "source": [
    "total_loco = len(np.where(predictions==behavior_nonest_cats.index('locomotion'))[0])\n",
    "total_contra = len(np.where(predictions==behavior_nonest_cats.index('contra_orient'))[0])"
   ]
  },
  {
   "cell_type": "code",
   "execution_count": 115,
   "id": "9b4a8fe6",
   "metadata": {
    "ExecuteTime": {
     "end_time": "2023-12-01T21:00:46.297927Z",
     "start_time": "2023-12-01T21:00:46.221712Z"
    }
   },
   "outputs": [
    {
     "ename": "NameError",
     "evalue": "name 'total_contra' is not defined",
     "output_type": "error",
     "traceback": [
      "\u001b[0;31m---------------------------------------------------------------------------\u001b[0m",
      "\u001b[0;31mNameError\u001b[0m                                 Traceback (most recent call last)",
      "Cell \u001b[0;32mIn[115], line 1\u001b[0m\n\u001b[0;32m----> 1\u001b[0m comp_loco_contra \u001b[38;5;241m=\u001b[39m [total_loco, total_contra]\n\u001b[1;32m      2\u001b[0m plt\u001b[38;5;241m.\u001b[39mbar(np\u001b[38;5;241m.\u001b[39marange(\u001b[38;5;28mlen\u001b[39m(comp_loco_contra)), comp_loco_contra)\n",
      "\u001b[0;31mNameError\u001b[0m: name 'total_contra' is not defined"
     ]
    }
   ],
   "source": [
    "comp_loco_contra = [total_loco, total_contra]\n",
    "plt.bar(np.arange(len(comp_loco_contra)), comp_loco_contra)"
   ]
  },
  {
   "cell_type": "markdown",
   "id": "8363d836",
   "metadata": {},
   "source": [
    "### place side-by-side to visualize pattern"
   ]
  },
  {
   "cell_type": "code",
   "execution_count": 116,
   "id": "ef56c6e6",
   "metadata": {
    "ExecuteTime": {
     "end_time": "2023-12-01T20:56:58.294466Z",
     "start_time": "2023-12-01T20:56:58.060496Z"
    }
   },
   "outputs": [
    {
     "data": {
      "image/png": "[encoded data removed]",
      "text/plain": [
       "<Figure size 1500x300 with 2 Axes>"
      ]
     },
     "metadata": {},
     "output_type": "display_data"
    }
   ],
   "source": [
    "# plot scaled features with the corresponding predictions\n",
    "fig, ax = plt.subplots(2, 1, figsize=(15, 3), gridspec_kw={'height_ratios': [6, 1]}, sharex=True)\n",
    "# first 30 seconds\n",
    "ax[0].imshow(scaled_features.T[:, ::10], vmin=-2, vmax=2, cmap='RdBu_r')\n",
    "ax[1].scatter(np.arange(len(predictions[::10])), predictions[::10], s=1, color='k')\n",
    "plt.show()"
   ]
  },
  {
   "cell_type": "code",
   "execution_count": 117,
   "id": "f9318a01",
   "metadata": {
    "ExecuteTime": {
     "end_time": "2023-11-10T23:20:24.813956Z",
     "start_time": "2023-11-10T23:20:24.807724Z"
    }
   },
   "outputs": [
    {
     "data": {
      "text/plain": [
       "array([26, 18, 18,  8,  8,  8, 26,  8,  8,  8, 26, 26, 18, 26, 26, 26, 26,\n",
       "       26, 26, 26, 26, 26, 26, 26, 26, 26, 26, 27,  8, 26, 18, 26, 26, 26,\n",
       "       26, 26, 26, 26,  8,  8, 26, 26, 26, 28, 28, 27,  8, 26,  8,  8])"
      ]
     },
     "execution_count": 117,
     "metadata": {},
     "output_type": "execute_result"
    }
   ],
   "source": [
    "predictions[:50]"
   ]
  },
  {
   "cell_type": "code",
   "execution_count": 118,
   "id": "30dc3cf6",
   "metadata": {
    "ExecuteTime": {
     "end_time": "2023-11-10T23:20:31.422087Z",
     "start_time": "2023-11-10T23:20:31.413496Z"
    }
   },
   "outputs": [
    {
     "data": {
      "text/plain": [
       "(array([ 0,  1,  2,  3,  4,  5,  6,  7,  8,  9, 10, 11, 12, 13, 14, 15, 16,\n",
       "        17, 18, 19, 20, 21, 22, 23, 24, 25, 26, 27, 28]),\n",
       " array([   1,   16,    7,   59,    7,  430,   95,  690, 4655,  454,  645,\n",
       "           3,    1,    3,    3,  376,  298,   67, 1218,   11,   70,   22,\n",
       "          68,  104,  100,  169, 3944,  252, 1112]))"
      ]
     },
     "execution_count": 118,
     "metadata": {},
     "output_type": "execute_result"
    }
   ],
   "source": [
    "idx_start = np.where(np.diff(predictions)!=0)[0]+1\n",
    "np.unique([predictions[id_start] for id_start in idx_start], return_counts=True)"
   ]
  },
  {
   "cell_type": "markdown",
   "id": "432fa712",
   "metadata": {},
   "source": [
    "### Save processed file"
   ]
  },
  {
   "cell_type": "code",
   "execution_count": 119,
   "id": "6c86239e",
   "metadata": {
    "ExecuteTime": {
     "end_time": "2023-12-01T21:06:49.832774Z",
     "start_time": "2023-12-01T21:06:49.828945Z"
    }
   },
   "outputs": [],
   "source": [
    "np.save('../processed_data/predict_video_2.npy', predictions)"
   ]
  },
  {
   "cell_type": "code",
   "execution_count": 120,
   "id": "d01df29a",
   "metadata": {},
   "outputs": [],
   "source": [
    "%store -r save_path\n",
    "np.save(os.path.join(save_path, 'predict_video_exp_16.npy'), predictions)"
   ]
  },
  {
   "cell_type": "code",
   "execution_count": 121,
   "id": "8de37bbe",
   "metadata": {
    "ExecuteTime": {
     "end_time": "2023-11-10T23:21:07.464839Z",
     "start_time": "2023-11-10T23:21:07.456531Z"
    }
   },
   "outputs": [
    {
     "data": {
      "text/plain": [
       "array([ 206.5,  255.4,  255.7,  316.1,  316.2,  316.3,  316.4,  316.5,\n",
       "        317.1,  324.4,  324.5,  326.1,  326.2,  340.3,  340.6,  342.5,\n",
       "        345.9,  456.3,  628.6,  628.7,  706.2,  836.7,  861.1,  867.1,\n",
       "        867.4,  925.3,  943.5,  943.6,  943.7,  943.8,  943.9,  963.7,\n",
       "       1036.3, 1496.5, 1496.6, 1508.1, 1534.7, 1544.5, 1773. , 1773.1,\n",
       "       1800.4, 1826.4, 1885.8, 1987.8, 2328.3, 2410.4, 2527.4, 2528.9,\n",
       "       2530.7, 2533.7, 2534. , 2535.7, 2536.4, 2617.5, 2838.2, 2838.3,\n",
       "       2921.6, 3031.3, 3031.4, 3155.4, 3434.4, 3434.9, 3435. , 3435.3,\n",
       "       3443.1, 3443.6, 3444. , 3444.4, 3444.8, 3445. , 3457.2, 3483.6,\n",
       "       3510.7, 3571.2, 3589.1])"
      ]
     },
     "execution_count": 121,
     "metadata": {},
     "output_type": "execute_result"
    }
   ],
   "source": [
    "stim_on = 3\n",
    "# in seconds, when did the animal perform behavior 2\n",
    "behavior_times = np.where(predictions==stim_on)[0]/10\n",
    "behavior_times"
   ]
  },
  {
   "cell_type": "code",
   "execution_count": 122,
   "id": "7b5ebb48",
   "metadata": {
    "ExecuteTime": {
     "end_time": "2023-11-10T23:25:33.881830Z",
     "start_time": "2023-11-10T23:25:33.827441Z"
    }
   },
   "outputs": [
    {
     "data": {
      "image/png": "[encoded data removed]",
      "text/plain": [
       "<Figure size 1000x200 with 1 Axes>"
      ]
     },
     "metadata": {},
     "output_type": "display_data"
    }
   ],
   "source": [
    "fig, ax = plt.subplots(1, 1, figsize=(10, 2))\n",
    "# ax.plot(onset_times,\n",
    "#         np.ones_like(onset_times),\n",
    "#         ls='', marker='|', markersize=1, c='k', alpha=1)\n",
    "ax.plot(behavior_times,\n",
    "        np.ones_like(behavior_times)+0.5,\n",
    "        ls='', marker='|', markersize=1, c='r', alpha=1)\n",
    "ax.set_yticks([])\n",
    "ax.vlines(5*60, 0.5, 2)\n",
    "ax.vlines(35*60, 0.5, 2)\n",
    "ax.vlines(65*60, 0.5, 2)\n",
    "ax.set_ylim([0.5, 2])\n",
    "\n",
    "# ax.set_xlim([50, 100])\n",
    "ax.set_title('Behavior predictions')\n",
    "ax.spines[['right', 'top']].set_visible(False)\n",
    "ax.set_xlabel('Time (s)')\n",
    "plt.show()"
   ]
  },
  {
   "cell_type": "code",
   "execution_count": null,
   "id": "2b1969f2",
   "metadata": {},
   "outputs": [],
   "source": []
  },
  {
   "cell_type": "code",
   "execution_count": null,
   "id": "ae884432",
   "metadata": {},
   "outputs": [],
   "source": []
  }
 ],
 "metadata": {
  "kernelspec": {
   "display_name": "Python 3 (ipykernel)",
   "language": "python",
   "name": "python3"
  },
  "language_info": {
   "codemirror_mode": {
    "name": "ipython",
    "version": 3
   },
   "file_extension": ".py",
   "mimetype": "text/x-python",
   "name": "python",
   "nbconvert_exporter": "python",
   "pygments_lexer": "ipython3",
   "version": "3.11.5"
  }
 },
 "nbformat": 4,
 "nbformat_minor": 5
}
