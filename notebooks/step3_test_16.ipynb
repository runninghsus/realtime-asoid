{
 "cells": [
  {
   "cell_type": "code",
   "execution_count": 30,
   "metadata": {
    "ExecuteTime": {
     "end_time": "2023-12-01T21:04:00.929165Z",
     "start_time": "2023-12-01T21:04:00.923401Z"
    },
    "tags": []
   },
   "outputs": [],
   "source": [
    "import pickle\n",
    "import matplotlib.pyplot as plt\n",
    "import sys\n",
    "\n",
    "import pandas as pd\n",
    "\n",
    "sys.path.append(\"../\")\n",
    "from utils.preprocessing import *"
   ]
  },
  {
   "cell_type": "markdown",
   "metadata": {},
   "source": [
    "### predict using the model"
   ]
  },
  {
   "cell_type": "code",
   "execution_count": 31,
   "metadata": {
    "ExecuteTime": {
     "end_time": "2023-12-01T20:56:32.924704Z",
     "start_time": "2023-12-01T20:56:32.269347Z"
    }
   },
   "outputs": [],
   "source": [
    "[features, scaled_features] = np.load('../processed_data/features_video_exp_16.npy', allow_pickle=True)\n",
    "with open('Z:/hsu/output/comprehensive_behavior_model.pkl', 'rb') as fr:\n",
    "    model = pickle.load(fr)\n",
    "predictions = model.predict(features)"
   ]
  },
  {
   "cell_type": "code",
   "execution_count": 32,
   "metadata": {
    "ExecuteTime": {
     "end_time": "2023-12-01T20:58:11.088603Z",
     "start_time": "2023-12-01T20:58:11.049915Z"
    }
   },
   "outputs": [
    {
     "data": {
      "text/plain": [
       "(29, 29)"
      ]
     },
     "execution_count": 32,
     "metadata": {},
     "output_type": "execute_result"
    }
   ],
   "source": [
    "behavior_nonest_cats = ['torso_groom', 'investigate_0', 'unsure_0', 'wall_rear_0', 'rear_0',\n",
    "                        'unsure_2', 'rear', 'investigate_1', 'investigate_2', 'right_itch',\n",
    "                        'investigate_3', 'sleep_scrunch_0', 'sleep_scrunch_1', 'wall_rear_1', 'right_body_groom',\n",
    "                        'face_groom_1', 'dive_scrunch', 'head_groom', 'left_orient', 'left_investigate',\n",
    "                        'face_groom_2', 'left_body groom', 'left_itch_1', 'left_itch_2', 'face_groom_3',\n",
    "                        'paw_groom', 'locomotion', 'right_forepaw_orient', 'right_orient']\n",
    "\n",
    "len(behavior_nonest_cats), model.n_classes_"
   ]
  },
  {
   "cell_type": "code",
   "execution_count": 33,
   "metadata": {
    "ExecuteTime": {
     "end_time": "2023-12-01T21:20:14.235366Z",
     "start_time": "2023-12-01T21:20:14.232306Z"
    }
   },
   "outputs": [
    {
     "data": {
      "text/plain": [
       "15"
      ]
     },
     "execution_count": 33,
     "metadata": {},
     "output_type": "execute_result"
    }
   ],
   "source": [
    "behavior_nonest_cats.index('face_groom_1')"
   ]
  },
  {
   "cell_type": "code",
   "execution_count": 34,
   "metadata": {
    "ExecuteTime": {
     "end_time": "2023-12-01T21:01:29.305779Z",
     "start_time": "2023-12-01T21:01:29.301537Z"
    }
   },
   "outputs": [
    {
     "data": {
      "text/plain": [
       "16"
      ]
     },
     "execution_count": 34,
     "metadata": {},
     "output_type": "execute_result"
    }
   ],
   "source": [
    "behavior_nonest_merged = [6, 7, 8, 9, 10, 14, 15, 16, 17, 18, 20, 21, 22, 25, 26, 28]\n",
    "len(behavior_nonest_merged)"
   ]
  },
  {
   "cell_type": "code",
   "execution_count": 35,
   "metadata": {
    "ExecuteTime": {
     "end_time": "2023-12-01T21:03:32.211928Z",
     "start_time": "2023-12-01T21:03:32.208829Z"
    }
   },
   "outputs": [],
   "source": [
    "total_counts = {key:  [] for key in [behavior_nonest_cats[j] \n",
    "                                     for j in behavior_nonest_merged]}\n",
    "\n",
    "for i in behavior_nonest_merged:\n",
    "    total_counts[behavior_nonest_cats[i]] = len(np.where(predictions==i)[0])"
   ]
  },
  {
   "cell_type": "code",
   "execution_count": 36,
   "metadata": {
    "ExecuteTime": {
     "end_time": "2023-12-01T21:05:02.721073Z",
     "start_time": "2023-12-01T21:05:02.716283Z"
    }
   },
   "outputs": [],
   "source": [
    "df_counts_100ms = pd.DataFrame(total_counts, index=[0])\n",
    "df_counts_100ms.to_csv('../test_behavior_counts.csv', index=None)"
   ]
  },
  {
   "cell_type": "code",
   "execution_count": 37,
   "metadata": {
    "ExecuteTime": {
     "end_time": "2023-12-01T20:59:43.820868Z",
     "start_time": "2023-12-01T20:59:43.817071Z"
    }
   },
   "outputs": [
    {
     "ename": "ValueError",
     "evalue": "'contra_orient' is not in list",
     "output_type": "error",
     "traceback": [
      "\u001b[1;31m---------------------------------------------------------------------------\u001b[0m",
      "\u001b[1;31mValueError\u001b[0m                                Traceback (most recent call last)",
      "Input \u001b[1;32mIn [37]\u001b[0m, in \u001b[0;36m<cell line: 2>\u001b[1;34m()\u001b[0m\n\u001b[0;32m      1\u001b[0m total_loco \u001b[38;5;241m=\u001b[39m \u001b[38;5;28mlen\u001b[39m(np\u001b[38;5;241m.\u001b[39mwhere(predictions\u001b[38;5;241m==\u001b[39mbehavior_nonest_cats\u001b[38;5;241m.\u001b[39mindex(\u001b[38;5;124m'\u001b[39m\u001b[38;5;124mlocomotion\u001b[39m\u001b[38;5;124m'\u001b[39m))[\u001b[38;5;241m0\u001b[39m])\n\u001b[1;32m----> 2\u001b[0m total_contra \u001b[38;5;241m=\u001b[39m \u001b[38;5;28mlen\u001b[39m(np\u001b[38;5;241m.\u001b[39mwhere(predictions\u001b[38;5;241m==\u001b[39m\u001b[43mbehavior_nonest_cats\u001b[49m\u001b[38;5;241;43m.\u001b[39;49m\u001b[43mindex\u001b[49m\u001b[43m(\u001b[49m\u001b[38;5;124;43m'\u001b[39;49m\u001b[38;5;124;43mcontra_orient\u001b[39;49m\u001b[38;5;124;43m'\u001b[39;49m\u001b[43m)\u001b[49m)[\u001b[38;5;241m0\u001b[39m])\n",
      "\u001b[1;31mValueError\u001b[0m: 'contra_orient' is not in list"
     ]
    }
   ],
   "source": [
    "total_loco = len(np.where(predictions==behavior_nonest_cats.index('locomotion'))[0])\n",
    "total_contra = len(np.where(predictions==behavior_nonest_cats.index('contra_orient'))[0])"
   ]
  },
  {
   "cell_type": "code",
   "execution_count": 38,
   "metadata": {
    "ExecuteTime": {
     "end_time": "2023-12-01T21:00:46.297927Z",
     "start_time": "2023-12-01T21:00:46.221712Z"
    }
   },
   "outputs": [
    {
     "ename": "NameError",
     "evalue": "name 'total_contra' is not defined",
     "output_type": "error",
     "traceback": [
      "\u001b[1;31m---------------------------------------------------------------------------\u001b[0m",
      "\u001b[1;31mNameError\u001b[0m                                 Traceback (most recent call last)",
      "Input \u001b[1;32mIn [38]\u001b[0m, in \u001b[0;36m<cell line: 1>\u001b[1;34m()\u001b[0m\n\u001b[1;32m----> 1\u001b[0m comp_loco_contra \u001b[38;5;241m=\u001b[39m [total_loco, \u001b[43mtotal_contra\u001b[49m]\n\u001b[0;32m      2\u001b[0m plt\u001b[38;5;241m.\u001b[39mbar(np\u001b[38;5;241m.\u001b[39marange(\u001b[38;5;28mlen\u001b[39m(comp_loco_contra)), comp_loco_contra)\n",
      "\u001b[1;31mNameError\u001b[0m: name 'total_contra' is not defined"
     ]
    }
   ],
   "source": [
    "comp_loco_contra = [total_loco, total_contra]\n",
    "plt.bar(np.arange(len(comp_loco_contra)), comp_loco_contra)"
   ]
  },
  {
   "cell_type": "markdown",
   "metadata": {},
   "source": [
    "### place side-by-side to visualize pattern"
   ]
  },
  {
   "cell_type": "code",
   "execution_count": 39,
   "metadata": {
    "ExecuteTime": {
     "end_time": "2023-12-01T20:56:58.294466Z",
     "start_time": "2023-12-01T20:56:58.060496Z"
    }
   },
   "outputs": [
    {
     "data": {
      "image/png": "[encoded data removed]",
      "text/plain": [
       "<Figure size 1500x300 with 2 Axes>"
      ]
     },
     "metadata": {},
     "output_type": "display_data"
    }
   ],
   "source": [
    "# plot scaled features with the corresponding predictions\n",
    "fig, ax = plt.subplots(2, 1, figsize=(15, 3), gridspec_kw={'height_ratios': [6, 1]}, sharex=True)\n",
    "# first 30 seconds\n",
    "ax[0].imshow(scaled_features.T[:, ::10], vmin=-2, vmax=2, cmap='RdBu_r')\n",
    "ax[1].scatter(np.arange(len(predictions[::10])), predictions[::10], s=1, color='k')\n",
    "plt.show()"
   ]
  },
  {
   "cell_type": "code",
   "execution_count": null,
   "metadata": {
    "ExecuteTime": {
     "end_time": "2023-11-10T23:20:24.813956Z",
     "start_time": "2023-11-10T23:20:24.807724Z"
    }
   },
   "outputs": [],
   "source": [
    "predictions[:50]"
   ]
  },
  {
   "cell_type": "code",
   "execution_count": 28,
   "metadata": {
    "ExecuteTime": {
     "end_time": "2023-11-10T23:20:31.422087Z",
     "start_time": "2023-11-10T23:20:31.413496Z"
    }
   },
   "outputs": [
    {
     "data": {
      "text/plain": [
       "(array([ 0,  1,  2,  3,  4,  5,  6,  7,  8,  9, 10, 11, 12, 13, 14, 15, 16,\n",
       "        17, 18, 19, 20, 21, 22, 23, 24, 25, 26, 27, 28], dtype=int64),\n",
       " array([   4,   71,   20,  900,   70, 1167, 1088, 1432, 8964, 1233,  622,\n",
       "          65,   16,   33,  288,  520,  273,  164, 2645,   76,  113,  203,\n",
       "         401,  128,  115,   77, 5283, 1001, 2278], dtype=int64))"
      ]
     },
     "execution_count": 28,
     "metadata": {},
     "output_type": "execute_result"
    }
   ],
   "source": [
    "idx_start = np.where(np.diff(predictions)!=0)[0]+1\n",
    "np.unique([predictions[id_start] for id_start in idx_start], return_counts=True)"
   ]
  },
  {
   "cell_type": "markdown",
   "metadata": {},
   "source": [
    "### Save processed file"
   ]
  },
  {
   "cell_type": "code",
   "execution_count": 29,
   "metadata": {
    "ExecuteTime": {
     "end_time": "2023-12-01T21:06:49.832774Z",
     "start_time": "2023-12-01T21:06:49.828945Z"
    }
   },
   "outputs": [],
   "source": [
    "np.save('Z:/KayCei/HDC/AH2-HET/120423-LIGHTS OFF/predict_video_exp_16.npy', predictions)"
   ]
  },
  {
   "cell_type": "code",
   "execution_count": 7,
   "metadata": {
    "ExecuteTime": {
     "end_time": "2023-11-10T23:21:07.464839Z",
     "start_time": "2023-11-10T23:21:07.456531Z"
    }
   },
   "outputs": [
    {
     "data": {
      "text/plain": [
       "array([1.4000e+00, 1.6000e+00, 1.8000e+00, ..., 3.8817e+03, 3.8818e+03,\n",
       "       3.8824e+03])"
      ]
     },
     "execution_count": 7,
     "metadata": {},
     "output_type": "execute_result"
    }
   ],
   "source": [
    "stim_on = 3\n",
    "# in seconds, when did the animal perform behavior 2\n",
    "behavior_times = np.where(predictions==stim_on)[0]/10\n",
    "behavior_times"
   ]
  },
  {
   "cell_type": "code",
   "execution_count": 13,
   "metadata": {
    "ExecuteTime": {
     "end_time": "2023-11-10T23:25:33.881830Z",
     "start_time": "2023-11-10T23:25:33.827441Z"
    }
   },
   "outputs": [
    {
     "data": {
      "image/png": "[encoded data removed]",
      "text/plain": [
       "<Figure size 1000x200 with 1 Axes>"
      ]
     },
     "metadata": {},
     "output_type": "display_data"
    }
   ],
   "source": [
    "fig, ax = plt.subplots(1, 1, figsize=(10, 2))\n",
    "# ax.plot(onset_times,\n",
    "#         np.ones_like(onset_times),\n",
    "#         ls='', marker='|', markersize=1, c='k', alpha=1)\n",
    "ax.plot(behavior_times,\n",
    "        np.ones_like(behavior_times)+0.5,\n",
    "        ls='', marker='|', markersize=1, c='r', alpha=1)\n",
    "ax.set_yticks([])\n",
    "ax.vlines(5*60, 0.5, 2)\n",
    "ax.vlines(35*60, 0.5, 2)\n",
    "ax.vlines(65*60, 0.5, 2)\n",
    "ax.set_ylim([0.5, 2])\n",
    "\n",
    "# ax.set_xlim([50, 100])\n",
    "ax.set_title('Behavior predictions')\n",
    "ax.spines[['right', 'top']].set_visible(False)\n",
    "ax.set_xlabel('Time (s)')\n",
    "plt.show()"
   ]
  },
  {
   "cell_type": "code",
   "execution_count": null,
   "metadata": {},
   "outputs": [],
   "source": []
  }
 ],
 "metadata": {
  "kernelspec": {
   "display_name": "Python 3",
   "language": "python",
   "name": "python3"
  },
  "language_info": {
   "codemirror_mode": {
    "name": "ipython",
    "version": 3
   },
   "file_extension": ".py",
   "mimetype": "text/x-python",
   "name": "python",
   "nbconvert_exporter": "python",
   "pygments_lexer": "ipython3",
   "version": "3.8.5"
  }
 },
 "nbformat": 4,
 "nbformat_minor": 5
}
