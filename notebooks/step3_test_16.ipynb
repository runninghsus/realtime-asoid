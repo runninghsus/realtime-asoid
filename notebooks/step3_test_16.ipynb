{
 "cells": [
  {
   "cell_type": "code",
   "execution_count": 68,
   "metadata": {
    "ExecuteTime": {
     "end_time": "2023-12-01T21:04:00.929165Z",
     "start_time": "2023-12-01T21:04:00.923401Z"
    },
    "tags": []
   },
   "outputs": [],
   "source": [
    "import pickle\n",
    "import matplotlib.pyplot as plt\n",
    "import sys\n",
    "import os\n",
    "import pandas as pd\n",
    "\n",
    "sys.path.append(\"../\")\n",
    "from utils.preprocessing import *"
   ]
  },
  {
   "cell_type": "markdown",
   "metadata": {},
   "source": [
    "### predict using the model"
   ]
  },
  {
   "cell_type": "code",
   "execution_count": 69,
   "metadata": {
    "ExecuteTime": {
     "end_time": "2023-12-01T20:56:32.924704Z",
     "start_time": "2023-12-01T20:56:32.269347Z"
    }
   },
   "outputs": [],
   "source": [
    "[features, scaled_features] = np.load('../processed_data/features_video_exp_16.npy', allow_pickle=True)\n",
    "with open('Z:/hsu/output/comprehensive_behavior_model.pkl', 'rb') as fr:\n",
    "    model = pickle.load(fr)\n",
    "predictions = model.predict(features)"
   ]
  },
  {
   "cell_type": "code",
   "execution_count": 70,
   "metadata": {
    "ExecuteTime": {
     "end_time": "2023-12-01T20:58:11.088603Z",
     "start_time": "2023-12-01T20:58:11.049915Z"
    }
   },
   "outputs": [
    {
     "data": {
      "text/plain": [
       "(29, 29)"
      ]
     },
     "execution_count": 70,
     "metadata": {},
     "output_type": "execute_result"
    }
   ],
   "source": [
    "behavior_nonest_cats = ['torso_groom', 'investigate_0', 'unsure_0', 'wall_rear_0', 'rear_0',\n",
    "                        'unsure_2', 'rear', 'investigate_1', 'investigate_2', 'right_itch',\n",
    "                        'investigate_3', 'sleep_scrunch_0', 'sleep_scrunch_1', 'wall_rear_1', 'right_body_groom',\n",
    "                        'face_groom_1', 'dive_scrunch', 'head_groom', 'left_orient', 'left_investigate',\n",
    "                        'face_groom_2', 'left_body groom', 'left_itch_1', 'left_itch_2', 'face_groom_3',\n",
    "                        'paw_groom', 'locomotion', 'right_forepaw_orient', 'right_orient']\n",
    "\n",
    "len(behavior_nonest_cats), model.n_classes_"
   ]
  },
  {
   "cell_type": "code",
   "execution_count": 71,
   "metadata": {
    "ExecuteTime": {
     "end_time": "2023-12-01T21:20:14.235366Z",
     "start_time": "2023-12-01T21:20:14.232306Z"
    }
   },
   "outputs": [
    {
     "data": {
      "text/plain": [
       "15"
      ]
     },
     "execution_count": 71,
     "metadata": {},
     "output_type": "execute_result"
    }
   ],
   "source": [
    "behavior_nonest_cats.index('face_groom_1')"
   ]
  },
  {
   "cell_type": "code",
   "execution_count": 72,
   "metadata": {
    "ExecuteTime": {
     "end_time": "2023-12-01T21:01:29.305779Z",
     "start_time": "2023-12-01T21:01:29.301537Z"
    }
   },
   "outputs": [
    {
     "data": {
      "text/plain": [
       "16"
      ]
     },
     "execution_count": 72,
     "metadata": {},
     "output_type": "execute_result"
    }
   ],
   "source": [
    "behavior_nonest_merged = [6, 7, 8, 9, 10, 14, 15, 16, 17, 18, 20, 21, 22, 25, 26, 28]\n",
    "len(behavior_nonest_merged)"
   ]
  },
  {
   "cell_type": "code",
   "execution_count": 73,
   "metadata": {
    "ExecuteTime": {
     "end_time": "2023-12-01T21:03:32.211928Z",
     "start_time": "2023-12-01T21:03:32.208829Z"
    }
   },
   "outputs": [],
   "source": [
    "total_counts = {key:  [] for key in [behavior_nonest_cats[j] \n",
    "                                     for j in behavior_nonest_merged]}\n",
    "\n",
    "for i in behavior_nonest_merged:\n",
    "    total_counts[behavior_nonest_cats[i]] = len(np.where(predictions==i)[0])"
   ]
  },
  {
   "cell_type": "code",
   "execution_count": 74,
   "metadata": {
    "ExecuteTime": {
     "end_time": "2023-12-01T21:05:02.721073Z",
     "start_time": "2023-12-01T21:05:02.716283Z"
    }
   },
   "outputs": [],
   "source": [
    "df_counts_100ms = pd.DataFrame(total_counts, index=[0])\n",
    "df_counts_100ms.to_csv('../test_behavior_counts.csv', index=None)"
   ]
  },
  {
   "cell_type": "code",
   "execution_count": 75,
   "metadata": {
    "ExecuteTime": {
     "end_time": "2023-12-01T20:59:43.820868Z",
     "start_time": "2023-12-01T20:59:43.817071Z"
    }
   },
   "outputs": [
    {
     "ename": "ValueError",
     "evalue": "'contra_orient' is not in list",
     "output_type": "error",
     "traceback": [
      "\u001b[1;31m---------------------------------------------------------------------------\u001b[0m",
      "\u001b[1;31mValueError\u001b[0m                                Traceback (most recent call last)",
      "Input \u001b[1;32mIn [75]\u001b[0m, in \u001b[0;36m<cell line: 2>\u001b[1;34m()\u001b[0m\n\u001b[0;32m      1\u001b[0m total_loco \u001b[38;5;241m=\u001b[39m \u001b[38;5;28mlen\u001b[39m(np\u001b[38;5;241m.\u001b[39mwhere(predictions\u001b[38;5;241m==\u001b[39mbehavior_nonest_cats\u001b[38;5;241m.\u001b[39mindex(\u001b[38;5;124m'\u001b[39m\u001b[38;5;124mlocomotion\u001b[39m\u001b[38;5;124m'\u001b[39m))[\u001b[38;5;241m0\u001b[39m])\n\u001b[1;32m----> 2\u001b[0m total_contra \u001b[38;5;241m=\u001b[39m \u001b[38;5;28mlen\u001b[39m(np\u001b[38;5;241m.\u001b[39mwhere(predictions\u001b[38;5;241m==\u001b[39m\u001b[43mbehavior_nonest_cats\u001b[49m\u001b[38;5;241;43m.\u001b[39;49m\u001b[43mindex\u001b[49m\u001b[43m(\u001b[49m\u001b[38;5;124;43m'\u001b[39;49m\u001b[38;5;124;43mcontra_orient\u001b[39;49m\u001b[38;5;124;43m'\u001b[39;49m\u001b[43m)\u001b[49m)[\u001b[38;5;241m0\u001b[39m])\n",
      "\u001b[1;31mValueError\u001b[0m: 'contra_orient' is not in list"
     ]
    }
   ],
   "source": [
    "total_loco = len(np.where(predictions==behavior_nonest_cats.index('locomotion'))[0])\n",
    "total_contra = len(np.where(predictions==behavior_nonest_cats.index('contra_orient'))[0])"
   ]
  },
  {
   "cell_type": "code",
   "execution_count": 76,
   "metadata": {
    "ExecuteTime": {
     "end_time": "2023-12-01T21:00:46.297927Z",
     "start_time": "2023-12-01T21:00:46.221712Z"
    }
   },
   "outputs": [
    {
     "ename": "NameError",
     "evalue": "name 'total_contra' is not defined",
     "output_type": "error",
     "traceback": [
      "\u001b[1;31m---------------------------------------------------------------------------\u001b[0m",
      "\u001b[1;31mNameError\u001b[0m                                 Traceback (most recent call last)",
      "Input \u001b[1;32mIn [76]\u001b[0m, in \u001b[0;36m<cell line: 1>\u001b[1;34m()\u001b[0m\n\u001b[1;32m----> 1\u001b[0m comp_loco_contra \u001b[38;5;241m=\u001b[39m [total_loco, \u001b[43mtotal_contra\u001b[49m]\n\u001b[0;32m      2\u001b[0m plt\u001b[38;5;241m.\u001b[39mbar(np\u001b[38;5;241m.\u001b[39marange(\u001b[38;5;28mlen\u001b[39m(comp_loco_contra)), comp_loco_contra)\n",
      "\u001b[1;31mNameError\u001b[0m: name 'total_contra' is not defined"
     ]
    }
   ],
   "source": [
    "comp_loco_contra = [total_loco, total_contra]\n",
    "plt.bar(np.arange(len(comp_loco_contra)), comp_loco_contra)"
   ]
  },
  {
   "cell_type": "markdown",
   "metadata": {},
   "source": [
    "### place side-by-side to visualize pattern"
   ]
  },
  {
   "cell_type": "code",
   "execution_count": 77,
   "metadata": {
    "ExecuteTime": {
     "end_time": "2023-12-01T20:56:58.294466Z",
     "start_time": "2023-12-01T20:56:58.060496Z"
    }
   },
   "outputs": [
    {
     "data": {
      "image/png": "[encoded data removed]",
      "text/plain": [
       "<Figure size 1500x300 with 2 Axes>"
      ]
     },
     "metadata": {},
     "output_type": "display_data"
    }
   ],
   "source": [
    "# plot scaled features with the corresponding predictions\n",
    "fig, ax = plt.subplots(2, 1, figsize=(15, 3), gridspec_kw={'height_ratios': [6, 1]}, sharex=True)\n",
    "# first 30 seconds\n",
    "ax[0].imshow(scaled_features.T[:, ::10], vmin=-2, vmax=2, cmap='RdBu_r')\n",
    "ax[1].scatter(np.arange(len(predictions[::10])), predictions[::10], s=1, color='k')\n",
    "plt.show()"
   ]
  },
  {
   "cell_type": "code",
   "execution_count": 78,
   "metadata": {
    "ExecuteTime": {
     "end_time": "2023-11-10T23:20:24.813956Z",
     "start_time": "2023-11-10T23:20:24.807724Z"
    }
   },
   "outputs": [
    {
     "data": {
      "text/plain": [
       "array([26, 26, 26, 26, 18, 18, 26, 18, 16, 15, 15, 18, 26, 28, 26,  8,  8,\n",
       "        8, 28,  8,  8, 28, 26,  7,  8,  8, 28,  8, 18, 28, 26, 28,  8, 16,\n",
       "        8, 18, 28, 10, 28,  8, 26, 26, 26, 26, 26, 26, 26, 26, 26, 26],\n",
       "      dtype=int64)"
      ]
     },
     "execution_count": 78,
     "metadata": {},
     "output_type": "execute_result"
    }
   ],
   "source": [
    "predictions[:50]"
   ]
  },
  {
   "cell_type": "code",
   "execution_count": 79,
   "metadata": {
    "ExecuteTime": {
     "end_time": "2023-11-10T23:20:31.422087Z",
     "start_time": "2023-11-10T23:20:31.413496Z"
    }
   },
   "outputs": [
    {
     "data": {
      "text/plain": [
       "(array([ 0,  1,  2,  3,  4,  5,  6,  7,  8,  9, 10, 11, 13, 14, 15, 16, 17,\n",
       "        18, 19, 20, 21, 22, 23, 24, 25, 26, 27, 28], dtype=int64),\n",
       " array([   1,    5,    2,   85,    8, 1579,  179,  541, 4172,  764,  581,\n",
       "           8,    8,   40,  345,  482,   60, 2388,   32,   13,   72,  228,\n",
       "         164,   44,   33, 4198,  439, 1873], dtype=int64))"
      ]
     },
     "execution_count": 79,
     "metadata": {},
     "output_type": "execute_result"
    }
   ],
   "source": [
    "idx_start = np.where(np.diff(predictions)!=0)[0]+1\n",
    "np.unique([predictions[id_start] for id_start in idx_start], return_counts=True)"
   ]
  },
  {
   "cell_type": "markdown",
   "metadata": {},
   "source": [
    "### Save processed file"
   ]
  },
  {
   "cell_type": "code",
   "execution_count": 80,
   "metadata": {
    "ExecuteTime": {
     "end_time": "2023-12-01T21:06:49.832774Z",
     "start_time": "2023-12-01T21:06:49.828945Z"
    }
   },
   "outputs": [],
   "source": [
    "np.save('../processed_data/predict_video_2.npy', predictions)"
   ]
  },
  {
   "cell_type": "code",
   "execution_count": 81,
   "metadata": {},
   "outputs": [],
   "source": [
    "%store -r save_path\n",
    "np.save(os.path.join(save_path, 'predict_video_exp_16.npy'), predictions)"
   ]
  },
  {
   "cell_type": "code",
   "execution_count": 19,
   "metadata": {
    "ExecuteTime": {
     "end_time": "2023-11-10T23:21:07.464839Z",
     "start_time": "2023-11-10T23:21:07.456531Z"
    }
   },
   "outputs": [
    {
     "data": {
      "text/plain": [
       "array([   4.6,   45.1,   67. ,   67.1,  135.9,  198.3,  198.4,  202.2,\n",
       "        391.3,  417. ,  419.2,  424.5,  425.1,  478.6,  479.3,  542.8,\n",
       "        706.3,  708.5,  708.7,  730.6,  730.7,  730.9,  731. ,  785.8,\n",
       "        786.7,  787.3,  788.5,  788.8,  788.9,  789. ,  797.5,  798.2,\n",
       "        800.7,  802.5,  804.5,  804.6,  804.7,  805. ,  805.7,  814.6,\n",
       "        817. ,  835.1,  835.4,  835.5,  835.8,  837.7,  839. ,  839.1,\n",
       "        839.2,  847.3,  847.4,  849.1,  851.7,  857.7,  983.8, 1038.6,\n",
       "       1125.1, 1125.2, 1125.4, 1126. , 1126.9, 1127.4, 1200.6, 1201.2,\n",
       "       1230.7, 1231. , 1231.4, 1231.5, 1231.8, 1231.9, 1247.6, 1263.2,\n",
       "       1306.4, 1332.5, 1344.4, 1344.5, 1344.6, 1344.8, 1346.3, 1427.9,\n",
       "       1441.8, 1488.4, 1497.9, 1498.2, 1521.3, 1532. , 1533.1, 1533.9,\n",
       "       1537.8, 1538.1, 1540.8, 1558.1, 1558.5, 1558.6, 1562.3, 1583.7,\n",
       "       1595. , 1599.8, 1601.9, 1604. , 1605. , 1605.1, 1607.5, 1607.6,\n",
       "       1607.8, 1608.4, 1611.4, 1611.9, 1614.2, 1614.9, 1615. , 1621.4,\n",
       "       1628.4, 1641.8, 1647.7, 1647.8, 1648.7, 1675.7, 1768.3, 1769.2,\n",
       "       1852.5, 1852.7, 1961.2, 1962.5, 2049.4, 2209.3, 2210.2, 2215.3,\n",
       "       2216. , 2216.2, 2217.6, 2217.8, 2217.9, 2220.4, 2221.2, 2222.5,\n",
       "       2224.5, 2225.9, 2227.1, 2227.2, 2227.4, 2227.5, 2228. , 2228.5,\n",
       "       2229.5, 2229.9, 2230.1, 2231.5, 2231.6, 2231.7, 2233. , 2233.3,\n",
       "       2233.6, 2234.3, 2236.1, 2236.2, 2236.4, 2238.9, 2239.1, 2239.3,\n",
       "       2240.4, 2240.5, 2240.7, 2240.8, 2240.9, 2241.9, 2242. , 2242.4,\n",
       "       2242.8, 2242.9, 2243. , 2246.5, 2246.6, 2248.3, 2250.9, 2251. ,\n",
       "       2260.3, 2260.5, 2273.9, 2274. , 2275.5, 2291.9, 2293. , 2295. ,\n",
       "       2298.3, 2300.4, 2300.8, 2300.9, 2301.2, 2303. , 2303.1, 2303.4,\n",
       "       2303.5, 2303.7, 2307.2, 2307.5, 2307.6, 2308. , 2308.1, 2308.2,\n",
       "       2308.3, 2308.5, 2308.7, 2309.7, 2310.5, 2312.1, 2312.3, 2312.6,\n",
       "       2313.6, 2316. , 2316.1, 2316.2, 2317. , 2317.4, 2318.2, 2318.3,\n",
       "       2319. , 2319.5, 2320.1, 2320.2, 2320.3, 2320.4, 2320.5, 2320.6,\n",
       "       2320.7, 2320.9, 2321.2, 2321.5, 2321.6, 2321.7, 2321.8, 2321.9,\n",
       "       2322. , 2322.1, 2322.3, 2322.5, 2322.6, 2322.8, 2323.2, 2323.9,\n",
       "       2324.1, 2324.2, 2324.5, 2324.8, 2324.9, 2325. , 2325.1, 2325.2,\n",
       "       2325.3, 2325.4, 2325.5, 2325.6, 2325.7, 2326. , 2326.3, 2326.4,\n",
       "       2326.5, 2326.6, 2326.8, 2326.9, 2327.2, 2327.4, 2327.8, 2327.9,\n",
       "       2328.4, 2328.5, 2328.6, 2328.7, 2328.8, 2328.9, 2329. , 2329.2,\n",
       "       2329.3, 2329.4, 2329.6, 2329.7, 2330.1, 2330.2, 2330.3, 2330.4,\n",
       "       2330.6, 2330.7, 2330.8, 2330.9, 2331. , 2331.1, 2331.3, 2331.4,\n",
       "       2331.6, 2331.7, 2331.8, 2331.9, 2332.1, 2332.2, 2332.3, 2332.5,\n",
       "       2332.7, 2332.8, 2332.9, 2333. , 2333.4, 2333.6, 2333.9, 2334.1,\n",
       "       2334.2, 2334.4, 2334.9, 2335.1, 2335.4, 2335.5, 2335.6, 2335.7,\n",
       "       2335.8, 2335.9, 2336. , 2336.1, 2336.2, 2336.5, 2336.6, 2336.7,\n",
       "       2337.3, 2337.4, 2337.5, 2337.6, 2337.7, 2337.9, 2338.1, 2338.2,\n",
       "       2338.3, 2338.7, 2339.1, 2339.4, 2339.9, 2340.6, 2340.9, 2341.9,\n",
       "       2342.2, 2342.7, 2342.9, 2343. , 2343.2, 2343.3, 2343.4, 2343.5,\n",
       "       2343.6, 2343.7, 2343.8, 2344. , 2344.2, 2344.7, 2344.9, 2345. ,\n",
       "       2345.3, 2345.4, 2345.5, 2345.6, 2345.9, 2346.6, 2346.7, 2346.8,\n",
       "       2347. , 2347.3, 2347.7, 2347.8, 2348. , 2348.1, 2348.2, 2348.7,\n",
       "       2348.8, 2348.9, 2349.4, 2349.5, 2349.6, 2349.7, 2349.8, 2349.9,\n",
       "       2350. , 2350.1, 2350.2, 2350.3, 2350.6, 2350.7, 2350.9, 2351.2,\n",
       "       2351.4, 2351.5, 2351.7, 2351.8, 2352. , 2352.2, 2352.4, 2352.7,\n",
       "       2352.8, 2353. , 2353.2, 2353.4, 2353.5, 2353.6, 2354. , 2354.1,\n",
       "       2354.4, 2354.9, 2355.1, 2355.2, 2355.4, 2355.5, 2355.6, 2355.7,\n",
       "       2355.8, 2355.9, 2356. , 2356.1, 2356.2, 2356.3, 2356.5, 2356.6,\n",
       "       2356.7, 2356.9, 2357.1, 2357.2, 2357.3, 2357.4, 2357.7, 2358. ,\n",
       "       2358.1, 2358.2, 2358.4, 2358.7, 2359.4, 2359.6, 2359.8, 2360. ,\n",
       "       2360.1, 2360.3, 2360.5, 2361.2, 2361.5, 2361.6, 2361.7, 2361.8,\n",
       "       2362. , 2362.2, 2362.3, 2362.5, 2363. , 2363.3, 2363.4, 2363.7,\n",
       "       2365. , 2366.3, 2366.5, 2367.9, 2368. , 2368.3, 2368.4, 2368.6,\n",
       "       2369. , 2369.1, 2369.4, 2370.6, 2371. , 2373.7, 2379.2, 2379.9,\n",
       "       2380. , 2382.4, 2382.9, 2383. , 2383.1, 2384.2, 2384.3, 2385.9,\n",
       "       2386.4, 2386.9, 2387.2, 2387.3, 2387.4, 2387.5, 2387.6, 2387.7,\n",
       "       2387.8, 2387.9, 2388. , 2388.1, 2388.2, 2388.3, 2388.6, 2388.8,\n",
       "       2389.1, 2389.3, 2389.9, 2390.8, 2390.9, 2391.4, 2391.6, 2391.8,\n",
       "       2392.5, 2393.3, 2393.4, 2393.9, 2394.6, 2394.9, 2395. , 2395.1,\n",
       "       2395.4, 2395.5, 2395.6, 2395.7, 2395.8, 2395.9, 2396. , 2396.1,\n",
       "       2396.2, 2396.3, 2396.8, 2396.9, 2397. , 2397.2, 2397.3, 2397.4,\n",
       "       2397.5, 2397.6, 2397.8, 2397.9, 2398. , 2398.1, 2398.2, 2398.3,\n",
       "       2398.4, 2398.5, 2398.6, 2398.7, 2398.8, 2398.9, 2399. , 2399.1,\n",
       "       2399.2, 2399.3, 2399.5, 2399.6, 2399.8, 2399.9, 2400. , 2400.1,\n",
       "       2400.2, 2400.3, 2400.5, 2400.7, 2400.9, 2401. , 2401.1, 2401.2,\n",
       "       2401.3, 2401.4, 2401.5, 2401.6, 2401.7, 2402. , 2402.1, 2402.4,\n",
       "       2402.5, 2402.6, 2402.7, 2403.2, 2403.4, 2404.1, 2405.5, 2408.2,\n",
       "       2408.4, 2409.8, 2410.1, 2410.2, 2410.3, 2410.4, 2410.5, 2410.6,\n",
       "       2411. , 2413. , 2419.5, 2427. , 2430.8, 2431.4, 2431.5, 2431.6,\n",
       "       2431.7, 2431.8, 2432. , 2432.2, 2432.7, 2432.9, 2433.2, 2437.7,\n",
       "       2438. , 2438.1, 2441.8, 2445.9, 2446.8, 2449.6, 2450.7, 2452.7,\n",
       "       2453.3, 2453.7, 2453.8, 2454.2, 2455. , 2455.4, 2457. , 2457.3,\n",
       "       2457.4, 2457.7, 2462.4, 2463.6, 2464.2, 2472. , 2476.4, 2478.3,\n",
       "       2480.7, 2571.9, 2580.3, 2597.7, 2598.1, 2598.2, 2613.5, 2668. ,\n",
       "       2668.2, 2669.2, 2775.3, 2783.6, 2807.2, 2807.3, 2856.1, 2856.3,\n",
       "       2857.5, 2859. , 2861.5, 2861.6, 2861.7, 2864. , 2866.2, 2882.8,\n",
       "       2883. , 2883.2, 2883.5, 2883.9, 2884. , 2884.2, 2884.3, 2884.4,\n",
       "       2884.5, 2984.5, 3041.8, 3043. , 3086.4, 3144.1, 3145.7, 3151.7,\n",
       "       3151.8, 3152.3, 3274.8, 3281. , 3281.2, 3293.6, 3293.7, 3295. ,\n",
       "       3295.1, 3298.1, 3299.9, 3345.4, 3346. , 3377. , 3455.6, 3546.3,\n",
       "       3546.8, 3546.9, 3548. , 3549.1, 3553.5, 3564.5, 3564.7, 3565.7,\n",
       "       3566.9, 3567.3, 3567.5, 3567.8, 3568. , 3568.2, 3568.8, 3568.9,\n",
       "       3570. , 3570.9, 3571.5, 3574.6, 3575.1, 3579.6, 3581.7, 3588.8,\n",
       "       3645.7, 3652.4, 3652.5, 3653.2, 3695. , 3695.3, 3695.5, 3695.6,\n",
       "       3704.7, 3747.3, 3750.5, 3752.4, 3756.5, 3757.4, 3757.5, 3762.3,\n",
       "       3808.2, 3811.1, 3811.2, 3811.7, 3820.6, 3824.9, 3825.2, 3825.5,\n",
       "       3825.6, 3826.3, 3839.2, 3839.4, 3840.6, 3840.7, 3840.8, 3840.9,\n",
       "       3841. , 3841.1, 3841.2, 3841.4, 3841.5, 3841.6, 3842.5, 3842.6,\n",
       "       3842.7, 3842.8, 3842.9, 3843. , 3843.1, 3843.2, 3843.3, 3843.4,\n",
       "       3843.5, 3843.6, 3843.7, 3843.8, 3843.9, 3844. , 3844.1, 3844.2,\n",
       "       3844.3, 3844.4, 3844.5, 3844.6, 3844.7, 3844.8, 3844.9, 3845. ,\n",
       "       3845.1, 3845.2, 3845.3, 3845.4, 3845.6, 3845.7, 3845.8, 3845.9,\n",
       "       3846. , 3846.1, 3846.2, 3846.3, 3846.4, 3846.5, 3846.6, 3846.7,\n",
       "       3846.8, 3847. , 3847.1, 3847.3, 3847.5, 3847.6, 3847.7, 3847.8,\n",
       "       3847.9, 3848. , 3848.1, 3848.3, 3848.4, 3848.5, 3848.6, 3848.7,\n",
       "       3848.9, 3849. , 3849.1, 3849.2, 3849.3, 3849.4, 3849.5, 3849.6,\n",
       "       3849.7, 3849.8, 3849.9, 3850. , 3850.1, 3850.2, 3850.3, 3850.4,\n",
       "       3850.5, 3850.8, 3850.9, 3851.2, 3851.6, 3851.7, 3851.8, 3859.1,\n",
       "       3859.5, 3859.7, 3861.6, 3866.5, 3867. , 3867.2, 3868.9, 3869.1,\n",
       "       3869.2, 3869.3, 3869.6, 3869.8, 3870.1, 3870.6, 3870.7, 3870.8,\n",
       "       3870.9, 3871. , 3871.1, 3871.3, 3871.4, 3871.5, 3871.6, 3871.7,\n",
       "       3871.8, 3871.9, 3872.1, 3872.3, 3872.6, 3872.7, 3872.8, 3873.4,\n",
       "       3873.7, 3876.4, 3878.5, 3879.4, 3879.6, 3880. , 3882.8, 3882.9,\n",
       "       3886.7, 3890.8, 3890.9, 3891. , 3891.1, 3891.2, 3891.3, 3891.4,\n",
       "       3891.5, 3891.7, 3891.8, 3891.9, 3892.1, 3892.2, 3893.2, 3893.7,\n",
       "       3893.8, 3894.8, 3894.9, 3895. , 3895.1, 3895.3, 3895.4, 3895.5,\n",
       "       3895.7, 3899.3, 3899.9, 3900.4, 3900.7, 3900.9, 3901.7, 3905.9,\n",
       "       3906. , 3906.1, 3907. , 3907.1, 3907.4, 3907.8, 3907.9, 3908. ,\n",
       "       3921.7, 3922.1, 3922.2, 3922.5, 3922.8, 3922.9, 3923. , 3923.1,\n",
       "       3923.2, 3923.5, 3923.6, 3923.7, 3924. , 3924.1, 3924.5, 3924.6,\n",
       "       3924.7, 3924.8, 3925.8, 3926.1, 3926.3, 3926.4, 3926.5, 3926.6,\n",
       "       3927.4, 3927.5, 3927.8, 3927.9, 3928.5, 3928.6, 3929.3, 3929.6,\n",
       "       3929.7, 3929.8, 3929.9, 3930. , 3930.1, 3930.2, 3930.4, 3930.5,\n",
       "       3930.9, 3931. , 3931.9, 3932.7])"
      ]
     },
     "execution_count": 19,
     "metadata": {},
     "output_type": "execute_result"
    }
   ],
   "source": [
    "stim_on = 3\n",
    "# in seconds, when did the animal perform behavior 2\n",
    "behavior_times = np.where(predictions==stim_on)[0]/10\n",
    "behavior_times"
   ]
  },
  {
   "cell_type": "code",
   "execution_count": 20,
   "metadata": {
    "ExecuteTime": {
     "end_time": "2023-11-10T23:25:33.881830Z",
     "start_time": "2023-11-10T23:25:33.827441Z"
    }
   },
   "outputs": [
    {
     "data": {
      "image/png": "[encoded data removed]",
      "text/plain": [
       "<Figure size 1000x200 with 1 Axes>"
      ]
     },
     "metadata": {},
     "output_type": "display_data"
    }
   ],
   "source": [
    "fig, ax = plt.subplots(1, 1, figsize=(10, 2))\n",
    "# ax.plot(onset_times,\n",
    "#         np.ones_like(onset_times),\n",
    "#         ls='', marker='|', markersize=1, c='k', alpha=1)\n",
    "ax.plot(behavior_times,\n",
    "        np.ones_like(behavior_times)+0.5,\n",
    "        ls='', marker='|', markersize=1, c='r', alpha=1)\n",
    "ax.set_yticks([])\n",
    "ax.vlines(5*60, 0.5, 2)\n",
    "ax.vlines(35*60, 0.5, 2)\n",
    "ax.vlines(65*60, 0.5, 2)\n",
    "ax.set_ylim([0.5, 2])\n",
    "\n",
    "# ax.set_xlim([50, 100])\n",
    "ax.set_title('Behavior predictions')\n",
    "ax.spines[['right', 'top']].set_visible(False)\n",
    "ax.set_xlabel('Time (s)')\n",
    "plt.show()"
   ]
  },
  {
   "cell_type": "code",
   "execution_count": null,
   "metadata": {},
   "outputs": [],
   "source": []
  }
 ],
 "metadata": {
  "kernelspec": {
   "display_name": "Python 3",
   "language": "python",
   "name": "python3"
  },
  "language_info": {
   "codemirror_mode": {
    "name": "ipython",
    "version": 3
   },
   "file_extension": ".py",
   "mimetype": "text/x-python",
   "name": "python",
   "nbconvert_exporter": "python",
   "pygments_lexer": "ipython3",
   "version": "3.8.5"
  }
 },
 "nbformat": 4,
 "nbformat_minor": 5
}
