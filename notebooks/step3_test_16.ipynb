{
 "cells": [
  {
   "cell_type": "code",
   "execution_count": 21,
   "id": "63493d13",
   "metadata": {
    "ExecuteTime": {
     "end_time": "2023-12-01T21:04:00.929165Z",
     "start_time": "2023-12-01T21:04:00.923401Z"
    },
    "tags": []
   },
   "outputs": [],
   "source": [
    "import pickle\n",
    "import matplotlib.pyplot as plt\n",
    "import sys\n",
    "import os\n",
    "import pandas as pd\n",
    "\n",
    "sys.path.append(\"../\")\n",
    "from utils.preprocessing import *"
   ]
  },
  {
   "cell_type": "markdown",
   "id": "32c26d81",
   "metadata": {},
   "source": [
    "### predict using the model"
   ]
  },
  {
   "cell_type": "code",
   "execution_count": 23,
   "id": "ed2ce933",
   "metadata": {
    "ExecuteTime": {
     "end_time": "2023-12-01T20:56:32.924704Z",
     "start_time": "2023-12-01T20:56:32.269347Z"
    }
   },
   "outputs": [],
   "source": [
    "[features, scaled_features] = np.load('../processed_data/features_video_exp_16.npy', allow_pickle=True)\n",
    "with open('/Users/kaycei/K on Server (NoMachine)/KayCei/comprehensive_behavior_model.pkl', 'rb') as fr:\n",
    "    model = pickle.load(fr)\n",
    "predictions = model.predict(features)"
   ]
  },
  {
   "cell_type": "code",
   "execution_count": 24,
   "id": "20b045b6",
   "metadata": {
    "ExecuteTime": {
     "end_time": "2023-12-01T20:58:11.088603Z",
     "start_time": "2023-12-01T20:58:11.049915Z"
    }
   },
   "outputs": [
    {
     "data": {
      "text/plain": [
       "(29, 29)"
      ]
     },
     "execution_count": 24,
     "metadata": {},
     "output_type": "execute_result"
    }
   ],
   "source": [
    "behavior_nonest_cats = ['torso_groom', 'investigate_0', 'unsure_0', 'wall_rear_0', 'rear_0',\n",
    "                        'unsure_2', 'rear', 'investigate_1', 'investigate_2', 'right_itch',\n",
    "                        'investigate_3', 'sleep_scrunch_0', 'sleep_scrunch_1', 'wall_rear_1', \n",
    "                        'right_body_groom','face_groom_1', 'dive_scrunch', 'head_groom', 'left_orient', 'left_investigate',\n",
    "                        'face_groom_2', 'left_body groom', 'left_itch_1', 'left_itch_2', \n",
    "                        'face_groom_3','paw_groom', 'locomotion', 'right_forepaw_orient', 'right_orient']\n",
    "\n",
    "len(behavior_nonest_cats), model.n_classes_"
   ]
  },
  {
   "cell_type": "code",
   "execution_count": 25,
   "id": "f3a4e4e6",
   "metadata": {
    "ExecuteTime": {
     "end_time": "2023-12-01T21:20:14.235366Z",
     "start_time": "2023-12-01T21:20:14.232306Z"
    }
   },
   "outputs": [
    {
     "data": {
      "text/plain": [
       "15"
      ]
     },
     "execution_count": 25,
     "metadata": {},
     "output_type": "execute_result"
    }
   ],
   "source": [
    "behavior_nonest_cats.index('face_groom_1')"
   ]
  },
  {
   "cell_type": "code",
   "execution_count": 26,
   "id": "8542acce",
   "metadata": {
    "ExecuteTime": {
     "end_time": "2023-12-01T21:01:29.305779Z",
     "start_time": "2023-12-01T21:01:29.301537Z"
    }
   },
   "outputs": [
    {
     "data": {
      "text/plain": [
       "16"
      ]
     },
     "execution_count": 26,
     "metadata": {},
     "output_type": "execute_result"
    }
   ],
   "source": [
    "behavior_nonest_merged = [6, 7, 8, 9, 10, 14, 15, 16, 17, 18, 20, 21, 22, 25, 26, 28]\n",
    "len(behavior_nonest_merged)"
   ]
  },
  {
   "cell_type": "code",
   "execution_count": 27,
   "id": "d2512aa1",
   "metadata": {
    "ExecuteTime": {
     "end_time": "2023-12-01T21:03:32.211928Z",
     "start_time": "2023-12-01T21:03:32.208829Z"
    }
   },
   "outputs": [],
   "source": [
    "total_counts = {key:  [] for key in [behavior_nonest_cats[j] \n",
    "                                     for j in behavior_nonest_merged]}\n",
    "\n",
    "for i in behavior_nonest_merged:\n",
    "    total_counts[behavior_nonest_cats[i]] = len(np.where(predictions==i)[0])"
   ]
  },
  {
   "cell_type": "code",
   "execution_count": 28,
   "id": "48cbf2b4",
   "metadata": {
    "ExecuteTime": {
     "end_time": "2023-12-01T21:05:02.721073Z",
     "start_time": "2023-12-01T21:05:02.716283Z"
    }
   },
   "outputs": [],
   "source": [
    "df_counts_100ms = pd.DataFrame(total_counts, index=[0])\n",
    "df_counts_100ms.to_csv('../test_behavior_counts.csv', index=None)"
   ]
  },
  {
   "cell_type": "code",
   "execution_count": 29,
   "id": "2a242c5a",
   "metadata": {
    "scrolled": true
   },
   "outputs": [
    {
     "name": "stdout",
     "output_type": "stream",
     "text": [
      "Saved the CSV file to /Users/kaycei/K on Server (NoMachine)/KayCei/AD6-D2/videos/071823-rt bilateral sham/test_behavior_counts.csv\n"
     ]
    }
   ],
   "source": [
    "%store -r save_path\n",
    "# Check if save_path is defined\n",
    "if save_path:\n",
    "    filename = os.path.join(save_path, 'test_behavior_counts.csv')\n",
    "    df_counts_100ms.to_csv(filename, index=None)\n",
    "    print(f'Saved the CSV file to {filename}')\n",
    "else:\n",
    "    print(\"Variable 'save_path' is not defined.\")"
   ]
  },
  {
   "cell_type": "code",
   "execution_count": 30,
   "id": "1d729d3e",
   "metadata": {
    "ExecuteTime": {
     "end_time": "2023-12-01T20:59:43.820868Z",
     "start_time": "2023-12-01T20:59:43.817071Z"
    }
   },
   "outputs": [
    {
     "ename": "ValueError",
     "evalue": "'contra_orient' is not in list",
     "output_type": "error",
     "traceback": [
      "\u001b[0;31m---------------------------------------------------------------------------\u001b[0m",
      "\u001b[0;31mValueError\u001b[0m                                Traceback (most recent call last)",
      "Cell \u001b[0;32mIn[30], line 2\u001b[0m\n\u001b[1;32m      1\u001b[0m total_loco \u001b[38;5;241m=\u001b[39m \u001b[38;5;28mlen\u001b[39m(np\u001b[38;5;241m.\u001b[39mwhere(predictions\u001b[38;5;241m==\u001b[39mbehavior_nonest_cats\u001b[38;5;241m.\u001b[39mindex(\u001b[38;5;124m'\u001b[39m\u001b[38;5;124mlocomotion\u001b[39m\u001b[38;5;124m'\u001b[39m))[\u001b[38;5;241m0\u001b[39m])\n\u001b[0;32m----> 2\u001b[0m total_contra \u001b[38;5;241m=\u001b[39m \u001b[38;5;28mlen\u001b[39m(np\u001b[38;5;241m.\u001b[39mwhere(predictions\u001b[38;5;241m==\u001b[39mbehavior_nonest_cats\u001b[38;5;241m.\u001b[39mindex(\u001b[38;5;124m'\u001b[39m\u001b[38;5;124mcontra_orient\u001b[39m\u001b[38;5;124m'\u001b[39m))[\u001b[38;5;241m0\u001b[39m])\n",
      "\u001b[0;31mValueError\u001b[0m: 'contra_orient' is not in list"
     ]
    }
   ],
   "source": [
    "total_loco = len(np.where(predictions==behavior_nonest_cats.index('locomotion'))[0])\n",
    "total_contra = len(np.where(predictions==behavior_nonest_cats.index('contra_orient'))[0])"
   ]
  },
  {
   "cell_type": "code",
   "execution_count": 31,
   "id": "9b4a8fe6",
   "metadata": {
    "ExecuteTime": {
     "end_time": "2023-12-01T21:00:46.297927Z",
     "start_time": "2023-12-01T21:00:46.221712Z"
    }
   },
   "outputs": [
    {
     "ename": "NameError",
     "evalue": "name 'total_contra' is not defined",
     "output_type": "error",
     "traceback": [
      "\u001b[0;31m---------------------------------------------------------------------------\u001b[0m",
      "\u001b[0;31mNameError\u001b[0m                                 Traceback (most recent call last)",
      "Cell \u001b[0;32mIn[31], line 1\u001b[0m\n\u001b[0;32m----> 1\u001b[0m comp_loco_contra \u001b[38;5;241m=\u001b[39m [total_loco, total_contra]\n\u001b[1;32m      2\u001b[0m plt\u001b[38;5;241m.\u001b[39mbar(np\u001b[38;5;241m.\u001b[39marange(\u001b[38;5;28mlen\u001b[39m(comp_loco_contra)), comp_loco_contra)\n",
      "\u001b[0;31mNameError\u001b[0m: name 'total_contra' is not defined"
     ]
    }
   ],
   "source": [
    "comp_loco_contra = [total_loco, total_contra]\n",
    "plt.bar(np.arange(len(comp_loco_contra)), comp_loco_contra)"
   ]
  },
  {
   "cell_type": "markdown",
   "id": "8363d836",
   "metadata": {},
   "source": [
    "### place side-by-side to visualize pattern"
   ]
  },
  {
   "cell_type": "code",
   "execution_count": 32,
   "id": "ef56c6e6",
   "metadata": {
    "ExecuteTime": {
     "end_time": "2023-12-01T20:56:58.294466Z",
     "start_time": "2023-12-01T20:56:58.060496Z"
    }
   },
   "outputs": [
    {
     "data": {
      "image/png": "[encoded data removed]",
      "text/plain": [
       "<Figure size 1500x300 with 2 Axes>"
      ]
     },
     "metadata": {},
     "output_type": "display_data"
    }
   ],
   "source": [
    "# plot scaled features with the corresponding predictions\n",
    "fig, ax = plt.subplots(2, 1, figsize=(15, 3), gridspec_kw={'height_ratios': [6, 1]}, sharex=True)\n",
    "# first 30 seconds\n",
    "ax[0].imshow(scaled_features.T[:, ::10], vmin=-2, vmax=2, cmap='RdBu_r')\n",
    "ax[1].scatter(np.arange(len(predictions[::10])), predictions[::10], s=1, color='k')\n",
    "plt.show()"
   ]
  },
  {
   "cell_type": "code",
   "execution_count": 33,
   "id": "f9318a01",
   "metadata": {
    "ExecuteTime": {
     "end_time": "2023-11-10T23:20:24.813956Z",
     "start_time": "2023-11-10T23:20:24.807724Z"
    }
   },
   "outputs": [
    {
     "data": {
      "text/plain": [
       "array([21, 21, 26, 13, 13, 21, 13, 21, 21, 13, 13, 26,  1, 28, 28, 27,  8,\n",
       "        8,  8, 26, 28,  9, 26, 18,  1,  9,  9,  1,  1,  1,  9,  6,  6,  1,\n",
       "        1,  1,  1,  1,  1,  6, 15,  1,  1,  1, 26, 21, 21, 22, 21,  9])"
      ]
     },
     "execution_count": 33,
     "metadata": {},
     "output_type": "execute_result"
    }
   ],
   "source": [
    "predictions[:50]"
   ]
  },
  {
   "cell_type": "code",
   "execution_count": 34,
   "id": "30dc3cf6",
   "metadata": {
    "ExecuteTime": {
     "end_time": "2023-11-10T23:20:31.422087Z",
     "start_time": "2023-11-10T23:20:31.413496Z"
    }
   },
   "outputs": [
    {
     "data": {
      "text/plain": [
       "(array([ 0,  1,  2,  3,  4,  5,  6,  7,  8,  9, 10, 11, 12, 13, 14, 15, 16,\n",
       "        17, 18, 19, 21, 22, 23, 24, 25, 26, 27, 28]),\n",
       " array([ 131, 2557,   19,  180,    8,   20,  315,   12, 2096,  722,  242,\n",
       "          27,  218,   60,  394,  380,  160,   66,  975,  118,  858,  243,\n",
       "         265,    2,    2, 1495,  184,  854]))"
      ]
     },
     "execution_count": 34,
     "metadata": {},
     "output_type": "execute_result"
    }
   ],
   "source": [
    "idx_start = np.where(np.diff(predictions)!=0)[0]+1\n",
    "np.unique([predictions[id_start] for id_start in idx_start], return_counts=True)"
   ]
  },
  {
   "cell_type": "markdown",
   "id": "432fa712",
   "metadata": {},
   "source": [
    "### Save processed file"
   ]
  },
  {
   "cell_type": "code",
   "execution_count": 35,
   "id": "6c86239e",
   "metadata": {
    "ExecuteTime": {
     "end_time": "2023-12-01T21:06:49.832774Z",
     "start_time": "2023-12-01T21:06:49.828945Z"
    }
   },
   "outputs": [],
   "source": [
    "np.save('../processed_data/predict_video_2.npy', predictions)"
   ]
  },
  {
   "cell_type": "code",
   "execution_count": 36,
   "id": "d01df29a",
   "metadata": {},
   "outputs": [],
   "source": [
    "%store -r save_path\n",
    "np.save(os.path.join(save_path, 'predict_video_exp_16.npy'), predictions)"
   ]
  },
  {
   "cell_type": "code",
   "execution_count": 37,
   "id": "8de37bbe",
   "metadata": {
    "ExecuteTime": {
     "end_time": "2023-11-10T23:21:07.464839Z",
     "start_time": "2023-11-10T23:21:07.456531Z"
    }
   },
   "outputs": [
    {
     "data": {
      "text/plain": [
       "array([  21.4,   21.5,   26.3,   53.9,   54. ,   54.1,   54.3,   54.4,\n",
       "         54.5,   54.6,   54.7,   75.3,   75.4,   75.5,   75.6,   75.7,\n",
       "         75.8,   75.9,   76. ,   76.1,   76.2,   76.3,   76.4,   76.5,\n",
       "         76.6,   76.7,   76.8,   76.9,   77. ,   77.1,   77.2,   78.7,\n",
       "        102.6,  107. ,  114.5,  114.6,  186.6,  232. ,  234. ,  248.9,\n",
       "        262.9,  342.2,  362.5,  362.6,  362.7,  367.2,  367.3,  470.9,\n",
       "        475.7,  534.6,  611.4,  611.5,  670.8,  705.3,  722.3,  722.4,\n",
       "        760.1,  845.3,  846. ,  847. ,  862. ,  865.4,  865.5,  930.3,\n",
       "        930.4,  930.5,  930.6,  940.8,  940.9, 1143.5, 1143.6, 1143.7,\n",
       "       1143.8, 1144. , 1144.1, 1190.4, 1210.7, 1229.6, 1302.9, 1306.3,\n",
       "       1365.4, 1374.1, 1387.7, 1387.8, 1388.1, 1407. , 1547.9, 1580.2,\n",
       "       1618.8, 1620. , 1620.4, 1620.5, 1620.8, 1620.9, 1621. , 1621.1,\n",
       "       1621.3, 1621.9, 1622.1, 1622.2, 1622.3, 1622.4, 1622.5, 1622.6,\n",
       "       1622.7, 1624. , 1624.1, 1624.2, 1624.3, 1624.4, 1624.5, 1627.5,\n",
       "       1634.4, 1637.4, 1637.7, 1638.2, 1638.3, 1638.4, 1638.7, 1638.8,\n",
       "       1639.6, 1640.5, 1640.6, 1640.7, 1642.6, 1642.9, 1643.2, 1643.3,\n",
       "       1643.4, 1643.5, 1643.6, 1643.8, 1643.9, 1644. , 1644.5, 1653.8,\n",
       "       1653.9, 1654. , 1654.1, 1654.2, 1659.3, 1678.8, 1817.1, 1817.4,\n",
       "       1817.5, 1817.6, 1817.7, 1817.9, 1818. , 1818.1, 1818.2, 1818.3,\n",
       "       1818.6, 1818.7, 1819. , 1819.1, 1893.1, 1893.3, 1893.7, 1893.8,\n",
       "       1894.4, 1894.5, 1894.6, 1894.7, 1894.8, 1894.9, 1895.4, 1895.5,\n",
       "       1895.6, 1895.7, 1895.8, 1895.9, 1896. , 1896.1, 1896.3, 1896.4,\n",
       "       1920.9, 1928.6, 1981.7, 1993.3, 1996. , 2126.7, 2207.7, 2207.8,\n",
       "       2207.9, 2208.2, 2208.4, 2250.7, 2250.8, 2250.9, 2251. , 2251.1,\n",
       "       2251.2, 2361.7, 2362.1, 2365.5, 2365.6, 2365.7, 2365.8, 2365.9,\n",
       "       2366.6, 2366.7, 2366.8, 2379.3, 2380.2, 2422.3, 2423. , 2423.2,\n",
       "       2423.3, 2423.4, 2423.7, 2424. , 2424.1, 2424.2, 2424.3, 2424.4,\n",
       "       2424.5, 2424.6, 2424.7, 2424.8, 2424.9, 2427.3, 2442.9, 2443. ,\n",
       "       2443.1, 2443.2, 2443.4, 2443.6, 2443.8, 2443.9, 2444. , 2444.1,\n",
       "       2444.3, 2477.9, 2591.5, 2591.6, 2591.7, 2591.8, 2591.9, 2593.4,\n",
       "       2601.6, 2602.2, 2602.3, 2602.4, 2602.5, 2602.7, 2602.8, 2602.9,\n",
       "       2603. , 2685.8, 2685.9, 2686. , 2686.3, 2808.2, 2808.3, 2837.2,\n",
       "       2887.9, 2888. , 2888.2, 2889.5, 2928.9, 2931.6, 2956.6, 2957. ,\n",
       "       2957.4, 2957.5, 2957.6, 2957.7, 2957.8, 2957.9, 2958. , 2958.1,\n",
       "       2958.3, 2958.4, 2958.6, 3084. , 3181.9, 3187.8, 3199.7, 3199.8,\n",
       "       3245.4, 3245.5, 3246.4, 3246.5, 3247.2, 3247.3, 3247.4, 3247.5,\n",
       "       3247.6, 3247.7, 3247.8, 3247.9, 3252.6, 3295.2, 3295.3, 3295.7,\n",
       "       3295.8, 3296.3, 3296.7, 3359.2, 3359.3, 3359.4, 3359.5, 3359.6,\n",
       "       3359.7, 3359.8, 3359.9, 3360. , 3360.1, 3360.2, 3360.3, 3360.6,\n",
       "       3360.7, 3360.8, 3360.9, 3361.1, 3361.2, 3361.3, 3361.4, 3361.5,\n",
       "       3373.5, 3403.2, 3481.6, 3519.6, 3531.1, 3531.2, 3531.3, 3531.4,\n",
       "       3531.5, 3531.6, 3531.7, 3531.8, 3531.9, 3532. , 3532.1, 3532.2,\n",
       "       3532.3, 3532.4, 3532.5, 3532.6, 3532.7, 3532.8, 3532.9, 3533. ,\n",
       "       3533.3, 3534.2, 3534.4, 3534.5, 3534.6, 3534.7, 3534.8, 3534.9,\n",
       "       3535. , 3535.1, 3535.2, 3535.3, 3535.4, 3535.5, 3535.6, 3535.7,\n",
       "       3535.8, 3535.9, 3536.3, 3537.2, 3538.2, 3539.1, 3539.5, 3540. ,\n",
       "       3540.4, 3540.5, 3540.6, 3540.7, 3540.8, 3540.9, 3541. , 3545.8,\n",
       "       3549. , 3549.1, 3549.5, 3593.3, 3597.3, 3597.4, 3597.5, 3597.6,\n",
       "       3597.7, 3597.8, 3597.9, 3598. , 3598.1, 3598.2, 3598.3, 3598.4,\n",
       "       3598.5, 3598.6, 3598.7, 3598.8, 3598.9, 3603.9, 3693.6, 3697.6,\n",
       "       3698.4, 3698.7, 3830.2, 3830.8, 3889. , 3889.2, 3892.4, 3892.5,\n",
       "       3892.7, 3892.8, 3892.9, 3893. , 3893.1, 3893.2, 3893.4, 3893.6,\n",
       "       3894.5, 3895.1, 3895.2, 3895.3, 3895.4, 3895.5, 3895.6, 3895.7,\n",
       "       3895.8, 3895.9, 3896.2, 3901.2, 3901.3, 3901.4, 3901.5])"
      ]
     },
     "execution_count": 37,
     "metadata": {},
     "output_type": "execute_result"
    }
   ],
   "source": [
    "stim_on = 3\n",
    "# in seconds, when did the animal perform behavior 2\n",
    "behavior_times = np.where(predictions==stim_on)[0]/10\n",
    "behavior_times"
   ]
  },
  {
   "cell_type": "code",
   "execution_count": 38,
   "id": "7b5ebb48",
   "metadata": {
    "ExecuteTime": {
     "end_time": "2023-11-10T23:25:33.881830Z",
     "start_time": "2023-11-10T23:25:33.827441Z"
    }
   },
   "outputs": [
    {
     "data": {
      "image/png": "[encoded data removed]",
      "text/plain": [
       "<Figure size 1000x200 with 1 Axes>"
      ]
     },
     "metadata": {},
     "output_type": "display_data"
    }
   ],
   "source": [
    "fig, ax = plt.subplots(1, 1, figsize=(10, 2))\n",
    "# ax.plot(onset_times,\n",
    "#         np.ones_like(onset_times),\n",
    "#         ls='', marker='|', markersize=1, c='k', alpha=1)\n",
    "ax.plot(behavior_times,\n",
    "        np.ones_like(behavior_times)+0.5,\n",
    "        ls='', marker='|', markersize=1, c='r', alpha=1)\n",
    "ax.set_yticks([])\n",
    "ax.vlines(5*60, 0.5, 2)\n",
    "ax.vlines(35*60, 0.5, 2)\n",
    "ax.vlines(65*60, 0.5, 2)\n",
    "ax.set_ylim([0.5, 2])\n",
    "\n",
    "# ax.set_xlim([50, 100])\n",
    "ax.set_title('Behavior predictions')\n",
    "ax.spines[['right', 'top']].set_visible(False)\n",
    "ax.set_xlabel('Time (s)')\n",
    "plt.show()"
   ]
  },
  {
   "cell_type": "code",
   "execution_count": null,
   "id": "2b1969f2",
   "metadata": {},
   "outputs": [],
   "source": []
  },
  {
   "cell_type": "code",
   "execution_count": null,
   "id": "ae884432",
   "metadata": {},
   "outputs": [],
   "source": []
  }
 ],
 "metadata": {
  "kernelspec": {
   "display_name": "Python 3 (ipykernel)",
   "language": "python",
   "name": "python3"
  },
  "language_info": {
   "codemirror_mode": {
    "name": "ipython",
    "version": 3
   },
   "file_extension": ".py",
   "mimetype": "text/x-python",
   "name": "python",
   "nbconvert_exporter": "python",
   "pygments_lexer": "ipython3",
   "version": "3.11.5"
  }
 },
 "nbformat": 4,
 "nbformat_minor": 5
}
