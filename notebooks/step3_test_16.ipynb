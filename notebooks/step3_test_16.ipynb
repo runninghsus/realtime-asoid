{
 "cells": [
  {
   "cell_type": "code",
   "execution_count": 57,
   "metadata": {
    "ExecuteTime": {
     "end_time": "2023-12-01T21:04:00.929165Z",
     "start_time": "2023-12-01T21:04:00.923401Z"
    },
    "tags": []
   },
   "outputs": [],
   "source": [
    "import pickle\n",
    "import matplotlib.pyplot as plt\n",
    "import sys\n",
    "import os\n",
    "import pandas as pd\n",
    "\n",
    "sys.path.append(\"../\")\n",
    "from utils.preprocessing import *"
   ]
  },
  {
   "cell_type": "markdown",
   "metadata": {},
   "source": [
    "### predict using the model"
   ]
  },
  {
   "cell_type": "code",
   "execution_count": 58,
   "metadata": {
    "ExecuteTime": {
     "end_time": "2023-12-01T20:56:32.924704Z",
     "start_time": "2023-12-01T20:56:32.269347Z"
    }
   },
   "outputs": [],
   "source": [
    "[features, scaled_features] = np.load('../processed_data/features_video_exp_16.npy', allow_pickle=True)\n",
    "with open('Z:/hsu/output/comprehensive_behavior_model.pkl', 'rb') as fr:\n",
    "    model = pickle.load(fr)\n",
    "predictions = model.predict(features)"
   ]
  },
  {
   "cell_type": "code",
   "execution_count": 59,
   "metadata": {
    "ExecuteTime": {
     "end_time": "2023-12-01T20:58:11.088603Z",
     "start_time": "2023-12-01T20:58:11.049915Z"
    }
   },
   "outputs": [
    {
     "data": {
      "text/plain": [
       "(29, 29)"
      ]
     },
     "execution_count": 59,
     "metadata": {},
     "output_type": "execute_result"
    }
   ],
   "source": [
    "behavior_nonest_cats = ['torso_groom', 'investigate_0', 'unsure_0', 'wall_rear_0', 'rear_0',\n",
    "                        'unsure_2', 'rear', 'investigate_1', 'investigate_2', 'right_itch',\n",
    "                        'investigate_3', 'sleep_scrunch_0', 'sleep_scrunch_1', 'wall_rear_1', 'right_body_groom',\n",
    "                        'face_groom_1', 'dive_scrunch', 'head_groom', 'left_orient', 'left_investigate',\n",
    "                        'face_groom_2', 'left_body groom', 'left_itch_1', 'left_itch_2', 'face_groom_3',\n",
    "                        'paw_groom', 'locomotion', 'right_forepaw_orient', 'right_orient']\n",
    "\n",
    "len(behavior_nonest_cats), model.n_classes_"
   ]
  },
  {
   "cell_type": "code",
   "execution_count": 60,
   "metadata": {
    "ExecuteTime": {
     "end_time": "2023-12-01T21:20:14.235366Z",
     "start_time": "2023-12-01T21:20:14.232306Z"
    }
   },
   "outputs": [
    {
     "data": {
      "text/plain": [
       "15"
      ]
     },
     "execution_count": 60,
     "metadata": {},
     "output_type": "execute_result"
    }
   ],
   "source": [
    "behavior_nonest_cats.index('face_groom_1')"
   ]
  },
  {
   "cell_type": "code",
   "execution_count": 61,
   "metadata": {
    "ExecuteTime": {
     "end_time": "2023-12-01T21:01:29.305779Z",
     "start_time": "2023-12-01T21:01:29.301537Z"
    }
   },
   "outputs": [
    {
     "data": {
      "text/plain": [
       "16"
      ]
     },
     "execution_count": 61,
     "metadata": {},
     "output_type": "execute_result"
    }
   ],
   "source": [
    "behavior_nonest_merged = [6, 7, 8, 9, 10, 14, 15, 16, 17, 18, 20, 21, 22, 25, 26, 28]\n",
    "len(behavior_nonest_merged)"
   ]
  },
  {
   "cell_type": "code",
   "execution_count": 62,
   "metadata": {
    "ExecuteTime": {
     "end_time": "2023-12-01T21:03:32.211928Z",
     "start_time": "2023-12-01T21:03:32.208829Z"
    }
   },
   "outputs": [],
   "source": [
    "total_counts = {key:  [] for key in [behavior_nonest_cats[j] \n",
    "                                     for j in behavior_nonest_merged]}\n",
    "\n",
    "for i in behavior_nonest_merged:\n",
    "    total_counts[behavior_nonest_cats[i]] = len(np.where(predictions==i)[0])"
   ]
  },
  {
   "cell_type": "code",
   "execution_count": 63,
   "metadata": {
    "ExecuteTime": {
     "end_time": "2023-12-01T21:05:02.721073Z",
     "start_time": "2023-12-01T21:05:02.716283Z"
    }
   },
   "outputs": [],
   "source": [
    "df_counts_100ms = pd.DataFrame(total_counts, index=[0])\n",
    "df_counts_100ms.to_csv('../test_behavior_counts.csv', index=None)"
   ]
  },
  {
   "cell_type": "code",
   "execution_count": 64,
   "metadata": {
    "scrolled": true
   },
   "outputs": [
    {
     "name": "stdout",
     "output_type": "stream",
     "text": [
      "Saved the CSV file to Z:/KayCei/AD13-D2/VIDEOS/072523-locomotion sham\\test_behavior_counts.csv\n"
     ]
    }
   ],
   "source": [
    "%store -r save_path\n",
    "# Check if save_path is defined\n",
    "if save_path:\n",
    "    filename = os.path.join(save_path, 'test_behavior_counts.csv')\n",
    "    df_counts_100ms.to_csv(filename, index=None)\n",
    "    print(f'Saved the CSV file to {filename}')\n",
    "else:\n",
    "    print(\"Variable 'save_path' is not defined.\")"
   ]
  },
  {
   "cell_type": "code",
   "execution_count": 65,
   "metadata": {
    "ExecuteTime": {
     "end_time": "2023-12-01T20:59:43.820868Z",
     "start_time": "2023-12-01T20:59:43.817071Z"
    }
   },
   "outputs": [
    {
     "ename": "ValueError",
     "evalue": "'contra_orient' is not in list",
     "output_type": "error",
     "traceback": [
      "\u001b[1;31m---------------------------------------------------------------------------\u001b[0m",
      "\u001b[1;31mValueError\u001b[0m                                Traceback (most recent call last)",
      "Input \u001b[1;32mIn [65]\u001b[0m, in \u001b[0;36m<cell line: 2>\u001b[1;34m()\u001b[0m\n\u001b[0;32m      1\u001b[0m total_loco \u001b[38;5;241m=\u001b[39m \u001b[38;5;28mlen\u001b[39m(np\u001b[38;5;241m.\u001b[39mwhere(predictions\u001b[38;5;241m==\u001b[39mbehavior_nonest_cats\u001b[38;5;241m.\u001b[39mindex(\u001b[38;5;124m'\u001b[39m\u001b[38;5;124mlocomotion\u001b[39m\u001b[38;5;124m'\u001b[39m))[\u001b[38;5;241m0\u001b[39m])\n\u001b[1;32m----> 2\u001b[0m total_contra \u001b[38;5;241m=\u001b[39m \u001b[38;5;28mlen\u001b[39m(np\u001b[38;5;241m.\u001b[39mwhere(predictions\u001b[38;5;241m==\u001b[39m\u001b[43mbehavior_nonest_cats\u001b[49m\u001b[38;5;241;43m.\u001b[39;49m\u001b[43mindex\u001b[49m\u001b[43m(\u001b[49m\u001b[38;5;124;43m'\u001b[39;49m\u001b[38;5;124;43mcontra_orient\u001b[39;49m\u001b[38;5;124;43m'\u001b[39;49m\u001b[43m)\u001b[49m)[\u001b[38;5;241m0\u001b[39m])\n",
      "\u001b[1;31mValueError\u001b[0m: 'contra_orient' is not in list"
     ]
    }
   ],
   "source": [
    "total_loco = len(np.where(predictions==behavior_nonest_cats.index('locomotion'))[0])\n",
    "total_contra = len(np.where(predictions==behavior_nonest_cats.index('contra_orient'))[0])"
   ]
  },
  {
   "cell_type": "code",
   "execution_count": 66,
   "metadata": {
    "ExecuteTime": {
     "end_time": "2023-12-01T21:00:46.297927Z",
     "start_time": "2023-12-01T21:00:46.221712Z"
    }
   },
   "outputs": [
    {
     "ename": "NameError",
     "evalue": "name 'total_contra' is not defined",
     "output_type": "error",
     "traceback": [
      "\u001b[1;31m---------------------------------------------------------------------------\u001b[0m",
      "\u001b[1;31mNameError\u001b[0m                                 Traceback (most recent call last)",
      "Input \u001b[1;32mIn [66]\u001b[0m, in \u001b[0;36m<cell line: 1>\u001b[1;34m()\u001b[0m\n\u001b[1;32m----> 1\u001b[0m comp_loco_contra \u001b[38;5;241m=\u001b[39m [total_loco, \u001b[43mtotal_contra\u001b[49m]\n\u001b[0;32m      2\u001b[0m plt\u001b[38;5;241m.\u001b[39mbar(np\u001b[38;5;241m.\u001b[39marange(\u001b[38;5;28mlen\u001b[39m(comp_loco_contra)), comp_loco_contra)\n",
      "\u001b[1;31mNameError\u001b[0m: name 'total_contra' is not defined"
     ]
    }
   ],
   "source": [
    "comp_loco_contra = [total_loco, total_contra]\n",
    "plt.bar(np.arange(len(comp_loco_contra)), comp_loco_contra)"
   ]
  },
  {
   "cell_type": "markdown",
   "metadata": {},
   "source": [
    "### place side-by-side to visualize pattern"
   ]
  },
  {
   "cell_type": "code",
   "execution_count": 67,
   "metadata": {
    "ExecuteTime": {
     "end_time": "2023-12-01T20:56:58.294466Z",
     "start_time": "2023-12-01T20:56:58.060496Z"
    }
   },
   "outputs": [
    {
     "data": {
      "image/png": "[encoded data removed]",
      "text/plain": [
       "<Figure size 1500x300 with 2 Axes>"
      ]
     },
     "metadata": {},
     "output_type": "display_data"
    }
   ],
   "source": [
    "# plot scaled features with the corresponding predictions\n",
    "fig, ax = plt.subplots(2, 1, figsize=(15, 3), gridspec_kw={'height_ratios': [6, 1]}, sharex=True)\n",
    "# first 30 seconds\n",
    "ax[0].imshow(scaled_features.T[:, ::10], vmin=-2, vmax=2, cmap='RdBu_r')\n",
    "ax[1].scatter(np.arange(len(predictions[::10])), predictions[::10], s=1, color='k')\n",
    "plt.show()"
   ]
  },
  {
   "cell_type": "code",
   "execution_count": 68,
   "metadata": {
    "ExecuteTime": {
     "end_time": "2023-11-10T23:20:24.813956Z",
     "start_time": "2023-11-10T23:20:24.807724Z"
    }
   },
   "outputs": [
    {
     "data": {
      "text/plain": [
       "array([21, 19, 21, 21, 19, 21, 21, 21, 19, 21, 21, 21, 21, 21, 21, 21, 21,\n",
       "       21, 21, 21, 21, 21, 19, 23, 10, 10, 10, 18, 10, 10, 10, 23, 23,  8,\n",
       "       26, 18, 18, 21, 21, 22, 18, 26, 26, 18, 21, 21, 21, 21, 21, 23],\n",
       "      dtype=int64)"
      ]
     },
     "execution_count": 68,
     "metadata": {},
     "output_type": "execute_result"
    }
   ],
   "source": [
    "predictions[:50]"
   ]
  },
  {
   "cell_type": "code",
   "execution_count": 69,
   "metadata": {
    "ExecuteTime": {
     "end_time": "2023-11-10T23:20:31.422087Z",
     "start_time": "2023-11-10T23:20:31.413496Z"
    }
   },
   "outputs": [
    {
     "data": {
      "text/plain": [
       "(array([ 0,  1,  2,  3,  4,  5,  6,  7,  8,  9, 10, 11, 12, 13, 14, 15, 16,\n",
       "        17, 18, 19, 21, 22, 23, 24, 25, 26, 27, 28], dtype=int64),\n",
       " array([ 345, 2076,   37,  174,   11,   22,  583,   12, 1274, 1514,  274,\n",
       "         176,  428,   72,  986,  356,  131,   50, 1077,  152,  898,  252,\n",
       "         136,    4,    1, 1719,  162,  847], dtype=int64))"
      ]
     },
     "execution_count": 69,
     "metadata": {},
     "output_type": "execute_result"
    }
   ],
   "source": [
    "idx_start = np.where(np.diff(predictions)!=0)[0]+1\n",
    "np.unique([predictions[id_start] for id_start in idx_start], return_counts=True)"
   ]
  },
  {
   "cell_type": "markdown",
   "metadata": {},
   "source": [
    "### Save processed file"
   ]
  },
  {
   "cell_type": "code",
   "execution_count": 70,
   "metadata": {
    "ExecuteTime": {
     "end_time": "2023-12-01T21:06:49.832774Z",
     "start_time": "2023-12-01T21:06:49.828945Z"
    }
   },
   "outputs": [],
   "source": [
    "np.save('../processed_data/predict_video_2.npy', predictions)"
   ]
  },
  {
   "cell_type": "code",
   "execution_count": 71,
   "metadata": {},
   "outputs": [],
   "source": [
    "%store -r save_path\n",
    "np.save(os.path.join(save_path, 'predict_video_exp_16.npy'), predictions)"
   ]
  },
  {
   "cell_type": "code",
   "execution_count": 72,
   "metadata": {
    "ExecuteTime": {
     "end_time": "2023-11-10T23:21:07.464839Z",
     "start_time": "2023-11-10T23:21:07.456531Z"
    }
   },
   "outputs": [
    {
     "data": {
      "text/plain": [
       "array([   8.9,   52.2,   66.6,  148.3,  153.9,  154.1,  166.5,  195.7,\n",
       "        197. ,  197.6,  197.7,  251.2,  251.3,  251.5,  251.6,  251.7,\n",
       "        251.8,  251.9,  252. ,  252.1,  252.2,  252.4,  252.5,  252.6,\n",
       "        252.7,  252.8,  254.4,  254.5,  260.1,  263.6,  264.2,  264.6,\n",
       "        267.3,  267.7,  267.8,  268. ,  269.8,  270.5,  270.6,  272.5,\n",
       "        272.6,  272.7,  272.8,  272.9,  273. ,  273.1,  273.2,  273.3,\n",
       "        273.4,  273.5,  273.6,  273.7,  273.8,  309.1,  329.6,  330.6,\n",
       "        330.7,  351.2,  366.9,  367. ,  367.7,  367.8,  368.1,  368.2,\n",
       "        368.3,  368.4,  368.5,  368.6,  395.7,  395.8,  395.9,  407.3,\n",
       "        407.8,  408. ,  430.1,  431.3,  431.8,  432.9,  446.9,  447.4,\n",
       "        456.5,  494.5,  494.6,  517. ,  519. ,  535.5,  535.6,  535.7,\n",
       "        535.8,  535.9,  599.4,  609.9,  610.4,  683. ,  695.4,  695.6,\n",
       "        695.7,  695.8,  698.6,  734.3,  734.4,  734.5,  734.6,  734.7,\n",
       "        734.8,  734.9,  735. ,  737.4,  737.5,  737.6,  737.7,  737.8,\n",
       "        737.9,  744.5,  760.8,  760.9,  761. ,  761.1,  794.7,  830.5,\n",
       "        856.6,  886.9,  887.4,  887.5,  887.6,  887.7,  887.8,  898.2,\n",
       "        952.8,  953. ,  960.8,  960.9,  961. ,  975.7,  981.5,  981.7,\n",
       "        991. , 1058.2, 1208.9, 1221.3, 1246.1, 1246.2, 1255.6, 1255.7,\n",
       "       1257.6, 1257.7, 1257.8, 1294.9, 1295. , 1306.7, 1322.6, 1344.4,\n",
       "       1364. , 1407.8, 1506.4, 1506.5, 1506.6, 1507. , 1588.1, 1588.2,\n",
       "       1630.2, 1630.3, 1656.8, 1669.4, 1688.3, 1690.2, 1690.3, 1713.2,\n",
       "       1715.3, 1733.1, 1748.2, 1748.7, 1748.8, 1748.9, 1749. , 1751.5,\n",
       "       1776.3, 1777. , 1777.3, 1777.4, 1777.5, 1777.7, 1869.4, 1873.1,\n",
       "       1935.9, 1936.7, 1939.4, 1940.5, 1940.6, 1940.7, 1940.8, 1941.3,\n",
       "       1942.2, 1942.7, 1942.8, 1943.7, 1944. , 1944.2, 1945.6, 1946.2,\n",
       "       1946.4, 1946.5, 2110.2, 2110.3, 2110.5, 2110.6, 2110.8, 2110.9,\n",
       "       2111. , 2152.6, 2158.3, 2225.5, 2409.8, 2409.9, 2410. , 2410.1,\n",
       "       2410.2, 2410.3, 2410.4, 2410.5, 2517.6, 2544.6, 2568. , 2594.2,\n",
       "       2701. , 2701.5, 2765.2, 2769.5, 2798.6, 2805.3, 2810.9, 2811.2,\n",
       "       2811.3, 2811.7, 2816.7, 2816.8, 2817.2, 2817.8, 2817.9, 2818. ,\n",
       "       2818.1, 2818.2, 2848.2, 2909. , 2930.5, 2963.8, 2973.3, 2974.4,\n",
       "       2975.6, 2975.7, 2976.6, 2985. , 2996. , 2996.6, 3016.8, 3021.1,\n",
       "       3166.7, 3191.1, 3194.6, 3200.8, 3304.7, 3304.8, 3305. , 3306.2,\n",
       "       3306.3, 3306.4, 3306.5, 3306.6, 3306.7, 3306.8, 3306.9, 3307. ,\n",
       "       3333.3, 3356.9, 3364.5, 3364.6, 3387.1, 3461.7, 3466.3, 3466.5,\n",
       "       3466.6, 3539.1, 3599.7, 3646.9, 3647. , 3656.1, 3669.1, 3669.2,\n",
       "       3669.3, 3669.4, 3710.2, 3710.3, 3710.7, 3821.1, 3825.3, 3825.4])"
      ]
     },
     "execution_count": 72,
     "metadata": {},
     "output_type": "execute_result"
    }
   ],
   "source": [
    "stim_on = 3\n",
    "# in seconds, when did the animal perform behavior 2\n",
    "behavior_times = np.where(predictions==stim_on)[0]/10\n",
    "behavior_times"
   ]
  },
  {
   "cell_type": "code",
   "execution_count": 73,
   "metadata": {
    "ExecuteTime": {
     "end_time": "2023-11-10T23:25:33.881830Z",
     "start_time": "2023-11-10T23:25:33.827441Z"
    }
   },
   "outputs": [
    {
     "data": {
      "image/png": "[encoded data removed]",
      "text/plain": [
       "<Figure size 1000x200 with 1 Axes>"
      ]
     },
     "metadata": {},
     "output_type": "display_data"
    }
   ],
   "source": [
    "fig, ax = plt.subplots(1, 1, figsize=(10, 2))\n",
    "# ax.plot(onset_times,\n",
    "#         np.ones_like(onset_times),\n",
    "#         ls='', marker='|', markersize=1, c='k', alpha=1)\n",
    "ax.plot(behavior_times,\n",
    "        np.ones_like(behavior_times)+0.5,\n",
    "        ls='', marker='|', markersize=1, c='r', alpha=1)\n",
    "ax.set_yticks([])\n",
    "ax.vlines(5*60, 0.5, 2)\n",
    "ax.vlines(35*60, 0.5, 2)\n",
    "ax.vlines(65*60, 0.5, 2)\n",
    "ax.set_ylim([0.5, 2])\n",
    "\n",
    "# ax.set_xlim([50, 100])\n",
    "ax.set_title('Behavior predictions')\n",
    "ax.spines[['right', 'top']].set_visible(False)\n",
    "ax.set_xlabel('Time (s)')\n",
    "plt.show()"
   ]
  },
  {
   "cell_type": "code",
   "execution_count": null,
   "metadata": {},
   "outputs": [],
   "source": []
  },
  {
   "cell_type": "code",
   "execution_count": null,
   "metadata": {},
   "outputs": [],
   "source": []
  }
 ],
 "metadata": {
  "kernelspec": {
   "display_name": "Python 3",
   "language": "python",
   "name": "python3"
  },
  "language_info": {
   "codemirror_mode": {
    "name": "ipython",
    "version": 3
   },
   "file_extension": ".py",
   "mimetype": "text/x-python",
   "name": "python",
   "nbconvert_exporter": "python",
   "pygments_lexer": "ipython3",
   "version": "3.8.5"
  }
 },
 "nbformat": 4,
 "nbformat_minor": 5
}
