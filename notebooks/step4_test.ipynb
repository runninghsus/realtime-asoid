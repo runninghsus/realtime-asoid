{
 "cells": [
  {
   "cell_type": "code",
   "execution_count": 1,
   "id": "initial_id",
   "metadata": {
    "tags": [],
    "ExecuteTime": {
     "end_time": "2023-11-10T23:26:01.824026Z",
     "start_time": "2023-11-10T23:26:01.420423Z"
    }
   },
   "outputs": [],
   "source": [
    "import pandas as pd\n",
    "import numpy as np\n",
    "import matplotlib.pyplot as plt"
   ]
  },
  {
   "cell_type": "code",
   "execution_count": 2,
   "id": "96127563e84ca0d3",
   "metadata": {
    "ExecuteTime": {
     "end_time": "2023-11-10T23:26:08.971182Z",
     "start_time": "2023-11-10T23:26:08.963352Z"
    }
   },
   "outputs": [],
   "source": [
    "timestamp_file = '../experiments/20231110_14_54_32.csv'\n",
    "stimtime_df = pd.read_csv(timestamp_file)"
   ]
  },
  {
   "cell_type": "code",
   "execution_count": 3,
   "id": "d859fecf73543a84",
   "metadata": {
    "ExecuteTime": {
     "end_time": "2023-11-10T23:26:09.731942Z",
     "start_time": "2023-11-10T23:26:09.717587Z"
    }
   },
   "outputs": [
    {
     "data": {
      "text/plain": "   Experiment_Start  (1, 'Stim_Start')  (2, 'Stim_Start')  (3, 'Stim_Start')  \\\n0      1.699646e+09       1.699646e+09       1.699646e+09       1.699646e+09   \n\n   (4, 'Stim_Start')  (5, 'Stim_Start')  (6, 'Stim_Start')  (7, 'Stim_Start')  \\\n0       1.699646e+09       1.699646e+09       1.699646e+09       1.699646e+09   \n\n   (8, 'Stim_Start')  (9, 'Stim_Start')  ...  (340, 'Stim_Start')  \\\n0       1.699646e+09       1.699646e+09  ...         1.699650e+09   \n\n   (341, 'Stim_Start')  (342, 'Stim_Start')  (343, 'Stim_Start')  \\\n0         1.699650e+09         1.699650e+09         1.699650e+09   \n\n   (344, 'Stim_Start')  (345, 'Stim_Start')  (346, 'Stim_Start')  \\\n0         1.699650e+09         1.699650e+09         1.699650e+09   \n\n   (347, 'Stim_Start')  (348, 'Stim_Start')  (349, 'Stim_Start')  \n0         1.699650e+09         1.699650e+09         1.699650e+09  \n\n[1 rows x 350 columns]",
      "text/html": "<div>\n<style scoped>\n    .dataframe tbody tr th:only-of-type {\n        vertical-align: middle;\n    }\n\n    .dataframe tbody tr th {\n        vertical-align: top;\n    }\n\n    .dataframe thead th {\n        text-align: right;\n    }\n</style>\n<table border=\"1\" class=\"dataframe\">\n  <thead>\n    <tr style=\"text-align: right;\">\n      <th></th>\n      <th>Experiment_Start</th>\n      <th>(1, 'Stim_Start')</th>\n      <th>(2, 'Stim_Start')</th>\n      <th>(3, 'Stim_Start')</th>\n      <th>(4, 'Stim_Start')</th>\n      <th>(5, 'Stim_Start')</th>\n      <th>(6, 'Stim_Start')</th>\n      <th>(7, 'Stim_Start')</th>\n      <th>(8, 'Stim_Start')</th>\n      <th>(9, 'Stim_Start')</th>\n      <th>...</th>\n      <th>(340, 'Stim_Start')</th>\n      <th>(341, 'Stim_Start')</th>\n      <th>(342, 'Stim_Start')</th>\n      <th>(343, 'Stim_Start')</th>\n      <th>(344, 'Stim_Start')</th>\n      <th>(345, 'Stim_Start')</th>\n      <th>(346, 'Stim_Start')</th>\n      <th>(347, 'Stim_Start')</th>\n      <th>(348, 'Stim_Start')</th>\n      <th>(349, 'Stim_Start')</th>\n    </tr>\n  </thead>\n  <tbody>\n    <tr>\n      <th>0</th>\n      <td>1.699646e+09</td>\n      <td>1.699646e+09</td>\n      <td>1.699646e+09</td>\n      <td>1.699646e+09</td>\n      <td>1.699646e+09</td>\n      <td>1.699646e+09</td>\n      <td>1.699646e+09</td>\n      <td>1.699646e+09</td>\n      <td>1.699646e+09</td>\n      <td>1.699646e+09</td>\n      <td>...</td>\n      <td>1.699650e+09</td>\n      <td>1.699650e+09</td>\n      <td>1.699650e+09</td>\n      <td>1.699650e+09</td>\n      <td>1.699650e+09</td>\n      <td>1.699650e+09</td>\n      <td>1.699650e+09</td>\n      <td>1.699650e+09</td>\n      <td>1.699650e+09</td>\n      <td>1.699650e+09</td>\n    </tr>\n  </tbody>\n</table>\n<p>1 rows × 350 columns</p>\n</div>"
     },
     "execution_count": 3,
     "metadata": {},
     "output_type": "execute_result"
    }
   ],
   "source": [
    "stimtime_df"
   ]
  },
  {
   "cell_type": "code",
   "execution_count": 4,
   "id": "822b123bb13b3988",
   "metadata": {
    "ExecuteTime": {
     "end_time": "2023-11-10T23:26:10.754509Z",
     "start_time": "2023-11-10T23:26:10.730178Z"
    }
   },
   "outputs": [],
   "source": [
    "# reference to experiment start time\n",
    "stim_keys = list(stimtime_df.keys())[1:]\n",
    "onset_ls = []\n",
    "for stim_key in stim_keys:\n",
    "    onset_ls.append(stimtime_df[stim_key] - stimtime_df['Experiment_Start'])\n",
    "onset_times = np.array(onset_ls)"
   ]
  },
  {
   "cell_type": "code",
   "execution_count": 7,
   "id": "e2b360128d0abe11",
   "metadata": {
    "ExecuteTime": {
     "end_time": "2023-11-10T23:34:45.330658Z",
     "start_time": "2023-11-10T23:34:45.279216Z"
    }
   },
   "outputs": [
    {
     "data": {
      "text/plain": "<Figure size 1000x200 with 1 Axes>",
      "image/png": "[encoded data removed]"
     },
     "metadata": {},
     "output_type": "display_data"
    }
   ],
   "source": [
    "fig, ax = plt.subplots(1, 1, figsize=(10, 2))\n",
    "ax.plot(onset_times,\n",
    "        np.ones_like(onset_times),\n",
    "        ls='', marker='|', markersize=1.5, c='k', alpha=1)\n",
    "ax.set_yticks([])\n",
    "ax.set_title('Stim/Bout starts')\n",
    "ax.vlines(5*60, 0.5, 2)\n",
    "ax.vlines(35*60, 0.5, 2)\n",
    "ax.vlines(65*60, 0.5, 2)\n",
    "ax.set_ylim([0.5, 2])\n",
    "ax.spines[['right', 'top']].set_visible(False)\n",
    "ax.set_xlabel('Time (s)')\n",
    "plt.show()"
   ]
  },
  {
   "cell_type": "markdown",
   "id": "8daff69f35687c1c",
   "metadata": {},
   "source": [
    "### Save processed file"
   ]
  },
  {
   "cell_type": "code",
   "execution_count": 6,
   "id": "4b4f13aa5eccbfd6",
   "metadata": {
    "ExecuteTime": {
     "end_time": "2023-11-10T23:26:38.514604Z",
     "start_time": "2023-11-10T23:26:38.509184Z"
    }
   },
   "outputs": [],
   "source": [
    "np.save('../experiments/onset_times_video_exp.npy', onset_times)"
   ]
  },
  {
   "cell_type": "code",
   "execution_count": null,
   "id": "cee614d42c2225bc",
   "metadata": {},
   "outputs": [],
   "source": []
  }
 ],
 "metadata": {
  "kernelspec": {
   "display_name": "Python 3 (ipykernel)",
   "language": "python",
   "name": "python3"
  },
  "language_info": {
   "codemirror_mode": {
    "name": "ipython",
    "version": 3
   },
   "file_extension": ".py",
   "mimetype": "text/x-python",
   "name": "python",
   "nbconvert_exporter": "python",
   "pygments_lexer": "ipython3",
   "version": "3.8.0"
  }
 },
 "nbformat": 4,
 "nbformat_minor": 5
}
