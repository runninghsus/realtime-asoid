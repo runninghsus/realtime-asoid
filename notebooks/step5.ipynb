{
 "cells": [
  {
   "cell_type": "code",
   "execution_count": 1,
   "metadata": {
    "ExecuteTime": {
     "end_time": "2023-11-08T18:19:30.670265Z",
     "start_time": "2023-11-08T18:19:22.023032Z"
    },
    "tags": []
   },
   "outputs": [],
   "source": [
    "import pandas as pd\n",
    "import numpy as np\n",
    "import matplotlib.pyplot as plt"
   ]
  },
  {
   "cell_type": "code",
   "execution_count": 2,
   "metadata": {
    "ExecuteTime": {
     "end_time": "2023-11-08T18:19:32.022450Z",
     "start_time": "2023-11-08T18:19:32.016170Z"
    }
   },
   "outputs": [],
   "source": [
    "# post-hoc\n",
    "predictions = np.load('../processed_data/predict_video_2.npy')\n",
    "# real-time \n",
    "onset_times = np.load('../processed_data/onset_times_video_2.npy')"
   ]
  },
  {
   "cell_type": "code",
   "execution_count": 3,
   "metadata": {
    "ExecuteTime": {
     "end_time": "2023-11-08T18:19:32.287696Z",
     "start_time": "2023-11-08T18:19:32.283887Z"
    }
   },
   "outputs": [
    {
     "data": {
      "text/plain": [
       "array([  26.5,   27.2,   27.3, ..., 3896.1, 3897.3, 3897.5])"
      ]
     },
     "execution_count": 3,
     "metadata": {},
     "output_type": "execute_result"
    }
   ],
   "source": [
    "stim_on = 2\n",
    "# in seconds, when did the animal perform behavior 2\n",
    "behavior_times = np.where(predictions==stim_on)[0]/10\n",
    "behavior_times"
   ]
  },
  {
   "cell_type": "code",
   "execution_count": 4,
   "metadata": {
    "ExecuteTime": {
     "end_time": "2023-11-08T18:19:46.469603Z",
     "start_time": "2023-11-08T18:19:46.432274Z"
    }
   },
   "outputs": [
    {
     "data": {
      "image/png": "[encoded data removed]",
      "text/plain": [
       "<Figure size 1000x200 with 1 Axes>"
      ]
     },
     "metadata": {},
     "output_type": "display_data"
    }
   ],
   "source": [
    "fig, ax = plt.subplots(1, 1, figsize=(10, 2))\n",
    "ax.plot(onset_times,\n",
    "        np.ones_like(onset_times),\n",
    "        ls='', marker='|', markersize=1, c='k', alpha=1)\n",
    "ax.plot(behavior_times,\n",
    "        np.ones_like(behavior_times)+0.5,\n",
    "        ls='', marker='|', markersize=1, c='r', alpha=1)\n",
    "ax.set_yticks([])\n",
    "ax.set_ylim([0.5, 2])\n",
    "ax.set_xlim([50, 100])\n",
    "ax.set_title('Stim/Bout starts')\n",
    "ax.spines[['right', 'top']].set_visible(False)\n",
    "ax.set_xlabel('Time (s)')\n",
    "plt.show()"
   ]
  },
  {
   "cell_type": "code",
   "execution_count": 5,
   "metadata": {},
   "outputs": [
    {
     "name": "stdout",
     "output_type": "stream",
     "text": [
      "this session matched behavior 2 *** 96.34146341463415% of the time\n"
     ]
    }
   ],
   "source": [
    "idx_start = np.where(np.diff(predictions)!=0)[0]+1\n",
    "num_behaviors_post = np.unique([predictions[id_start] for id_start in idx_start], return_counts=True)[1][stim_on]\n",
    "\n",
    "if len(onset_times)<num_behaviors_post:\n",
    "    print(f'this session matched behavior {stim_on} *** {len(onset_times)/num_behaviors_post*100}% of the time')\n",
    "else:\n",
    "    print(f'this session matched behavior {stim_on} *** {num_behaviors_post/len(onset_times)*100}% of the time')\n"
   ]
  },
  {
   "cell_type": "code",
   "execution_count": null,
   "metadata": {},
   "outputs": [],
   "source": []
  }
 ],
 "metadata": {
  "kernelspec": {
   "display_name": "Python 3",
   "language": "python",
   "name": "python3"
  },
  "language_info": {
   "codemirror_mode": {
    "name": "ipython",
    "version": 3
   },
   "file_extension": ".py",
   "mimetype": "text/x-python",
   "name": "python",
   "nbconvert_exporter": "python",
   "pygments_lexer": "ipython3",
   "version": "3.8.5"
  }
 },
 "nbformat": 4,
 "nbformat_minor": 5
}
