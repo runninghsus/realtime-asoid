{
 "cells": [
  {
   "cell_type": "code",
   "execution_count": 1,
   "id": "initial_id",
   "metadata": {
    "ExecuteTime": {
     "end_time": "2023-11-05T04:32:27.232658Z",
     "start_time": "2023-11-05T04:32:26.692144Z"
    },
    "tags": []
   },
   "outputs": [],
   "source": [
    "import pandas as pd\n",
    "import numpy as np\n",
    "import matplotlib.pyplot as plt"
   ]
  },
  {
   "cell_type": "code",
   "execution_count": 2,
   "id": "5e127f7cd795c6a",
   "metadata": {
    "ExecuteTime": {
     "end_time": "2023-11-05T04:32:27.238593Z",
     "start_time": "2023-11-05T04:32:27.235488Z"
    }
   },
   "outputs": [],
   "source": [
    "# post-hoc\n",
    "predictions = np.load('../processed_data/predict_video_2.npy')\n",
    "# real-time \n",
    "onset_times = np.load('../processed_data/onset_times_video_2.npy')"
   ]
  },
  {
   "cell_type": "code",
   "execution_count": 3,
   "id": "dc5649015c5c19c7",
   "metadata": {
    "ExecuteTime": {
     "end_time": "2023-11-05T04:32:32.624379Z",
     "start_time": "2023-11-05T04:32:32.618082Z"
    }
   },
   "outputs": [
    {
     "data": {
      "text/plain": [
       "array([  1.1,   2.1,   2.2,   2.3,   2.4,   3.8,   3.9,   4.7,   4.8,\n",
       "         4.9,   5. ,   5.1,  12.7,  12.8,  13.2,  13.3,  13.4,  13.5,\n",
       "        13.6,  13.7,  13.8,  13.9,  14. ,  14.1,  14.2,  14.3,  14.4,\n",
       "        14.5,  32.2,  33.5,  33.9,  36.7,  80.2,  80.3,  80.4,  80.5,\n",
       "        80.6,  80.7,  80.9,  81. ,  83.2,  83.3,  83.4,  83.5,  83.6,\n",
       "        83.7,  85.6,  85.8,  86. ,  86.1,  86.2,  86.3,  86.4,  86.5,\n",
       "        86.6,  86.7,  86.8,  94.5,  94.6,  94.7,  95.9,  96. ,  96.3,\n",
       "        96.4,  96.5,  96.6,  96.7,  96.9,  97. ,  97.3,  97.5,  97.6,\n",
       "        97.7,  98.9,  99. ,  99.1,  99.2,  99.3,  99.7,  99.9, 100.2,\n",
       "       100.3, 100.4, 100.5, 100.6, 100.7, 107.5, 107.6, 107.7, 107.8,\n",
       "       107.9, 108. , 108.1, 108.2, 108.3, 108.4, 108.5, 108.6, 108.7,\n",
       "       108.8, 117.8, 119. , 119.1, 119.2, 119.3, 119.4, 119.5, 119.6,\n",
       "       119.7, 119.8, 119.9, 120.6, 120.7, 120.8, 124.1, 124.2, 124.3,\n",
       "       124.4, 124.5, 124.6, 124.7, 124.8, 124.9, 125. , 125.1, 125.2,\n",
       "       125.3, 127.3, 127.4, 127.5, 128.7, 128.8, 128.9, 129.1, 129.3,\n",
       "       129.6, 129.7, 129.8, 129.9, 130. , 137.2, 143.1, 143.2, 143.3,\n",
       "       154.5, 154.6, 155.7, 155.8, 155.9, 156. , 156.1, 156.2, 156.3,\n",
       "       156.4, 165.3, 165.4, 165.5, 165.6, 165.7, 166.9, 167. , 167.1,\n",
       "       167.2, 167.3, 167.4, 167.5, 167.6, 170.7, 170.8, 170.9, 171. ,\n",
       "       171.1, 171.2, 172.1, 191.6, 192.4, 192.5, 202.7, 204. , 204.1,\n",
       "       204.2, 204.3, 204.4, 204.5, 207.4, 207.5, 209.5, 210.5, 210.6,\n",
       "       210.7, 211.2, 211.3, 211.4, 211.5, 211.6, 211.7, 213. , 213.1,\n",
       "       213.2, 213.3, 213.4, 213.5, 213.6, 213.7, 213.8, 213.9, 214. ,\n",
       "       216.2, 217.1, 217.2, 217.3, 217.4, 217.5, 217.6, 217.7, 217.8,\n",
       "       221.1, 221.2, 221.3, 221.4, 221.5, 221.6, 221.8, 223.4, 223.5,\n",
       "       223.6, 227.2, 227.3, 227.4, 227.5, 227.6, 227.7, 227.8, 227.9,\n",
       "       228. , 229.7, 229.8, 229.9, 230. , 242.7])"
      ]
     },
     "execution_count": 3,
     "metadata": {},
     "output_type": "execute_result"
    }
   ],
   "source": [
    "stim_on = 2\n",
    "# in seconds, when did the animal perform behavior 2\n",
    "behavior_times = np.where(predictions==stim_on)[0]/10\n",
    "behavior_times"
   ]
  },
  {
   "cell_type": "code",
   "execution_count": 13,
   "id": "df9d73ddf0a4d54b",
   "metadata": {},
   "outputs": [
    {
     "data": {
      "image/png": "[encoded data removed]",
      "text/plain": [
       "<Figure size 1000x200 with 1 Axes>"
      ]
     },
     "metadata": {},
     "output_type": "display_data"
    }
   ],
   "source": [
    "fig, ax = plt.subplots(1, 1, figsize=(10, 2))\n",
    "ax.plot(onset_times,\n",
    "        np.ones_like(onset_times),\n",
    "        ls='', marker='|', markersize=1, c='k', alpha=1)\n",
    "ax.plot(behavior_times,\n",
    "        np.ones_like(behavior_times)+0.5,\n",
    "        ls='', marker='|', markersize=1, c='r', alpha=1)\n",
    "ax.set_yticks([])\n",
    "ax.set_ylim([0.5, 2])\n",
    "ax.set_title('Stim/Bout starts')\n",
    "ax.spines[['right', 'top']].set_visible(False)\n",
    "ax.set_xlabel('Time (s)')\n",
    "plt.show()"
   ]
  },
  {
   "cell_type": "code",
   "execution_count": 20,
   "id": "ffeb4605-a565-48ed-bc08-44a107df1d27",
   "metadata": {},
   "outputs": [
    {
     "name": "stdout",
     "output_type": "stream",
     "text": [
      "this session matched behavior 2 *** 89.70588235294117% of the time\n"
     ]
    }
   ],
   "source": [
    "idx_start = np.where(np.diff(predictions)!=0)[0]+1\n",
    "num_behaviors_post = np.unique([predictions[id_start] for id_start in idx_start], return_counts=True)[1][stim_on]\n",
    "\n",
    "if len(onset_times)<num_behaviors_post:\n",
    "    print(f'this session matched behavior {stim_on} *** {len(onset_times)/num_behaviors_post*100}% of the time')\n",
    "else:\n",
    "    print(f'this session matched behavior {stim_on} *** {num_behaviors_post/len(onset_times)*100}% of the time')\n"
   ]
  },
  {
   "cell_type": "code",
   "execution_count": null,
   "id": "553adaef-8a14-4737-9d21-b98cd2c2ae47",
   "metadata": {},
   "outputs": [],
   "source": []
  }
 ],
 "metadata": {
  "kernelspec": {
   "display_name": "Python 3 (ipykernel)",
   "language": "python",
   "name": "python3"
  },
  "language_info": {
   "codemirror_mode": {
    "name": "ipython",
    "version": 3
   },
   "file_extension": ".py",
   "mimetype": "text/x-python",
   "name": "python",
   "nbconvert_exporter": "python",
   "pygments_lexer": "ipython3",
   "version": "3.8.0"
  }
 },
 "nbformat": 4,
 "nbformat_minor": 5
}
