{
 "cells": [
  {
   "cell_type": "code",
   "execution_count": 1,
   "id": "initial_id",
   "metadata": {
    "tags": [],
    "ExecuteTime": {
     "end_time": "2023-11-10T23:26:46.894704Z",
     "start_time": "2023-11-10T23:26:46.498807Z"
    }
   },
   "outputs": [],
   "source": [
    "import pandas as pd\n",
    "import numpy as np\n",
    "import matplotlib.pyplot as plt"
   ]
  },
  {
   "cell_type": "code",
   "execution_count": 2,
   "id": "5e127f7cd795c6a",
   "metadata": {
    "ExecuteTime": {
     "end_time": "2023-11-10T23:26:55.243724Z",
     "start_time": "2023-11-10T23:26:55.239704Z"
    }
   },
   "outputs": [],
   "source": [
    "# post-hoc\n",
    "predictions = np.load('../experiments/predict_video_exp.npy')\n",
    "# real-time \n",
    "onset_times = np.load('../experiments/onset_times_video_exp.npy')"
   ]
  },
  {
   "cell_type": "code",
   "execution_count": 3,
   "id": "dc5649015c5c19c7",
   "metadata": {
    "ExecuteTime": {
     "end_time": "2023-11-10T23:26:58.232888Z",
     "start_time": "2023-11-10T23:26:58.226475Z"
    }
   },
   "outputs": [
    {
     "data": {
      "text/plain": "array([1.4000e+00, 1.6000e+00, 1.8000e+00, ..., 3.8817e+03, 3.8818e+03,\n       3.8824e+03])"
     },
     "execution_count": 3,
     "metadata": {},
     "output_type": "execute_result"
    }
   ],
   "source": [
    "stim_on = 3\n",
    "# in seconds, when did the animal perform behavior 2\n",
    "behavior_times = np.where(predictions==stim_on)[0]/10\n",
    "behavior_times"
   ]
  },
  {
   "cell_type": "code",
   "execution_count": 4,
   "id": "df9d73ddf0a4d54b",
   "metadata": {
    "ExecuteTime": {
     "end_time": "2023-11-10T23:27:29.674869Z",
     "start_time": "2023-11-10T23:27:29.595965Z"
    }
   },
   "outputs": [
    {
     "data": {
      "text/plain": "<Figure size 1000x200 with 1 Axes>",
      "image/png": "[encoded data removed]"
     },
     "metadata": {},
     "output_type": "display_data"
    }
   ],
   "source": [
    "fig, ax = plt.subplots(1, 1, figsize=(10, 2))\n",
    "ax.plot(onset_times,\n",
    "        np.ones_like(onset_times),\n",
    "        ls='', marker='|', markersize=1, c='k', alpha=1)\n",
    "ax.plot(behavior_times,\n",
    "        np.ones_like(behavior_times)+0.5,\n",
    "        ls='', marker='|', markersize=1, c='r', alpha=1)\n",
    "ax.set_yticks([])\n",
    "ax.set_ylim([0.5, 2])\n",
    "# ax.set_xlim([50, 100])\n",
    "ax.vlines(5*60, 0.5, 2)\n",
    "ax.vlines(35*60, 0.5, 2)\n",
    "ax.vlines(65*60, 0.5, 2)\n",
    "ax.set_ylim([0.5, 2])\n",
    "\n",
    "ax.set_title('Stim start vs behavior predictions')\n",
    "ax.spines[['right', 'top']].set_visible(False)\n",
    "ax.set_xlabel('Time (s)')\n",
    "plt.show()"
   ]
  },
  {
   "cell_type": "code",
   "execution_count": 10,
   "outputs": [
    {
     "data": {
      "text/plain": "(320, 349)"
     },
     "execution_count": 10,
     "metadata": {},
     "output_type": "execute_result"
    }
   ],
   "source": [
    "num_behaviors_post, len(onset_times)"
   ],
   "metadata": {
    "collapsed": false,
    "ExecuteTime": {
     "end_time": "2023-11-10T23:32:52.823581Z",
     "start_time": "2023-11-10T23:32:52.816498Z"
    }
   },
   "id": "a9d9058eabd94edb"
  },
  {
   "cell_type": "code",
   "execution_count": 7,
   "id": "ffeb4605-a565-48ed-bc08-44a107df1d27",
   "metadata": {
    "ExecuteTime": {
     "end_time": "2023-11-10T23:31:45.802081Z",
     "start_time": "2023-11-10T23:31:45.796394Z"
    }
   },
   "outputs": [
    {
     "name": "stdout",
     "output_type": "stream",
     "text": [
      "this session matched behavior 3 *** 63.582089552238806% of the time\n"
     ]
    }
   ],
   "source": [
    "idx_start = np.where(np.diff(predictions)!=0)[0]+1\n",
    "num_behaviors_post = np.unique([predictions[id_start] for id_start in idx_start if id_start < 35*60*10], \n",
    "                               return_counts=True)[1][stim_on]\n",
    "\n",
    "if len(onset_times[onset_times<35*60])<num_behaviors_post:\n",
    "    print(f'this session matched behavior {stim_on} *** {len(onset_times[onset_times<35*60])/num_behaviors_post*100}% of the time')\n",
    "else:\n",
    "    print(f'this session matched behavior {stim_on} *** {num_behaviors_post/len(onset_times[onset_times<35*60])*100}% of the time')\n"
   ]
  },
  {
   "cell_type": "code",
   "execution_count": 8,
   "outputs": [
    {
     "name": "stdout",
     "output_type": "stream",
     "text": [
      "this session matched behavior 3 *** 42.5% of the time\n"
     ]
    }
   ],
   "source": [
    "idx_start = np.where(np.diff(predictions)!=0)[0]+1\n",
    "num_behaviors_post = np.unique([predictions[id_start] for id_start in idx_start if id_start >= 35*60*10], \n",
    "                               return_counts=True)[1][stim_on]\n",
    "\n",
    "if len(onset_times[onset_times>=35*60])<num_behaviors_post:\n",
    "    print(f'this session matched behavior {stim_on} *** {len(onset_times[onset_times>=35*60])/num_behaviors_post*100}% of the time')\n",
    "else:\n",
    "    print(f'this session matched behavior {stim_on} *** {num_behaviors_post/len(onset_times[onset_times>=35*60])*100}% of the time')\n"
   ],
   "metadata": {
    "collapsed": false,
    "ExecuteTime": {
     "end_time": "2023-11-10T23:32:13.003717Z",
     "start_time": "2023-11-10T23:32:12.999294Z"
    }
   },
   "id": "89ec9dd827a79bc5"
  },
  {
   "cell_type": "code",
   "execution_count": null,
   "id": "553adaef-8a14-4737-9d21-b98cd2c2ae47",
   "metadata": {},
   "outputs": [],
   "source": [
    "idx_start = np.where(np.diff(predictions)!=0)[0]+1\n",
    "num_behaviors_post = np.unique([predictions[id_start] for id_start in idx_start], return_counts=True)[1][stim_on]\n",
    "\n",
    "if len(onset_times)<num_behaviors_post:\n",
    "    print(f'this session matched behavior {stim_on} *** {len(onset_times)/num_behaviors_post*100}% of the time')\n",
    "else:\n",
    "    print(f'this session matched behavior {stim_on} *** {num_behaviors_post/len(onset_times)*100}% of the time')\n"
   ]
  }
 ],
 "metadata": {
  "kernelspec": {
   "display_name": "Python 3 (ipykernel)",
   "language": "python",
   "name": "python3"
  },
  "language_info": {
   "codemirror_mode": {
    "name": "ipython",
    "version": 3
   },
   "file_extension": ".py",
   "mimetype": "text/x-python",
   "name": "python",
   "nbconvert_exporter": "python",
   "pygments_lexer": "ipython3",
   "version": "3.8.0"
  }
 },
 "nbformat": 4,
 "nbformat_minor": 5
}
