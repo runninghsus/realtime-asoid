{
 "cells": [
  {
   "cell_type": "code",
   "execution_count": 1,
   "metadata": {
    "ExecuteTime": {
     "end_time": "2023-12-01T21:07:02.089236Z",
     "start_time": "2023-12-01T21:07:01.649003Z"
    },
    "tags": []
   },
   "outputs": [],
   "source": [
    "import pandas as pd\n",
    "import numpy as np\n",
    "import matplotlib.pyplot as plt"
   ]
  },
  {
   "cell_type": "code",
   "execution_count": 13,
   "metadata": {
    "ExecuteTime": {
     "end_time": "2023-12-01T21:15:02.636812Z",
     "start_time": "2023-12-01T21:15:02.630537Z"
    }
   },
   "outputs": [],
   "source": [
    "# post-hoc\n",
    "#predictions = np.load('../experiments/predict_video_exp.npy')\n",
    "# post-hoc 16\n",
    "predictions_16 = np.load('../processed_data/features_video_exp_16.npy')\n",
    "# real-time \n",
    "# when did it start stimming (bout)\n",
    "#onset_times = np.load('../experiments/onset_times_video_exp.npy')"
   ]
  },
  {
   "cell_type": "code",
   "execution_count": 14,
   "metadata": {
    "ExecuteTime": {
     "end_time": "2023-12-01T21:15:04.383726Z",
     "start_time": "2023-12-01T21:15:04.377457Z"
    }
   },
   "outputs": [
    {
     "data": {
      "text/plain": [
       "(array([-806.85854405, -715.79262055, -707.88913744, ..., 4254.8740054 ,\n",
       "        4376.21919886, 4653.33513038]),\n",
       " array([1, 1, 1, ..., 1, 1, 1], dtype=int64))"
      ]
     },
     "execution_count": 14,
     "metadata": {},
     "output_type": "execute_result"
    }
   ],
   "source": [
    "np.unique(predictions_16, return_counts=True)"
   ]
  },
  {
   "cell_type": "code",
   "execution_count": 18,
   "metadata": {
    "ExecuteTime": {
     "end_time": "2023-12-01T21:21:35.448207Z",
     "start_time": "2023-12-01T21:21:35.439926Z"
    }
   },
   "outputs": [
    {
     "data": {
      "text/plain": [
       "array([], dtype=float64)"
      ]
     },
     "execution_count": 18,
     "metadata": {},
     "output_type": "execute_result"
    }
   ],
   "source": [
    "stim_on = 26\n",
    "# in seconds, when did the animal perform behavior 2\n",
    "# in post-hoc 5 bheaivor model, where did it say it was grooming (all the frames)\n",
    "# in 5 behavior model, we never classified head from face groom\n",
    "#behavior_times = np.where(predictions==stim_on)[0]/10\n",
    "#behavior_times\n",
    "# in 16 behavior model, head groom was 17, face groom 1 was 15\n",
    "behavior_times_16 = np.where(predictions_16==15)[0]/10\n",
    "behavior_times_16\n",
    "\n",
    "behavior_times_16_1 = np.where(predictions_16==17)[0]/10\n",
    "behavior_times_16_1\n"
   ]
  },
  {
   "cell_type": "code",
   "execution_count": 7,
   "metadata": {
    "ExecuteTime": {
     "end_time": "2023-12-01T21:17:49.864176Z",
     "start_time": "2023-12-01T21:17:49.860646Z"
    }
   },
   "outputs": [
    {
     "ename": "NameError",
     "evalue": "name 'onset_times' is not defined",
     "output_type": "error",
     "traceback": [
      "\u001b[1;31m---------------------------------------------------------------------------\u001b[0m",
      "\u001b[1;31mNameError\u001b[0m                                 Traceback (most recent call last)",
      "Input \u001b[1;32mIn [7]\u001b[0m, in \u001b[0;36m<cell line: 1>\u001b[1;34m()\u001b[0m\n\u001b[1;32m----> 1\u001b[0m np\u001b[38;5;241m.\u001b[39mones_like(\u001b[43monset_times\u001b[49m), onset_times\n",
      "\u001b[1;31mNameError\u001b[0m: name 'onset_times' is not defined"
     ]
    }
   ],
   "source": [
    "np.ones_like(onset_times), onset_times"
   ]
  },
  {
   "cell_type": "code",
   "execution_count": 8,
   "metadata": {
    "ExecuteTime": {
     "end_time": "2023-12-01T21:23:51.590593Z",
     "start_time": "2023-12-01T21:23:51.507256Z"
    }
   },
   "outputs": [
    {
     "ename": "NameError",
     "evalue": "name 'onset_times' is not defined",
     "output_type": "error",
     "traceback": [
      "\u001b[1;31m---------------------------------------------------------------------------\u001b[0m",
      "\u001b[1;31mNameError\u001b[0m                                 Traceback (most recent call last)",
      "Input \u001b[1;32mIn [8]\u001b[0m, in \u001b[0;36m<cell line: 3>\u001b[1;34m()\u001b[0m\n\u001b[0;32m      1\u001b[0m fig, ax \u001b[38;5;241m=\u001b[39m plt\u001b[38;5;241m.\u001b[39msubplots(\u001b[38;5;241m1\u001b[39m, \u001b[38;5;241m1\u001b[39m, figsize\u001b[38;5;241m=\u001b[39m(\u001b[38;5;241m5\u001b[39m, \u001b[38;5;241m2\u001b[39m))\n\u001b[0;32m      2\u001b[0m \u001b[38;5;66;03m# top two, we are comparing consistency in real vs post-hoc\u001b[39;00m\n\u001b[1;32m----> 3\u001b[0m ax\u001b[38;5;241m.\u001b[39mplot(\u001b[43monset_times\u001b[49m,\n\u001b[0;32m      4\u001b[0m         np\u001b[38;5;241m.\u001b[39mones_like(onset_times) \u001b[38;5;241m+\u001b[39m \u001b[38;5;241m0.3\u001b[39m,\n\u001b[0;32m      5\u001b[0m         ls\u001b[38;5;241m=\u001b[39m\u001b[38;5;124m'\u001b[39m\u001b[38;5;124m'\u001b[39m, marker\u001b[38;5;241m=\u001b[39m\u001b[38;5;124m'\u001b[39m\u001b[38;5;124m|\u001b[39m\u001b[38;5;124m'\u001b[39m, markersize\u001b[38;5;241m=\u001b[39m\u001b[38;5;241m1\u001b[39m, c\u001b[38;5;241m=\u001b[39m\u001b[38;5;124m'\u001b[39m\u001b[38;5;124mk\u001b[39m\u001b[38;5;124m'\u001b[39m, alpha\u001b[38;5;241m=\u001b[39m\u001b[38;5;241m1\u001b[39m, label\u001b[38;5;241m=\u001b[39m\u001b[38;5;124m'\u001b[39m\u001b[38;5;124mrealtime\u001b[39m\u001b[38;5;124m'\u001b[39m)\n\u001b[0;32m      7\u001b[0m ax\u001b[38;5;241m.\u001b[39mplot(behavior_times,\n\u001b[0;32m      8\u001b[0m         np\u001b[38;5;241m.\u001b[39mones_like(behavior_times) \u001b[38;5;241m+\u001b[39m \u001b[38;5;241m0.2\u001b[39m,\n\u001b[0;32m      9\u001b[0m         ls\u001b[38;5;241m=\u001b[39m\u001b[38;5;124m'\u001b[39m\u001b[38;5;124m'\u001b[39m, marker\u001b[38;5;241m=\u001b[39m\u001b[38;5;124m'\u001b[39m\u001b[38;5;124m|\u001b[39m\u001b[38;5;124m'\u001b[39m, markersize\u001b[38;5;241m=\u001b[39m\u001b[38;5;241m1\u001b[39m, c\u001b[38;5;241m=\u001b[39m\u001b[38;5;124m'\u001b[39m\u001b[38;5;124mb\u001b[39m\u001b[38;5;124m'\u001b[39m, alpha\u001b[38;5;241m=\u001b[39m\u001b[38;5;241m1\u001b[39m, label\u001b[38;5;241m=\u001b[39m\u001b[38;5;124m'\u001b[39m\u001b[38;5;124masoid\u001b[39m\u001b[38;5;124m'\u001b[39m)\n\u001b[0;32m     11\u001b[0m \u001b[38;5;66;03m# bottom two we are comparing where head groom is within grooming\u001b[39;00m\n",
      "\u001b[1;31mNameError\u001b[0m: name 'onset_times' is not defined"
     ]
    }
   ],
   "source": [
    "fig, ax = plt.subplots(1, 1, figsize=(5, 2))\n",
    "# top two, we are comparing consistency in real vs post-hoc\n",
    "ax.plot(onset_times,\n",
    "        np.ones_like(onset_times) + 0.3,\n",
    "        ls='', marker='|', markersize=1, c='k', alpha=1, label='realtime')\n",
    "\n",
    "ax.plot(behavior_times,\n",
    "        np.ones_like(behavior_times) + 0.2,\n",
    "        ls='', marker='|', markersize=1, c='b', alpha=1, label='asoid')\n",
    "\n",
    "# bottom two we are comparing where head groom is within grooming\n",
    "ax.plot(behavior_times_16,\n",
    "        np.ones_like(behavior_times_16)+ 0.1,\n",
    "        ls='', marker='|', markersize=1, c='r', alpha=1, label='bsoid')\n",
    "\n",
    "# bottom two we are comparing where head groom is within grooming\n",
    "ax.plot(behavior_times_16_1,\n",
    "        np.ones_like(behavior_times_16_1),\n",
    "        ls='', marker='|', markersize=1, c='purple', alpha=1, label='bsoid_2')\n",
    "\n",
    "ax.set_yticks([])\n",
    "ax.set_ylim([0.5, 2])\n",
    "# subset\n",
    "# ax.set_xlim([0, 250])\n",
    "\n",
    "\n",
    "ax.vlines(5*60, 0.5, 2)\n",
    "ax.vlines(35*60, 0.5, 2)\n",
    "ax.vlines(65*60, 0.5, 2)\n",
    "ax.set_ylim([0.5, 2])\n",
    "\n",
    "ax.set_title('realtime vs asoid grooming vs bsoid grooms')\n",
    "ax.spines[['right', 'top']].set_visible(False)\n",
    "ax.set_xlabel('Time (s)')\n",
    "ax.legend()\n",
    "plt.show()"
   ]
  },
  {
   "cell_type": "code",
   "execution_count": null,
   "metadata": {},
   "outputs": [],
   "source": []
  },
  {
   "cell_type": "code",
   "execution_count": 9,
   "metadata": {
    "ExecuteTime": {
     "end_time": "2023-11-10T23:32:52.823581Z",
     "start_time": "2023-11-10T23:32:52.816498Z"
    }
   },
   "outputs": [
    {
     "ename": "NameError",
     "evalue": "name 'num_behaviors_post' is not defined",
     "output_type": "error",
     "traceback": [
      "\u001b[1;31m---------------------------------------------------------------------------\u001b[0m",
      "\u001b[1;31mNameError\u001b[0m                                 Traceback (most recent call last)",
      "Input \u001b[1;32mIn [9]\u001b[0m, in \u001b[0;36m<cell line: 1>\u001b[1;34m()\u001b[0m\n\u001b[1;32m----> 1\u001b[0m \u001b[43mnum_behaviors_post\u001b[49m, \u001b[38;5;28mlen\u001b[39m(onset_times)\n",
      "\u001b[1;31mNameError\u001b[0m: name 'num_behaviors_post' is not defined"
     ]
    }
   ],
   "source": [
    "num_behaviors_post, len(onset_times)"
   ]
  },
  {
   "cell_type": "code",
   "execution_count": 10,
   "metadata": {
    "ExecuteTime": {
     "end_time": "2023-11-10T23:31:45.802081Z",
     "start_time": "2023-11-10T23:31:45.796394Z"
    }
   },
   "outputs": [
    {
     "ename": "NameError",
     "evalue": "name 'predictions' is not defined",
     "output_type": "error",
     "traceback": [
      "\u001b[1;31m---------------------------------------------------------------------------\u001b[0m",
      "\u001b[1;31mNameError\u001b[0m                                 Traceback (most recent call last)",
      "Input \u001b[1;32mIn [10]\u001b[0m, in \u001b[0;36m<cell line: 1>\u001b[1;34m()\u001b[0m\n\u001b[1;32m----> 1\u001b[0m idx_start \u001b[38;5;241m=\u001b[39m np\u001b[38;5;241m.\u001b[39mwhere(np\u001b[38;5;241m.\u001b[39mdiff(\u001b[43mpredictions\u001b[49m)\u001b[38;5;241m!=\u001b[39m\u001b[38;5;241m0\u001b[39m)[\u001b[38;5;241m0\u001b[39m]\u001b[38;5;241m+\u001b[39m\u001b[38;5;241m1\u001b[39m\n\u001b[0;32m      2\u001b[0m num_behaviors_post \u001b[38;5;241m=\u001b[39m np\u001b[38;5;241m.\u001b[39munique([predictions[id_start] \u001b[38;5;28;01mfor\u001b[39;00m id_start \u001b[38;5;129;01min\u001b[39;00m idx_start \u001b[38;5;28;01mif\u001b[39;00m id_start \u001b[38;5;241m<\u001b[39m \u001b[38;5;241m35\u001b[39m\u001b[38;5;241m*\u001b[39m\u001b[38;5;241m60\u001b[39m\u001b[38;5;241m*\u001b[39m\u001b[38;5;241m10\u001b[39m], \n\u001b[0;32m      3\u001b[0m                                return_counts\u001b[38;5;241m=\u001b[39m\u001b[38;5;28;01mTrue\u001b[39;00m)[\u001b[38;5;241m1\u001b[39m][stim_on]\n\u001b[0;32m      5\u001b[0m \u001b[38;5;28;01mif\u001b[39;00m \u001b[38;5;28mlen\u001b[39m(onset_times[onset_times\u001b[38;5;241m<\u001b[39m\u001b[38;5;241m35\u001b[39m\u001b[38;5;241m*\u001b[39m\u001b[38;5;241m60\u001b[39m])\u001b[38;5;241m<\u001b[39mnum_behaviors_post:\n",
      "\u001b[1;31mNameError\u001b[0m: name 'predictions' is not defined"
     ]
    }
   ],
   "source": [
    "idx_start = np.where(np.diff(predictions)!=0)[0]+1\n",
    "num_behaviors_post = np.unique([predictions[id_start] for id_start in idx_start if id_start < 35*60*10], \n",
    "                               return_counts=True)[1][stim_on]\n",
    "\n",
    "if len(onset_times[onset_times<35*60])<num_behaviors_post:\n",
    "    print(f'this session matched behavior {stim_on} *** {len(onset_times[onset_times<35*60])/num_behaviors_post*100}% of the time')\n",
    "else:\n",
    "    print(f'this session matched behavior {stim_on} *** {num_behaviors_post/len(onset_times[onset_times<35*60])*100}% of the time')\n"
   ]
  },
  {
   "cell_type": "code",
   "execution_count": 11,
   "metadata": {
    "ExecuteTime": {
     "end_time": "2023-11-10T23:32:13.003717Z",
     "start_time": "2023-11-10T23:32:12.999294Z"
    }
   },
   "outputs": [
    {
     "ename": "NameError",
     "evalue": "name 'predictions' is not defined",
     "output_type": "error",
     "traceback": [
      "\u001b[1;31m---------------------------------------------------------------------------\u001b[0m",
      "\u001b[1;31mNameError\u001b[0m                                 Traceback (most recent call last)",
      "Input \u001b[1;32mIn [11]\u001b[0m, in \u001b[0;36m<cell line: 1>\u001b[1;34m()\u001b[0m\n\u001b[1;32m----> 1\u001b[0m idx_start \u001b[38;5;241m=\u001b[39m np\u001b[38;5;241m.\u001b[39mwhere(np\u001b[38;5;241m.\u001b[39mdiff(\u001b[43mpredictions\u001b[49m)\u001b[38;5;241m!=\u001b[39m\u001b[38;5;241m0\u001b[39m)[\u001b[38;5;241m0\u001b[39m]\u001b[38;5;241m+\u001b[39m\u001b[38;5;241m1\u001b[39m\n\u001b[0;32m      2\u001b[0m num_behaviors_post \u001b[38;5;241m=\u001b[39m np\u001b[38;5;241m.\u001b[39munique([predictions[id_start] \u001b[38;5;28;01mfor\u001b[39;00m id_start \u001b[38;5;129;01min\u001b[39;00m idx_start \u001b[38;5;28;01mif\u001b[39;00m id_start \u001b[38;5;241m>\u001b[39m\u001b[38;5;241m=\u001b[39m \u001b[38;5;241m35\u001b[39m\u001b[38;5;241m*\u001b[39m\u001b[38;5;241m60\u001b[39m\u001b[38;5;241m*\u001b[39m\u001b[38;5;241m10\u001b[39m], \n\u001b[0;32m      3\u001b[0m                                return_counts\u001b[38;5;241m=\u001b[39m\u001b[38;5;28;01mTrue\u001b[39;00m)[\u001b[38;5;241m1\u001b[39m][stim_on]\n\u001b[0;32m      5\u001b[0m \u001b[38;5;28;01mif\u001b[39;00m \u001b[38;5;28mlen\u001b[39m(onset_times[onset_times\u001b[38;5;241m>\u001b[39m\u001b[38;5;241m=\u001b[39m\u001b[38;5;241m35\u001b[39m\u001b[38;5;241m*\u001b[39m\u001b[38;5;241m60\u001b[39m])\u001b[38;5;241m<\u001b[39mnum_behaviors_post:\n",
      "\u001b[1;31mNameError\u001b[0m: name 'predictions' is not defined"
     ]
    }
   ],
   "source": [
    "idx_start = np.where(np.diff(predictions)!=0)[0]+1\n",
    "num_behaviors_post = np.unique([predictions[id_start] for id_start in idx_start if id_start >= 35*60*10], \n",
    "                               return_counts=True)[1][stim_on]\n",
    "\n",
    "if len(onset_times[onset_times>=35*60])<num_behaviors_post:\n",
    "    print(f'this session matched behavior {stim_on} *** {len(onset_times[onset_times>=35*60])/num_behaviors_post*100}% of the time')\n",
    "else:\n",
    "    print(f'this session matched behavior {stim_on} *** {num_behaviors_post/len(onset_times[onset_times>=35*60])*100}% of the time')\n"
   ]
  },
  {
   "cell_type": "code",
   "execution_count": 12,
   "metadata": {},
   "outputs": [
    {
     "ename": "NameError",
     "evalue": "name 'predictions' is not defined",
     "output_type": "error",
     "traceback": [
      "\u001b[1;31m---------------------------------------------------------------------------\u001b[0m",
      "\u001b[1;31mNameError\u001b[0m                                 Traceback (most recent call last)",
      "Input \u001b[1;32mIn [12]\u001b[0m, in \u001b[0;36m<cell line: 1>\u001b[1;34m()\u001b[0m\n\u001b[1;32m----> 1\u001b[0m idx_start \u001b[38;5;241m=\u001b[39m np\u001b[38;5;241m.\u001b[39mwhere(np\u001b[38;5;241m.\u001b[39mdiff(\u001b[43mpredictions\u001b[49m)\u001b[38;5;241m!=\u001b[39m\u001b[38;5;241m0\u001b[39m)[\u001b[38;5;241m0\u001b[39m]\u001b[38;5;241m+\u001b[39m\u001b[38;5;241m1\u001b[39m\n\u001b[0;32m      2\u001b[0m num_behaviors_post \u001b[38;5;241m=\u001b[39m np\u001b[38;5;241m.\u001b[39munique([predictions[id_start] \u001b[38;5;28;01mfor\u001b[39;00m id_start \u001b[38;5;129;01min\u001b[39;00m idx_start], return_counts\u001b[38;5;241m=\u001b[39m\u001b[38;5;28;01mTrue\u001b[39;00m)[\u001b[38;5;241m1\u001b[39m][stim_on]\n\u001b[0;32m      4\u001b[0m \u001b[38;5;28;01mif\u001b[39;00m \u001b[38;5;28mlen\u001b[39m(onset_times)\u001b[38;5;241m<\u001b[39mnum_behaviors_post:\n",
      "\u001b[1;31mNameError\u001b[0m: name 'predictions' is not defined"
     ]
    }
   ],
   "source": [
    "idx_start = np.where(np.diff(predictions)!=0)[0]+1\n",
    "num_behaviors_post = np.unique([predictions[id_start] for id_start in idx_start], return_counts=True)[1][stim_on]\n",
    "\n",
    "if len(onset_times)<num_behaviors_post:\n",
    "    print(f'this session matched behavior {stim_on} *** {len(onset_times)/num_behaviors_post*100}% of the time')\n",
    "else:\n",
    "    print(f'this session matched behavior {stim_on} *** {num_behaviors_post/len(onset_times)*100}% of the time')\n"
   ]
  },
  {
   "cell_type": "code",
   "execution_count": null,
   "metadata": {},
   "outputs": [],
   "source": []
  },
  {
   "cell_type": "code",
   "execution_count": null,
   "metadata": {},
   "outputs": [],
   "source": []
  }
 ],
 "metadata": {
  "kernelspec": {
   "display_name": "Python 3",
   "language": "python",
   "name": "python3"
  },
  "language_info": {
   "codemirror_mode": {
    "name": "ipython",
    "version": 3
   },
   "file_extension": ".py",
   "mimetype": "text/x-python",
   "name": "python",
   "nbconvert_exporter": "python",
   "pygments_lexer": "ipython3",
   "version": "3.8.5"
  }
 },
 "nbformat": 4,
 "nbformat_minor": 5
}
