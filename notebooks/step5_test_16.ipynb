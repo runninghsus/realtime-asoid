{
 "cells": [
  {
   "cell_type": "code",
   "execution_count": 1,
   "id": "initial_id",
   "metadata": {
    "tags": [],
    "ExecuteTime": {
     "end_time": "2023-12-01T21:07:02.089236Z",
     "start_time": "2023-12-01T21:07:01.649003Z"
    }
   },
   "outputs": [],
   "source": [
    "import pandas as pd\n",
    "import numpy as np\n",
    "import matplotlib.pyplot as plt"
   ]
  },
  {
   "cell_type": "code",
   "execution_count": 17,
   "id": "5e127f7cd795c6a",
   "metadata": {
    "ExecuteTime": {
     "end_time": "2023-12-01T21:15:02.636812Z",
     "start_time": "2023-12-01T21:15:02.630537Z"
    }
   },
   "outputs": [],
   "source": [
    "# post-hoc\n",
    "predictions = np.load('../experiments/predict_video_exp.npy')\n",
    "# post-hoc 16\n",
    "predictions_16 = np.load('../experiments/predict_video_exp_16.npy')\n",
    "# real-time \n",
    "# when did it start stimming (bout)\n",
    "onset_times = np.load('../experiments/onset_times_video_exp.npy')"
   ]
  },
  {
   "cell_type": "code",
   "execution_count": 18,
   "outputs": [
    {
     "data": {
      "text/plain": "(array([ 0,  1,  2,  3,  4,  5,  6,  7,  8,  9, 10, 11, 12, 13, 14, 15, 16,\n        17, 18, 19, 21, 22, 23, 24, 25, 26, 27, 28]),\n array([ 202, 9990,   98, 1238,   29,   67,  973,   29, 7978, 2882,  372,\n          15,  519,  262,  843, 1978,  240,  239, 2053,   75, 1523,  270,\n         233,    9,    1, 5733,  285, 1344]))"
     },
     "execution_count": 18,
     "metadata": {},
     "output_type": "execute_result"
    }
   ],
   "source": [
    "np.unique(predictions_16, return_counts=True)"
   ],
   "metadata": {
    "collapsed": false,
    "ExecuteTime": {
     "end_time": "2023-12-01T21:15:04.383726Z",
     "start_time": "2023-12-01T21:15:04.377457Z"
    }
   },
   "id": "69439b85841251eb"
  },
  {
   "cell_type": "code",
   "execution_count": 28,
   "id": "dc5649015c5c19c7",
   "metadata": {
    "ExecuteTime": {
     "end_time": "2023-12-01T21:21:35.448207Z",
     "start_time": "2023-12-01T21:21:35.439926Z"
    }
   },
   "outputs": [
    {
     "data": {
      "text/plain": "array([   6.9,  128. ,  178.3,  181.1,  289.7,  289.8,  320.8,  321.3,\n        333.9,  334. ,  383.2,  464.7,  595.5,  670.7,  670.9,  671.3,\n        671.5,  671.7,  681.2,  683.7,  724.4,  828.3,  828.4,  859.3,\n        910.6,  910.7,  963.1,  963.2,  970.7,  970.8,  971.8,  975.6,\n        994.7,  994.8, 1035.6, 1089.7, 1165.3, 1173.9, 1174.8, 1175. ,\n       1175.5, 1175.6, 1175.7, 1175.9, 1180.7, 1181.3, 1197.5, 1197.9,\n       1226.9, 1242.1, 1242.2, 1242.3, 1242.4, 1242.8, 1243.4, 1249.3,\n       1250.7, 1315.4, 1315.6, 1315.8, 1316. , 1413. , 1413.5, 1413.7,\n       1413.9, 1414.2, 1414.3, 1432.1, 1432.4, 1467. , 1467.8, 1477.9,\n       1478. , 1478.2, 1478.3, 1478.8, 1480.4, 1481.1, 1484.3, 1497.4,\n       1726.5, 1726.6, 1727. , 1755.4, 1789.9, 1791.3, 1792.5, 1793.3,\n       1800.1, 1802.8, 1819.6, 1986.2, 1988.1, 1988.3, 2049.4, 2051.2,\n       2123.4, 2136.2, 2162. , 2162.1, 2162.2, 2162.6, 2193.8, 2200. ,\n       2200.3, 2223.6, 2281.3, 2291.5, 2319.4, 2319.6, 2325.4, 2355.5,\n       2384.3, 2393.6, 2420.2, 2453.4, 2453.5, 2632. , 2632.4, 2634.7,\n       2637.7, 2637.8, 2641.2, 2641.3, 2641.6, 2652.2, 2652.3, 2652.4,\n       2652.5, 2652.6, 2652.8, 2652.9, 2653. , 2653.1, 2654. , 2658.8,\n       2661. , 2661.3, 2661.4, 2662.2, 2662.7, 2666.9, 2667.1, 2677.9,\n       2678.1, 2707.3, 2707.5, 2707.8, 2722. , 2722.1, 2722.6, 2730.6,\n       2739.5, 2739.6, 2760.5, 2777.9, 2779.7, 2779.8, 2780. , 2780.4,\n       2780.7, 2780.9, 2781. , 2781.1, 2781.3, 2781.4, 2781.5, 2781.7,\n       2781.9, 2786.6, 2806.4, 2895.6, 2895.9, 2898.6, 2899.2, 2900.1,\n       2915.1, 2915.3, 2915.5, 2917.1, 2917.2, 2946.8, 2946.9, 2947.5,\n       3054.7, 3054.8, 3055. , 3055.1, 3055.2, 3077.3, 3124.6, 3135.9,\n       3136. , 3234. , 3234.1, 3265.5, 3265.7, 3265.8, 3265.9, 3284.3,\n       3425.4, 3428.4, 3433.6, 3434. , 3434.1, 3434.2, 3440. , 3446.9,\n       3447.2, 3447.3, 3447.4, 3447.9, 3460. , 3538.3, 3551.4, 3621.7,\n       3621.9, 3622.2, 3622.7, 3622.8, 3757.7, 3763.4, 3763.9, 3765.6,\n       3765.7, 3767. , 3771.9, 3776.4, 3778.5, 3781.4, 3816.2, 3825.8,\n       3833.5, 3834.1, 3834.4, 3834.5, 3834.8, 3834.9, 3836.1])"
     },
     "execution_count": 28,
     "metadata": {},
     "output_type": "execute_result"
    }
   ],
   "source": [
    "stim_on = 3\n",
    "# in seconds, when did the animal perform behavior 2\n",
    "# in post-hoc 5 bheaivor model, where did it say it was grooming (all the frames)\n",
    "# in 5 behavior model, we never classified head from face groom\n",
    "behavior_times = np.where(predictions==stim_on)[0]/10\n",
    "behavior_times\n",
    "# in 16 behavior model, head groom was 17, face groom 1 was 15\n",
    "behavior_times_16 = np.where(predictions_16==15)[0]/10\n",
    "behavior_times_16\n",
    "\n",
    "behavior_times_16_1 = np.where(predictions_16==17)[0]/10\n",
    "behavior_times_16_1\n"
   ]
  },
  {
   "cell_type": "code",
   "execution_count": 24,
   "outputs": [
    {
     "data": {
      "text/plain": "(array([[1.],\n        [1.],\n        [1.],\n        [1.],\n        [1.],\n        [1.],\n        [1.],\n        [1.],\n        [1.],\n        [1.],\n        [1.],\n        [1.],\n        [1.],\n        [1.],\n        [1.],\n        [1.],\n        [1.],\n        [1.],\n        [1.],\n        [1.],\n        [1.],\n        [1.],\n        [1.],\n        [1.],\n        [1.],\n        [1.],\n        [1.],\n        [1.],\n        [1.],\n        [1.],\n        [1.],\n        [1.],\n        [1.],\n        [1.],\n        [1.],\n        [1.],\n        [1.],\n        [1.],\n        [1.],\n        [1.],\n        [1.],\n        [1.],\n        [1.],\n        [1.],\n        [1.],\n        [1.],\n        [1.],\n        [1.],\n        [1.],\n        [1.],\n        [1.],\n        [1.],\n        [1.],\n        [1.],\n        [1.],\n        [1.],\n        [1.],\n        [1.],\n        [1.],\n        [1.],\n        [1.],\n        [1.],\n        [1.],\n        [1.],\n        [1.],\n        [1.],\n        [1.],\n        [1.],\n        [1.],\n        [1.],\n        [1.],\n        [1.],\n        [1.],\n        [1.],\n        [1.],\n        [1.],\n        [1.],\n        [1.],\n        [1.],\n        [1.],\n        [1.],\n        [1.],\n        [1.],\n        [1.],\n        [1.],\n        [1.],\n        [1.],\n        [1.],\n        [1.],\n        [1.],\n        [1.],\n        [1.],\n        [1.],\n        [1.],\n        [1.],\n        [1.],\n        [1.],\n        [1.],\n        [1.],\n        [1.],\n        [1.],\n        [1.],\n        [1.],\n        [1.],\n        [1.],\n        [1.],\n        [1.],\n        [1.],\n        [1.],\n        [1.],\n        [1.],\n        [1.],\n        [1.],\n        [1.],\n        [1.],\n        [1.],\n        [1.],\n        [1.],\n        [1.],\n        [1.],\n        [1.],\n        [1.],\n        [1.],\n        [1.],\n        [1.],\n        [1.],\n        [1.],\n        [1.],\n        [1.],\n        [1.],\n        [1.],\n        [1.],\n        [1.],\n        [1.],\n        [1.],\n        [1.],\n        [1.],\n        [1.],\n        [1.],\n        [1.],\n        [1.],\n        [1.],\n        [1.],\n        [1.],\n        [1.],\n        [1.],\n        [1.],\n        [1.],\n        [1.],\n        [1.],\n        [1.],\n        [1.],\n        [1.],\n        [1.],\n        [1.],\n        [1.],\n        [1.],\n        [1.],\n        [1.],\n        [1.],\n        [1.],\n        [1.],\n        [1.],\n        [1.],\n        [1.],\n        [1.],\n        [1.],\n        [1.],\n        [1.],\n        [1.],\n        [1.],\n        [1.],\n        [1.],\n        [1.],\n        [1.],\n        [1.],\n        [1.],\n        [1.],\n        [1.],\n        [1.],\n        [1.],\n        [1.],\n        [1.],\n        [1.],\n        [1.],\n        [1.],\n        [1.],\n        [1.],\n        [1.],\n        [1.],\n        [1.],\n        [1.],\n        [1.],\n        [1.],\n        [1.],\n        [1.],\n        [1.],\n        [1.],\n        [1.],\n        [1.],\n        [1.],\n        [1.],\n        [1.],\n        [1.],\n        [1.],\n        [1.],\n        [1.],\n        [1.],\n        [1.],\n        [1.],\n        [1.],\n        [1.],\n        [1.],\n        [1.],\n        [1.],\n        [1.],\n        [1.],\n        [1.],\n        [1.],\n        [1.],\n        [1.],\n        [1.],\n        [1.],\n        [1.],\n        [1.],\n        [1.],\n        [1.],\n        [1.],\n        [1.],\n        [1.],\n        [1.],\n        [1.],\n        [1.],\n        [1.],\n        [1.],\n        [1.],\n        [1.],\n        [1.],\n        [1.],\n        [1.],\n        [1.],\n        [1.],\n        [1.],\n        [1.],\n        [1.],\n        [1.],\n        [1.],\n        [1.],\n        [1.],\n        [1.],\n        [1.],\n        [1.],\n        [1.],\n        [1.],\n        [1.],\n        [1.],\n        [1.],\n        [1.],\n        [1.],\n        [1.],\n        [1.],\n        [1.],\n        [1.],\n        [1.],\n        [1.],\n        [1.],\n        [1.],\n        [1.],\n        [1.],\n        [1.],\n        [1.],\n        [1.],\n        [1.],\n        [1.],\n        [1.],\n        [1.],\n        [1.],\n        [1.],\n        [1.],\n        [1.],\n        [1.],\n        [1.],\n        [1.],\n        [1.],\n        [1.],\n        [1.],\n        [1.],\n        [1.],\n        [1.],\n        [1.],\n        [1.],\n        [1.],\n        [1.],\n        [1.],\n        [1.],\n        [1.],\n        [1.],\n        [1.],\n        [1.],\n        [1.],\n        [1.],\n        [1.],\n        [1.],\n        [1.],\n        [1.],\n        [1.],\n        [1.],\n        [1.],\n        [1.],\n        [1.],\n        [1.],\n        [1.],\n        [1.],\n        [1.],\n        [1.],\n        [1.],\n        [1.],\n        [1.],\n        [1.],\n        [1.],\n        [1.],\n        [1.],\n        [1.],\n        [1.],\n        [1.],\n        [1.],\n        [1.],\n        [1.],\n        [1.],\n        [1.],\n        [1.],\n        [1.],\n        [1.],\n        [1.],\n        [1.],\n        [1.],\n        [1.],\n        [1.],\n        [1.],\n        [1.],\n        [1.],\n        [1.],\n        [1.],\n        [1.],\n        [1.],\n        [1.],\n        [1.],\n        [1.],\n        [1.]]),\n array([[  71.0606153 ],\n        [  71.79524755],\n        [  72.86681771],\n        [  75.32149029],\n        [  76.51686239],\n        [  76.9629786 ],\n        [  79.10812831],\n        [  80.11668849],\n        [  80.6422863 ],\n        [  80.916713  ],\n        [  81.18300104],\n        [ 171.58244228],\n        [ 172.51537442],\n        [ 172.8515141 ],\n        [ 173.34913754],\n        [ 173.84395051],\n        [ 175.12196612],\n        [ 175.76167607],\n        [ 178.06641579],\n        [ 178.97766781],\n        [ 179.3132925 ],\n        [ 179.956707  ],\n        [ 180.19446158],\n        [ 180.93164015],\n        [ 181.39411688],\n        [ 181.93969893],\n        [ 182.40346122],\n        [ 185.89231086],\n        [ 186.53070259],\n        [ 256.87983656],\n        [ 316.8987329 ],\n        [ 317.17990184],\n        [ 368.69023252],\n        [ 368.93046999],\n        [ 369.3065896 ],\n        [ 369.6946733 ],\n        [ 370.4958663 ],\n        [ 372.11500287],\n        [ 374.11473393],\n        [ 374.81864953],\n        [ 376.0026238 ],\n        [ 376.7396543 ],\n        [ 377.33306408],\n        [ 380.35189795],\n        [ 380.8196454 ],\n        [ 491.9224112 ],\n        [ 594.66619277],\n        [ 595.26702046],\n        [ 595.82550073],\n        [ 596.53067493],\n        [ 597.267313  ],\n        [ 676.33465528],\n        [ 676.95519042],\n        [ 677.21876168],\n        [ 679.49386692],\n        [ 680.22396708],\n        [ 684.25593209],\n        [ 685.03239274],\n        [ 686.13090467],\n        [ 687.4410243 ],\n        [ 698.6901381 ],\n        [ 699.56588602],\n        [ 700.30690265],\n        [ 700.5474124 ],\n        [ 701.4413619 ],\n        [ 702.0507822 ],\n        [ 702.2903831 ],\n        [ 725.53875875],\n        [ 954.73845673],\n        [ 957.25078321],\n        [ 957.74723911],\n        [ 958.22557354],\n        [ 963.71269131],\n        [ 969.31420231],\n        [ 970.68863487],\n        [ 970.91236234],\n        [ 972.12583447],\n        [ 973.63487101],\n        [ 974.141572  ],\n        [ 975.25133038],\n        [ 975.6503787 ],\n        [ 975.92077112],\n        [ 976.25854111],\n        [ 989.39770079],\n        [ 990.0191884 ],\n        [ 991.47399759],\n        [ 991.90615821],\n        [ 992.64285254],\n        [ 992.90987492],\n        [ 995.122823  ],\n        [ 996.19396806],\n        [ 996.632833  ],\n        [ 997.90575957],\n        [ 998.21002412],\n        [ 998.67398214],\n        [1003.16985154],\n        [1003.53893161],\n        [1004.02961874],\n        [1004.61952305],\n        [1005.37856102],\n        [1167.87372375],\n        [1170.35268569],\n        [1171.31534362],\n        [1174.03528094],\n        [1174.57753491],\n        [1175.6458478 ],\n        [1176.38605762],\n        [1178.22634029],\n        [1182.30216455],\n        [1183.89190102],\n        [1185.49045801],\n        [1185.7278204 ],\n        [1186.12977624],\n        [1188.07767844],\n        [1190.49383354],\n        [1190.96345091],\n        [1194.38645554],\n        [1195.0066731 ],\n        [1195.37845206],\n        [1196.87203979],\n        [1197.86675334],\n        [1198.87636852],\n        [1199.85053945],\n        [1200.74928951],\n        [1201.12234664],\n        [1202.08153129],\n        [1228.89338875],\n        [1229.13879013],\n        [1267.21843743],\n        [1318.72221661],\n        [1319.20137024],\n        [1411.6356113 ],\n        [1411.90785146],\n        [1412.36578584],\n        [1413.54815149],\n        [1413.98578215],\n        [1467.7146666 ],\n        [1468.64204836],\n        [1469.05778313],\n        [1469.85507703],\n        [1474.94406652],\n        [1475.85847211],\n        [1476.54224014],\n        [1477.09052587],\n        [1477.6939199 ],\n        [1478.09833813],\n        [1481.42537665],\n        [1481.7138927 ],\n        [1483.36326861],\n        [1483.6944046 ],\n        [1484.23724341],\n        [1485.00953341],\n        [1490.36973691],\n        [1490.80215549],\n        [1491.26214361],\n        [1491.97031689],\n        [1497.69128299],\n        [1501.29822493],\n        [1501.52242255],\n        [1700.2560246 ],\n        [1704.4334352 ],\n        [1750.65267754],\n        [1751.82514811],\n        [1752.30108094],\n        [1753.04290009],\n        [1755.34625387],\n        [1755.96259475],\n        [1756.65758586],\n        [1762.51036859],\n        [1786.81936598],\n        [1787.27415562],\n        [1789.83888745],\n        [1790.75283456],\n        [1791.48823476],\n        [1792.15745425],\n        [1793.73179388],\n        [1794.1626606 ],\n        [1795.074049  ],\n        [1795.97003627],\n        [1796.5794909 ],\n        [1803.32351184],\n        [1803.95397472],\n        [1810.78032422],\n        [1811.5184114 ],\n        [1811.9653039 ],\n        [1812.46698689],\n        [1813.13760734],\n        [1813.87363291],\n        [1814.41255188],\n        [1816.75268507],\n        [1821.27720881],\n        [1838.30556798],\n        [1853.28134274],\n        [1866.03400207],\n        [1867.19887424],\n        [1870.28982568],\n        [1871.08575988],\n        [1882.97909927],\n        [1883.28139734],\n        [1883.89120507],\n        [1884.46617222],\n        [1884.76836419],\n        [1885.23316741],\n        [1885.50546861],\n        [1886.00118494],\n        [1886.33533311],\n        [1887.24912882],\n        [1887.81694531],\n        [1888.31765437],\n        [1889.52159286],\n        [1919.34616303],\n        [1920.93034291],\n        [2008.43370342],\n        [2136.94513655],\n        [2159.43427157],\n        [2190.12633467],\n        [2217.01023245],\n        [2221.96938467],\n        [2230.11462784],\n        [2249.80270505],\n        [2306.00135946],\n        [2368.05096555],\n        [2369.98067212],\n        [2373.17001772],\n        [2373.41748214],\n        [2374.13938141],\n        [2375.04140949],\n        [2375.79257751],\n        [2376.28865457],\n        [2377.2646966 ],\n        [2378.47656631],\n        [2379.34343028],\n        [2379.96473074],\n        [2380.88187027],\n        [2383.79551053],\n        [2384.67273998],\n        [2385.40966797],\n        [2387.67672276],\n        [2389.18203592],\n        [2389.66681886],\n        [2390.03284025],\n        [2390.67412567],\n        [2392.73775887],\n        [2393.59729815],\n        [2394.22130609],\n        [2394.7204206 ],\n        [2402.4669354 ],\n        [2402.833956  ],\n        [2403.56914878],\n        [2404.54491258],\n        [2405.77802801],\n        [2632.93711853],\n        [2634.21132064],\n        [2635.31328678],\n        [2635.53668928],\n        [2635.90184665],\n        [2636.64044809],\n        [2637.05717921],\n        [2637.39317608],\n        [2638.25712299],\n        [2638.74905515],\n        [2643.71267748],\n        [2652.10460401],\n        [2653.37858605],\n        [2653.87269521],\n        [2654.97713041],\n        [2657.02284813],\n        [2659.97023273],\n        [2662.16458368],\n        [2663.79503942],\n        [2668.0117321 ],\n        [2670.7360158 ],\n        [2768.20888519],\n        [2768.86004901],\n        [2781.07392955],\n        [2781.68032122],\n        [2783.00885105],\n        [2799.5009048 ],\n        [2802.17676067],\n        [2802.83209991],\n        [2803.3283205 ],\n        [2805.89969301],\n        [2809.23261762],\n        [2891.28721189],\n        [2896.7680161 ],\n        [2897.00592113],\n        [2897.96413279],\n        [2898.20851374],\n        [2900.09623313],\n        [2901.53674221],\n        [2902.00072122],\n        [2902.88074946],\n        [2903.24880242],\n        [2917.72839046],\n        [2918.35245728],\n        [3079.44922352],\n        [3079.83925939],\n        [3080.78572893],\n        [3245.55312967],\n        [3284.8725841 ],\n        [3314.79752207],\n        [3315.50418901],\n        [3316.335922  ],\n        [3316.80067801],\n        [3317.37671828],\n        [3320.68761158],\n        [3321.83907104],\n        [3322.88069749],\n        [3323.31251192],\n        [3323.9510839 ],\n        [3324.2393136 ],\n        [3325.0973134 ],\n        [3325.72964549],\n        [3327.47161412],\n        [3328.06915522],\n        [3465.58419704],\n        [3664.21006608],\n        [3665.18551445],\n        [3665.76561761],\n        [3670.35119009],\n        [3670.66833568],\n        [3671.55206251],\n        [3753.66511869],\n        [3754.3070991 ],\n        [3758.07538939],\n        [3758.46517134],\n        [3764.83222747],\n        [3765.53638291],\n        [3766.70018029],\n        [3767.40986061],\n        [3768.08060551],\n        [3768.75239873],\n        [3769.64414144],\n        [3771.0251534 ],\n        [3771.8734026 ],\n        [3778.06349707],\n        [3778.64002872],\n        [3779.80515146],\n        [3780.28395557],\n        [3781.48771739],\n        [3783.08869767],\n        [3817.15214801],\n        [3817.68315244],\n        [3817.98434615],\n        [3877.51965547],\n        [3878.48114252],\n        [3878.84923244],\n        [3882.30365014],\n        [3883.54876733]]))"
     },
     "execution_count": 24,
     "metadata": {},
     "output_type": "execute_result"
    }
   ],
   "source": [
    "np.ones_like(onset_times), onset_times"
   ],
   "metadata": {
    "collapsed": false,
    "ExecuteTime": {
     "end_time": "2023-12-01T21:17:49.864176Z",
     "start_time": "2023-12-01T21:17:49.860646Z"
    }
   },
   "id": "8ed96dfb05f311f1"
  },
  {
   "cell_type": "code",
   "execution_count": 36,
   "id": "df9d73ddf0a4d54b",
   "metadata": {
    "ExecuteTime": {
     "end_time": "2023-12-01T21:23:51.590593Z",
     "start_time": "2023-12-01T21:23:51.507256Z"
    }
   },
   "outputs": [
    {
     "data": {
      "text/plain": "<Figure size 500x200 with 1 Axes>",
      "image/png": "[encoded data removed]"
     },
     "metadata": {},
     "output_type": "display_data"
    }
   ],
   "source": [
    "fig, ax = plt.subplots(1, 1, figsize=(5, 2))\n",
    "# top two, we are comparing consistency in real vs post-hoc\n",
    "ax.plot(onset_times,\n",
    "        np.ones_like(onset_times) + 0.3,\n",
    "        ls='', marker='|', markersize=1, c='k', alpha=1, label='realtime')\n",
    "\n",
    "ax.plot(behavior_times,\n",
    "        np.ones_like(behavior_times) + 0.2,\n",
    "        ls='', marker='|', markersize=1, c='b', alpha=1, label='asoid')\n",
    "\n",
    "# bottom two we are comparing where head groom is within grooming\n",
    "ax.plot(behavior_times_16,\n",
    "        np.ones_like(behavior_times_16)+ 0.1,\n",
    "        ls='', marker='|', markersize=1, c='r', alpha=1, label='bsoid')\n",
    "\n",
    "# bottom two we are comparing where head groom is within grooming\n",
    "ax.plot(behavior_times_16_1,\n",
    "        np.ones_like(behavior_times_16_1),\n",
    "        ls='', marker='|', markersize=1, c='purple', alpha=1, label='bsoid_2')\n",
    "\n",
    "ax.set_yticks([])\n",
    "ax.set_ylim([0.5, 2])\n",
    "# subset\n",
    "# ax.set_xlim([0, 250])\n",
    "\n",
    "\n",
    "ax.vlines(5*60, 0.5, 2)\n",
    "ax.vlines(35*60, 0.5, 2)\n",
    "ax.vlines(65*60, 0.5, 2)\n",
    "ax.set_ylim([0.5, 2])\n",
    "\n",
    "ax.set_title('realtime vs asoid grooming vs bsoid grooms')\n",
    "ax.spines[['right', 'top']].set_visible(False)\n",
    "ax.set_xlabel('Time (s)')\n",
    "ax.legend()\n",
    "plt.show()"
   ]
  },
  {
   "cell_type": "code",
   "execution_count": null,
   "outputs": [],
   "source": [],
   "metadata": {
    "collapsed": false
   },
   "id": "93c04fb91777ff66"
  },
  {
   "cell_type": "code",
   "execution_count": 10,
   "outputs": [
    {
     "data": {
      "text/plain": "(320, 349)"
     },
     "execution_count": 10,
     "metadata": {},
     "output_type": "execute_result"
    }
   ],
   "source": [
    "num_behaviors_post, len(onset_times)"
   ],
   "metadata": {
    "collapsed": false,
    "ExecuteTime": {
     "end_time": "2023-11-10T23:32:52.823581Z",
     "start_time": "2023-11-10T23:32:52.816498Z"
    }
   },
   "id": "a9d9058eabd94edb"
  },
  {
   "cell_type": "code",
   "execution_count": 7,
   "id": "ffeb4605-a565-48ed-bc08-44a107df1d27",
   "metadata": {
    "ExecuteTime": {
     "end_time": "2023-11-10T23:31:45.802081Z",
     "start_time": "2023-11-10T23:31:45.796394Z"
    }
   },
   "outputs": [
    {
     "name": "stdout",
     "output_type": "stream",
     "text": [
      "this session matched behavior 3 *** 63.582089552238806% of the time\n"
     ]
    }
   ],
   "source": [
    "idx_start = np.where(np.diff(predictions)!=0)[0]+1\n",
    "num_behaviors_post = np.unique([predictions[id_start] for id_start in idx_start if id_start < 35*60*10], \n",
    "                               return_counts=True)[1][stim_on]\n",
    "\n",
    "if len(onset_times[onset_times<35*60])<num_behaviors_post:\n",
    "    print(f'this session matched behavior {stim_on} *** {len(onset_times[onset_times<35*60])/num_behaviors_post*100}% of the time')\n",
    "else:\n",
    "    print(f'this session matched behavior {stim_on} *** {num_behaviors_post/len(onset_times[onset_times<35*60])*100}% of the time')\n"
   ]
  },
  {
   "cell_type": "code",
   "execution_count": 8,
   "outputs": [
    {
     "name": "stdout",
     "output_type": "stream",
     "text": [
      "this session matched behavior 3 *** 42.5% of the time\n"
     ]
    }
   ],
   "source": [
    "idx_start = np.where(np.diff(predictions)!=0)[0]+1\n",
    "num_behaviors_post = np.unique([predictions[id_start] for id_start in idx_start if id_start >= 35*60*10], \n",
    "                               return_counts=True)[1][stim_on]\n",
    "\n",
    "if len(onset_times[onset_times>=35*60])<num_behaviors_post:\n",
    "    print(f'this session matched behavior {stim_on} *** {len(onset_times[onset_times>=35*60])/num_behaviors_post*100}% of the time')\n",
    "else:\n",
    "    print(f'this session matched behavior {stim_on} *** {num_behaviors_post/len(onset_times[onset_times>=35*60])*100}% of the time')\n"
   ],
   "metadata": {
    "collapsed": false,
    "ExecuteTime": {
     "end_time": "2023-11-10T23:32:13.003717Z",
     "start_time": "2023-11-10T23:32:12.999294Z"
    }
   },
   "id": "89ec9dd827a79bc5"
  },
  {
   "cell_type": "code",
   "execution_count": null,
   "id": "553adaef-8a14-4737-9d21-b98cd2c2ae47",
   "metadata": {},
   "outputs": [],
   "source": [
    "idx_start = np.where(np.diff(predictions)!=0)[0]+1\n",
    "num_behaviors_post = np.unique([predictions[id_start] for id_start in idx_start], return_counts=True)[1][stim_on]\n",
    "\n",
    "if len(onset_times)<num_behaviors_post:\n",
    "    print(f'this session matched behavior {stim_on} *** {len(onset_times)/num_behaviors_post*100}% of the time')\n",
    "else:\n",
    "    print(f'this session matched behavior {stim_on} *** {num_behaviors_post/len(onset_times)*100}% of the time')\n"
   ]
  }
 ],
 "metadata": {
  "kernelspec": {
   "display_name": "Python 3 (ipykernel)",
   "language": "python",
   "name": "python3"
  },
  "language_info": {
   "codemirror_mode": {
    "name": "ipython",
    "version": 3
   },
   "file_extension": ".py",
   "mimetype": "text/x-python",
   "name": "python",
   "nbconvert_exporter": "python",
   "pygments_lexer": "ipython3",
   "version": "3.8.0"
  }
 },
 "nbformat": 4,
 "nbformat_minor": 5
}
