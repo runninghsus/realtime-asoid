{
 "cells": [
  {
   "cell_type": "code",
   "execution_count": 1,
   "id": "initial_id",
   "metadata": {
    "collapsed": true,
    "ExecuteTime": {
     "end_time": "2023-11-04T17:20:55.373055Z",
     "start_time": "2023-11-04T17:20:54.857278Z"
    }
   },
   "outputs": [],
   "source": [
    "import pandas as pd\n",
    "import numpy as np\n",
    "import matplotlib.pyplot as plt"
   ]
  },
  {
   "cell_type": "code",
   "execution_count": 2,
   "outputs": [],
   "source": [
    "timestamp_file = '../videos/video_1_sim_timestamps.csv'\n",
    "stimtime_df = pd.read_csv(timestamp_file)"
   ],
   "metadata": {
    "collapsed": false,
    "ExecuteTime": {
     "end_time": "2023-11-04T17:21:24.300093Z",
     "start_time": "2023-11-04T17:21:24.293401Z"
    }
   },
   "id": "96127563e84ca0d3"
  },
  {
   "cell_type": "code",
   "execution_count": 3,
   "outputs": [
    {
     "data": {
      "text/plain": "   Experiment_Start  (1, 'Stim_Start')  (2, 'Stim_Start')  (3, 'Stim_Start')  \\\n0      1.699043e+09       1.699043e+09       1.699043e+09       1.699043e+09   \n\n   (4, 'Stim_Start')  (5, 'Stim_Start')  (6, 'Stim_Start')  (7, 'Stim_Start')  \\\n0       1.699043e+09       1.699043e+09       1.699043e+09       1.699043e+09   \n\n   (8, 'Stim_Start')  (9, 'Stim_Start')  ...  (61, 'Stim_Start')  \\\n0       1.699043e+09       1.699043e+09  ...        1.699043e+09   \n\n   (62, 'Stim_Start')  (63, 'Stim_Start')  (64, 'Stim_Start')  \\\n0        1.699043e+09        1.699043e+09        1.699043e+09   \n\n   (65, 'Stim_Start')  (66, 'Stim_Start')  (67, 'Stim_Start')  \\\n0        1.699043e+09        1.699043e+09        1.699043e+09   \n\n   (68, 'Stim_Start')  (69, 'Stim_Start')  (70, 'Stim_Start')  \n0        1.699043e+09        1.699043e+09        1.699043e+09  \n\n[1 rows x 71 columns]",
      "text/html": "<div>\n<style scoped>\n    .dataframe tbody tr th:only-of-type {\n        vertical-align: middle;\n    }\n\n    .dataframe tbody tr th {\n        vertical-align: top;\n    }\n\n    .dataframe thead th {\n        text-align: right;\n    }\n</style>\n<table border=\"1\" class=\"dataframe\">\n  <thead>\n    <tr style=\"text-align: right;\">\n      <th></th>\n      <th>Experiment_Start</th>\n      <th>(1, 'Stim_Start')</th>\n      <th>(2, 'Stim_Start')</th>\n      <th>(3, 'Stim_Start')</th>\n      <th>(4, 'Stim_Start')</th>\n      <th>(5, 'Stim_Start')</th>\n      <th>(6, 'Stim_Start')</th>\n      <th>(7, 'Stim_Start')</th>\n      <th>(8, 'Stim_Start')</th>\n      <th>(9, 'Stim_Start')</th>\n      <th>...</th>\n      <th>(61, 'Stim_Start')</th>\n      <th>(62, 'Stim_Start')</th>\n      <th>(63, 'Stim_Start')</th>\n      <th>(64, 'Stim_Start')</th>\n      <th>(65, 'Stim_Start')</th>\n      <th>(66, 'Stim_Start')</th>\n      <th>(67, 'Stim_Start')</th>\n      <th>(68, 'Stim_Start')</th>\n      <th>(69, 'Stim_Start')</th>\n      <th>(70, 'Stim_Start')</th>\n    </tr>\n  </thead>\n  <tbody>\n    <tr>\n      <th>0</th>\n      <td>1.699043e+09</td>\n      <td>1.699043e+09</td>\n      <td>1.699043e+09</td>\n      <td>1.699043e+09</td>\n      <td>1.699043e+09</td>\n      <td>1.699043e+09</td>\n      <td>1.699043e+09</td>\n      <td>1.699043e+09</td>\n      <td>1.699043e+09</td>\n      <td>1.699043e+09</td>\n      <td>...</td>\n      <td>1.699043e+09</td>\n      <td>1.699043e+09</td>\n      <td>1.699043e+09</td>\n      <td>1.699043e+09</td>\n      <td>1.699043e+09</td>\n      <td>1.699043e+09</td>\n      <td>1.699043e+09</td>\n      <td>1.699043e+09</td>\n      <td>1.699043e+09</td>\n      <td>1.699043e+09</td>\n    </tr>\n  </tbody>\n</table>\n<p>1 rows × 71 columns</p>\n</div>"
     },
     "execution_count": 3,
     "metadata": {},
     "output_type": "execute_result"
    }
   ],
   "source": [
    "stimtime_df"
   ],
   "metadata": {
    "collapsed": false,
    "ExecuteTime": {
     "end_time": "2023-11-04T17:21:26.175655Z",
     "start_time": "2023-11-04T17:21:26.169865Z"
    }
   },
   "id": "d859fecf73543a84"
  },
  {
   "cell_type": "code",
   "execution_count": 29,
   "outputs": [],
   "source": [
    "# reference to experiment start time\n",
    "stim_keys = list(stimtime_df.keys())[1:]\n",
    "onset_ls = []\n",
    "for stim_key in stim_keys:\n",
    "    onset_ls.append(stimtime_df[stim_key] - stimtime_df['Experiment_Start'])\n",
    "onset_times = np.array(onset_ls)"
   ],
   "metadata": {
    "collapsed": false,
    "ExecuteTime": {
     "end_time": "2023-11-04T17:33:40.651151Z",
     "start_time": "2023-11-04T17:33:40.647728Z"
    }
   },
   "id": "822b123bb13b3988"
  },
  {
   "cell_type": "code",
   "execution_count": 45,
   "outputs": [
    {
     "data": {
      "text/plain": "<Figure size 600x50 with 1 Axes>",
      "image/png": "[encoded data removed]"
     },
     "metadata": {},
     "output_type": "display_data"
    }
   ],
   "source": [
    "fig, ax = plt.subplots(1, 1, figsize=(6, 0.5))\n",
    "ax.plot(onset_times,\n",
    "        np.ones_like(onset_times),\n",
    "        ls='', marker='|', markersize=1.5, c='k', alpha=1)\n",
    "ax.set_yticks([])\n",
    "ax.set_title('Stim/Bout starts')\n",
    "ax.spines[['right', 'top']].set_visible(False)\n",
    "ax.set_xlabel('Time (s)')\n",
    "plt.show()"
   ],
   "metadata": {
    "collapsed": false,
    "ExecuteTime": {
     "end_time": "2023-11-04T17:40:55.397875Z",
     "start_time": "2023-11-04T17:40:55.357727Z"
    }
   },
   "id": "e2b360128d0abe11"
  },
  {
   "cell_type": "markdown",
   "source": [
    "### Save processed file"
   ],
   "metadata": {
    "collapsed": false
   },
   "id": "8daff69f35687c1c"
  },
  {
   "cell_type": "code",
   "execution_count": 46,
   "outputs": [],
   "source": [
    "np.save('../processed_data/onset_times.npy', onset_times)"
   ],
   "metadata": {
    "collapsed": false,
    "ExecuteTime": {
     "end_time": "2023-11-04T17:41:49.976816Z",
     "start_time": "2023-11-04T17:41:49.973200Z"
    }
   },
   "id": "4b4f13aa5eccbfd6"
  },
  {
   "cell_type": "code",
   "execution_count": null,
   "outputs": [],
   "source": [],
   "metadata": {
    "collapsed": false
   },
   "id": "cee614d42c2225bc"
  }
 ],
 "metadata": {
  "kernelspec": {
   "display_name": "Python 3",
   "language": "python",
   "name": "python3"
  },
  "language_info": {
   "codemirror_mode": {
    "name": "ipython",
    "version": 2
   },
   "file_extension": ".py",
   "mimetype": "text/x-python",
   "name": "python",
   "nbconvert_exporter": "python",
   "pygments_lexer": "ipython2",
   "version": "2.7.6"
  }
 },
 "nbformat": 4,
 "nbformat_minor": 5
}
