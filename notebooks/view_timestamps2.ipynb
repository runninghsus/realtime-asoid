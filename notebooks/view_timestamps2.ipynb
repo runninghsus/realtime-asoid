{
 "cells": [
  {
   "cell_type": "code",
   "execution_count": 1,
   "id": "initial_id",
   "metadata": {
    "ExecuteTime": {
     "end_time": "2023-11-05T04:21:43.831702Z",
     "start_time": "2023-11-05T04:21:43.280995Z"
    },
    "collapsed": true
   },
   "outputs": [],
   "source": [
    "import pandas as pd\n",
    "import numpy as np\n",
    "import matplotlib.pyplot as plt"
   ]
  },
  {
   "cell_type": "code",
   "execution_count": 2,
   "id": "96127563e84ca0d3",
   "metadata": {
    "ExecuteTime": {
     "end_time": "2023-11-05T04:21:47.140350Z",
     "start_time": "2023-11-05T04:21:47.134942Z"
    }
   },
   "outputs": [],
   "source": [
    "timestamp_file = '../videos/video_1_sim2_timestamps.csv'\n",
    "stimtime_df = pd.read_csv(timestamp_file)"
   ]
  },
  {
   "cell_type": "code",
   "execution_count": 3,
   "id": "d859fecf73543a84",
   "metadata": {
    "ExecuteTime": {
     "end_time": "2023-11-05T04:21:48.150193Z",
     "start_time": "2023-11-05T04:21:48.140765Z"
    }
   },
   "outputs": [
    {
     "data": {
      "text/html": [
       "<div>\n",
       "<style scoped>\n",
       "    .dataframe tbody tr th:only-of-type {\n",
       "        vertical-align: middle;\n",
       "    }\n",
       "\n",
       "    .dataframe tbody tr th {\n",
       "        vertical-align: top;\n",
       "    }\n",
       "\n",
       "    .dataframe thead th {\n",
       "        text-align: right;\n",
       "    }\n",
       "</style>\n",
       "<table border=\"1\" class=\"dataframe\">\n",
       "  <thead>\n",
       "    <tr style=\"text-align: right;\">\n",
       "      <th></th>\n",
       "      <th>Experiment_Start</th>\n",
       "      <th>(1, 'Stim_Start')</th>\n",
       "      <th>(2, 'Stim_Start')</th>\n",
       "      <th>(3, 'Stim_Start')</th>\n",
       "      <th>(4, 'Stim_Start')</th>\n",
       "      <th>(5, 'Stim_Start')</th>\n",
       "      <th>(6, 'Stim_Start')</th>\n",
       "      <th>(7, 'Stim_Start')</th>\n",
       "      <th>(8, 'Stim_Start')</th>\n",
       "      <th>(9, 'Stim_Start')</th>\n",
       "      <th>...</th>\n",
       "      <th>(59, 'Stim_Start')</th>\n",
       "      <th>(60, 'Stim_Start')</th>\n",
       "      <th>(61, 'Stim_Start')</th>\n",
       "      <th>(62, 'Stim_Start')</th>\n",
       "      <th>(63, 'Stim_Start')</th>\n",
       "      <th>(64, 'Stim_Start')</th>\n",
       "      <th>(65, 'Stim_Start')</th>\n",
       "      <th>(66, 'Stim_Start')</th>\n",
       "      <th>(67, 'Stim_Start')</th>\n",
       "      <th>(68, 'Stim_Start')</th>\n",
       "    </tr>\n",
       "  </thead>\n",
       "  <tbody>\n",
       "    <tr>\n",
       "      <th>0</th>\n",
       "      <td>1.699131e+09</td>\n",
       "      <td>1.699131e+09</td>\n",
       "      <td>1.699131e+09</td>\n",
       "      <td>1.699131e+09</td>\n",
       "      <td>1.699131e+09</td>\n",
       "      <td>1.699131e+09</td>\n",
       "      <td>1.699131e+09</td>\n",
       "      <td>1.699131e+09</td>\n",
       "      <td>1.699131e+09</td>\n",
       "      <td>1.699131e+09</td>\n",
       "      <td>...</td>\n",
       "      <td>1.699131e+09</td>\n",
       "      <td>1.699131e+09</td>\n",
       "      <td>1.699131e+09</td>\n",
       "      <td>1.699131e+09</td>\n",
       "      <td>1.699131e+09</td>\n",
       "      <td>1.699131e+09</td>\n",
       "      <td>1.699131e+09</td>\n",
       "      <td>1.699131e+09</td>\n",
       "      <td>1.699131e+09</td>\n",
       "      <td>1.699131e+09</td>\n",
       "    </tr>\n",
       "  </tbody>\n",
       "</table>\n",
       "<p>1 rows × 69 columns</p>\n",
       "</div>"
      ],
      "text/plain": [
       "   Experiment_Start  (1, 'Stim_Start')  (2, 'Stim_Start')  (3, 'Stim_Start')  \\\n",
       "0      1.699131e+09       1.699131e+09       1.699131e+09       1.699131e+09   \n",
       "\n",
       "   (4, 'Stim_Start')  (5, 'Stim_Start')  (6, 'Stim_Start')  (7, 'Stim_Start')  \\\n",
       "0       1.699131e+09       1.699131e+09       1.699131e+09       1.699131e+09   \n",
       "\n",
       "   (8, 'Stim_Start')  (9, 'Stim_Start')  ...  (59, 'Stim_Start')  \\\n",
       "0       1.699131e+09       1.699131e+09  ...        1.699131e+09   \n",
       "\n",
       "   (60, 'Stim_Start')  (61, 'Stim_Start')  (62, 'Stim_Start')  \\\n",
       "0        1.699131e+09        1.699131e+09        1.699131e+09   \n",
       "\n",
       "   (63, 'Stim_Start')  (64, 'Stim_Start')  (65, 'Stim_Start')  \\\n",
       "0        1.699131e+09        1.699131e+09        1.699131e+09   \n",
       "\n",
       "   (66, 'Stim_Start')  (67, 'Stim_Start')  (68, 'Stim_Start')  \n",
       "0        1.699131e+09        1.699131e+09        1.699131e+09  \n",
       "\n",
       "[1 rows x 69 columns]"
      ]
     },
     "execution_count": 3,
     "metadata": {},
     "output_type": "execute_result"
    }
   ],
   "source": [
    "stimtime_df"
   ]
  },
  {
   "cell_type": "code",
   "execution_count": 4,
   "id": "822b123bb13b3988",
   "metadata": {
    "ExecuteTime": {
     "end_time": "2023-11-05T04:21:50.964673Z",
     "start_time": "2023-11-05T04:21:50.962438Z"
    }
   },
   "outputs": [],
   "source": [
    "# reference to experiment start time\n",
    "stim_keys = list(stimtime_df.keys())[1:]\n",
    "onset_ls = []\n",
    "for stim_key in stim_keys:\n",
    "    onset_ls.append(stimtime_df[stim_key] - stimtime_df['Experiment_Start'])\n",
    "onset_times = np.array(onset_ls)"
   ]
  },
  {
   "cell_type": "code",
   "execution_count": 5,
   "id": "e2b360128d0abe11",
   "metadata": {
    "ExecuteTime": {
     "end_time": "2023-11-05T04:21:55.086282Z",
     "start_time": "2023-11-05T04:21:55.024593Z"
    }
   },
   "outputs": [
    {
     "data": {
      "image/png": "[encoded data removed]",
      "text/plain": [
       "<Figure size 600x50 with 1 Axes>"
      ]
     },
     "metadata": {},
     "output_type": "display_data"
    }
   ],
   "source": [
    "fig, ax = plt.subplots(1, 1, figsize=(6, 0.5))\n",
    "ax.plot(onset_times,\n",
    "        np.ones_like(onset_times),\n",
    "        ls='', marker='|', markersize=1.5, c='k', alpha=1)\n",
    "ax.set_yticks([])\n",
    "ax.set_title('Stim/Bout starts')\n",
    "ax.spines[['right', 'top']].set_visible(False)\n",
    "ax.set_xlabel('Time (s)')\n",
    "plt.show()"
   ]
  },
  {
   "cell_type": "markdown",
   "id": "8daff69f35687c1c",
   "metadata": {},
   "source": [
    "### Save processed file"
   ]
  },
  {
   "cell_type": "code",
   "execution_count": 6,
   "id": "4b4f13aa5eccbfd6",
   "metadata": {
    "ExecuteTime": {
     "end_time": "2023-11-05T04:22:15.897116Z",
     "start_time": "2023-11-05T04:22:15.893276Z"
    }
   },
   "outputs": [],
   "source": [
    "np.save('../processed_data/onset_times2.npy', onset_times)"
   ]
  },
  {
   "cell_type": "code",
   "execution_count": null,
   "id": "cee614d42c2225bc",
   "metadata": {},
   "outputs": [],
   "source": []
  }
 ],
 "metadata": {
  "kernelspec": {
   "display_name": "Python 3 (ipykernel)",
   "language": "python",
   "name": "python3"
  },
  "language_info": {
   "codemirror_mode": {
    "name": "ipython",
    "version": 3
   },
   "file_extension": ".py",
   "mimetype": "text/x-python",
   "name": "python",
   "nbconvert_exporter": "python",
   "pygments_lexer": "ipython3",
   "version": "3.8.0"
  }
 },
 "nbformat": 4,
 "nbformat_minor": 5
}
